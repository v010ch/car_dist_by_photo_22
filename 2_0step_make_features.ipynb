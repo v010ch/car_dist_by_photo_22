{
 "cells": [
  {
   "cell_type": "code",
   "execution_count": null,
   "id": "0fe2d185",
   "metadata": {
    "collapsed": false,
    "jupyter": {
     "outputs_hidden": false
    }
   },
   "outputs": [],
   "source": [
    "%load_ext watermark\n",
    "%watermark"
   ]
  },
  {
   "cell_type": "code",
   "execution_count": null,
   "id": "bc951c39",
   "metadata": {},
   "outputs": [],
   "source": [
    "import time\n",
    "notebookstart = time.time()"
   ]
  },
  {
   "cell_type": "code",
   "execution_count": null,
   "id": "1bce8e66",
   "metadata": {
    "collapsed": false,
    "jupyter": {
     "outputs_hidden": false
    }
   },
   "outputs": [],
   "source": [
    "import torch"
   ]
  },
  {
   "cell_type": "code",
   "execution_count": null,
   "id": "62bb5c89",
   "metadata": {},
   "outputs": [],
   "source": [
    "import os\n",
    "from typing import List, Tuple, Optional\n",
    "\n",
    "import pandas as pd\n",
    "import numpy as np\n",
    "\n",
    "from PIL import Image\n",
    "from pillow_heif import register_heif_opener\n",
    "register_heif_opener() # for using Image.open for .heic without changes\n",
    "\n",
    "from tqdm.auto import tqdm\n",
    "tqdm.pandas()"
   ]
  },
  {
   "cell_type": "code",
   "execution_count": null,
   "id": "89a08a4b",
   "metadata": {},
   "outputs": [],
   "source": [
    "#import matplotlib\n",
    "import matplotlib.pyplot as plt\n",
    "import seaborn as sns"
   ]
  },
  {
   "cell_type": "code",
   "execution_count": null,
   "id": "fe90b392",
   "metadata": {},
   "outputs": [],
   "source": [
    "%matplotlib inline"
   ]
  },
  {
   "cell_type": "code",
   "execution_count": null,
   "id": "e0927eec",
   "metadata": {
    "collapsed": false,
    "jupyter": {
     "outputs_hidden": false
    }
   },
   "outputs": [],
   "source": [
    "%watermark --iversions"
   ]
  },
  {
   "cell_type": "code",
   "execution_count": null,
   "id": "ef131096",
   "metadata": {
    "tags": []
   },
   "outputs": [],
   "source": []
  },
  {
   "cell_type": "markdown",
   "id": "e60d08d7",
   "metadata": {},
   "source": [
    "# Блок для воспроизводимости результата"
   ]
  },
  {
   "cell_type": "code",
   "execution_count": null,
   "id": "0cc03c1c",
   "metadata": {},
   "outputs": [],
   "source": [
    "# seed the RNG for all devices (both CPU and CUDA)\n",
    "#torch.manual_seed(1984)\n",
    "\n",
    "#Disabling the benchmarking feature causes cuDNN to deterministically select an algorithm, \n",
    "#possibly at the cost of reduced performance.\n",
    "#torch.backends.cudnn.benchmark = False\n",
    "\n",
    "# for custom operators,\n",
    "import random\n",
    "random.seed(5986721)\n",
    "\n",
    "# \n",
    "np.random.seed(62185)\n",
    "\n",
    "#sklearn take seed from a line abowe\n",
    "\n",
    "CB_RANDOMSEED  = 309487\n",
    "XGB_RANDOMSEED = 56\n",
    "LGB_RANDOMSEED = 874256"
   ]
  },
  {
   "cell_type": "code",
   "execution_count": null,
   "id": "1efb878b",
   "metadata": {
    "tags": []
   },
   "outputs": [],
   "source": []
  },
  {
   "cell_type": "markdown",
   "id": "f30a99ca-7964-4acc-8fed-4799999c9547",
   "metadata": {},
   "source": [
    "# Выставление констант"
   ]
  },
  {
   "cell_type": "code",
   "execution_count": null,
   "id": "a0be230c",
   "metadata": {},
   "outputs": [],
   "source": [
    "DIR_DATA = os.path.join(os.getcwd(), 'data')\n",
    "DIR_SUBM = os.path.join(os.getcwd(), 'subm')\n",
    "DIR_SUBM_TRAIN = os.path.join(os.getcwd(), 'subm', 'train')\n",
    "DIR_DATA_TRAIN = os.path.join(DIR_DATA, 'train')\n",
    "DIR_DATA_TEST  = os.path.join(DIR_DATA, 'test')"
   ]
  },
  {
   "cell_type": "code",
   "execution_count": null,
   "id": "367ab5f4",
   "metadata": {
    "tags": []
   },
   "outputs": [],
   "source": []
  },
  {
   "cell_type": "markdown",
   "id": "6955f6e6",
   "metadata": {},
   "source": [
    "# Загрузка и подготовка данных"
   ]
  },
  {
   "cell_type": "code",
   "execution_count": null,
   "id": "7db25cfd",
   "metadata": {
    "collapsed": false,
    "jupyter": {
     "outputs_hidden": false
    }
   },
   "outputs": [],
   "source": [
    "test_img_names  = set(os.listdir(DIR_DATA_TEST))\n",
    "train_img_names = set(os.listdir(DIR_DATA_TRAIN))\n",
    "len(test_img_names), len(train_img_names)"
   ]
  },
  {
   "cell_type": "code",
   "execution_count": null,
   "id": "6c8081a0",
   "metadata": {},
   "outputs": [],
   "source": [
    "train_labels_df = pd.read_csv(os.path.join(DIR_DATA, 'train.csv'), sep=';', index_col=None)"
   ]
  },
  {
   "cell_type": "code",
   "execution_count": null,
   "id": "7555e985",
   "metadata": {
    "tags": []
   },
   "outputs": [],
   "source": []
  },
  {
   "cell_type": "code",
   "execution_count": null,
   "id": "4f0bf968",
   "metadata": {
    "tags": []
   },
   "outputs": [],
   "source": []
  },
  {
   "cell_type": "code",
   "execution_count": null,
   "id": "a8b88833",
   "metadata": {
    "tags": []
   },
   "outputs": [],
   "source": []
  },
  {
   "cell_type": "code",
   "execution_count": null,
   "id": "58d8b4f3",
   "metadata": {},
   "outputs": [],
   "source": [
    "def get_car_center(inp_tensor: torch.Tensor) -> Tuple[int, int]:\n",
    "    \"\"\"\n",
    "    Получение цетра рамки автомашины в координатах всего изображения\n",
    "    args:\n",
    "        inp_tensor - координаты рамки автомобиля\n",
    "    return:\n",
    "        координаты центра\n",
    "    \"\"\"\n",
    "    car_cntr = (int((inp_tensor[2].int().item() - inp_tensor[0].int().item())/2 + inp_tensor[0].int().item()),\n",
    "                int((inp_tensor[3].int().item() - inp_tensor[1].int().item())/2 + inp_tensor[1].int().item())\n",
    "        )\n",
    "    \n",
    "    return car_cntr"
   ]
  },
  {
   "cell_type": "code",
   "execution_count": null,
   "id": "6a6bd7d4",
   "metadata": {},
   "outputs": [],
   "source": [
    "def get_center_dist(inp_center: Tuple[int, int], inp_point: Tuple[int, int]) -> float:\n",
    "    \"\"\"\n",
    "    Получение расстояния (евклидова) от центра изображения до заданной точки.\n",
    "    Заданная точка в текущей задаче - центр рамки автомобиля\n",
    "    args:\n",
    "        inp_center - координаты центра изображения\n",
    "        inp_point  - координаты точки, до которой определяется расстояние (центр рамки автомобиля)\n",
    "    return:\n",
    "        float - расстояние\n",
    "    \"\"\"\n",
    "    return np.sqrt((inp_center[0] - inp_point[0])**2 + \\\n",
    "                   (inp_center[1] - inp_point[1])**2)"
   ]
  },
  {
   "cell_type": "code",
   "execution_count": null,
   "id": "95247b1c",
   "metadata": {},
   "outputs": [],
   "source": [
    "def determine_targ_car(inp_results, inp_img_cntr: Tuple[int, int]) -> int:\n",
    "    \"\"\"\n",
    "    Определение рамки целевого автомобиля:\n",
    "     - класс - автомобиль\n",
    "     - габариты по длине и ширине не менее 200 пикселей\n",
    "     - наименьшее расстояние до центра изображения\n",
    "    args:\n",
    "        inp_results - координаты найденных модельб рамок\n",
    "    return:\n",
    "       int - порядковый номер рамки целевой автомашины\n",
    "    \"\"\"\n",
    "    min_dist = 1000000\n",
    "    min_idx  = -1\n",
    "    \n",
    "    for el in range(inp_results.xyxy[0].shape[0]):\n",
    "        # учитываем только машины (рудимент - из модели не убрал рамки пешеходов)\n",
    "        if inp_results.xyxy[0][el][5].int().item() != 2:\n",
    "            continue\n",
    "            \n",
    "        # минимальные габариты учитываемых машин\n",
    "        # в противном случае иногда ближе к центру оказываются машины например 27х54\n",
    "        h = inp_results.xyxy[0][el][3] - inp_results.xyxy[0][el][1]\n",
    "        w = inp_results.xyxy[0][el][2] - inp_results.xyxy[0][el][0]\n",
    "        if w < 200 or h < 200:\n",
    "            continue\n",
    "            \n",
    "            \n",
    "        car_cntr = get_car_center(inp_results.xyxy[0][el])\n",
    "        cur_dist = get_center_dist(inp_img_cntr, car_cntr)\n",
    "        if cur_dist < min_dist:\n",
    "            min_dist = cur_dist\n",
    "            min_idx = el\n",
    "\n",
    "    return min_idx"
   ]
  },
  {
   "cell_type": "code",
   "execution_count": null,
   "id": "e1e68708",
   "metadata": {},
   "outputs": [],
   "source": [
    "def create_car_feeatures_yolo(inp_fnames: List[str], inp_dir: str, inp_model, use_centr: Optional[bool] = False) -> pd.DataFrame:\n",
    "    \"\"\"\n",
    "    Создание признаков координат рамок целового автомобиля и их линейных размеров\n",
    "    args:\n",
    "        inp_fnames - список изображений для построения признаков\n",
    "        inp_dir - директория файлов изображений\n",
    "        inp_model - модель для определения рамок автомобилей на изображении\n",
    "        use_centr - признак выбирать ли центральный автомобиль или 0й\n",
    "    return:\n",
    "        DataFrame - для каждого изображения сопоставлена строка из значений\n",
    "                    car_x_min, car_y_min, car_x_max, car_y_max, car_conf, car_class, car_h, car_w\n",
    "    \"\"\"\n",
    "    ret_data = []\n",
    "\n",
    "    for img_name in tqdm(inp_fnames): \n",
    "        img = Image.open(os.path.join(inp_dir, img_name))\n",
    "        \n",
    "        \n",
    "        img = np.array(img)\n",
    "        results = inp_model(img)\n",
    "    \n",
    "        # найден хотя бы один объект\n",
    "        if results.xyxy[0].shape != torch.Size([0, 6]):\n",
    "\n",
    "            # искать ближайший к центру кадра объект?   \n",
    "            if use_centr:\n",
    "                img_cntr = (int(img.shape[1]/2), int(img.shape[0]/2))\n",
    "                target_goal = determine_targ_car(results, img_cntr)\n",
    "            else:\n",
    "                target_goal = 0\n",
    "\n",
    "            if target_goal < 0:\n",
    "                print(f'wtf2, {img_name}   {results.xyxy[0].shape}')\n",
    "                continue\n",
    "                \n",
    "            h = results.xyxy[0][target_goal][3] - results.xyxy[0][target_goal][1]\n",
    "            w = results.xyxy[0][target_goal][2] - results.xyxy[0][target_goal][0]\n",
    "            results = results.xyxy[0][target_goal].numpy().tolist() + [h.item(), w.item()]\n",
    "            \n",
    "            # позволим алгоритмам самим выбирать как заполнить пропуски\n",
    "            ret_data.append([img_name] + results)\n",
    "            \n",
    "            \n",
    "            #get_label_plate_features(img, results)\n",
    "            \n",
    "        # на изобрадении не найдено ни одного автомобиля, удовлетворяющего условиям.\n",
    "        # просто сообщаем об этом. в датасете будут Nan для таких изображений.\n",
    "        # посзволим catboost самой решить что делать с такими пропусками.\n",
    "        else:\n",
    "            print(f'wtf, {img_name}   {results.xyxy[0].shape}')\n",
    "\n",
    "        \n",
    "    ret_data = pd.DataFrame(ret_data, columns = ['image_name', 'car_x_min', 'car_y_min', 'car_x_max', 'car_y_max', 'car_conf', 'car_class', 'car_h', 'car_w'])\n",
    "        \n",
    "    return ret_data"
   ]
  },
  {
   "cell_type": "code",
   "execution_count": null,
   "id": "aa05d6c3",
   "metadata": {
    "tags": []
   },
   "outputs": [],
   "source": []
  },
  {
   "cell_type": "markdown",
   "id": "f429c016-a18a-4494-83a6-053c7d1b1df3",
   "metadata": {},
   "source": [
    "# Создаем признаки"
   ]
  },
  {
   "cell_type": "code",
   "execution_count": null,
   "id": "5fad7220",
   "metadata": {
    "collapsed": false,
    "jupyter": {
     "outputs_hidden": false
    }
   },
   "outputs": [],
   "source": [
    "model = torch.hub.load('ultralytics/yolov5', 'yolov5l')  #\n",
    "#model_plate = torch.hub.load('ultralytics/yolov5', 'custom', path = './models/best_y5m_full_4e.pt', source='local')\n",
    "#model_plate = torch.load('./models/last_y5m_full_4e.pt')\n",
    "\n",
    "_ = model.cpu()"
   ]
  },
  {
   "cell_type": "code",
   "execution_count": null,
   "id": "0f17b12b",
   "metadata": {
    "tags": []
   },
   "outputs": [],
   "source": []
  },
  {
   "cell_type": "code",
   "execution_count": null,
   "id": "a92f7352",
   "metadata": {},
   "outputs": [],
   "source": [
    "train_df = create_car_feeatures_yolo(train_img_names, DIR_DATA_TRAIN, model, use_centr = True) #use_centr\n",
    "train_df = pd.merge(train_labels_df, train_df, how='left')\n",
    "train_df.shape"
   ]
  },
  {
   "cell_type": "code",
   "execution_count": null,
   "id": "eceab4a4",
   "metadata": {},
   "outputs": [],
   "source": [
    "test_df = create_car_feeatures_yolo(test_img_names, DIR_DATA_TEST, model, use_centr = True) #use_centr\n",
    "test_df.shape"
   ]
  },
  {
   "cell_type": "markdown",
   "id": "a38f74e4",
   "metadata": {},
   "source": [
    "yolov5 не найдено машин:     \n",
    "train:   \n",
    "img_1890.jpg (w&h < 200),     \n",
    "\n",
    "test:   \n",
    "img_1888.jpg (w&h < 200),   \n",
    "img_1889.jpg(only person)   \n",
    "img_2674.heic,   \n",
    "img_2571.jpg (w&h < 200),   "
   ]
  },
  {
   "cell_type": "code",
   "execution_count": null,
   "id": "ef9e8d3b",
   "metadata": {
    "tags": []
   },
   "outputs": [],
   "source": []
  },
  {
   "cell_type": "code",
   "execution_count": null,
   "id": "4e9c0cd3",
   "metadata": {},
   "outputs": [],
   "source": [
    "sns.histplot(train_df, x = 'car_h')\n",
    "plt.show()"
   ]
  },
  {
   "cell_type": "code",
   "execution_count": null,
   "id": "7ac3f4bb-2c27-46cb-bff4-ddefc49c0067",
   "metadata": {},
   "outputs": [],
   "source": [
    "sns.histplot(test_df, x = 'car_w')\n",
    "plt.show()"
   ]
  },
  {
   "cell_type": "code",
   "execution_count": null,
   "id": "cf85f299",
   "metadata": {},
   "outputs": [],
   "source": [
    "sns.histplot(train_df, x = 'car_w')\n",
    "plt.show()"
   ]
  },
  {
   "cell_type": "code",
   "execution_count": null,
   "id": "da66fa70",
   "metadata": {
    "tags": []
   },
   "outputs": [],
   "source": [
    "sns.histplot(test_df, x = 'car_w')\n",
    "plt.show()"
   ]
  },
  {
   "cell_type": "code",
   "execution_count": null,
   "id": "bb092f36-2808-47a9-8ec0-213cb4dc14e4",
   "metadata": {},
   "outputs": [],
   "source": []
  },
  {
   "cell_type": "code",
   "execution_count": null,
   "id": "391d43d1",
   "metadata": {
    "tags": []
   },
   "outputs": [],
   "source": []
  },
  {
   "cell_type": "code",
   "execution_count": null,
   "id": "bce0db3e",
   "metadata": {},
   "outputs": [],
   "source": [
    "for el in ['car_x_min', 'car_y_min', 'car_x_max', 'car_y_max', 'car_h', 'car_w']:\n",
    "    train_df[f'log_{el}'] = train_df[el].apply(lambda x: np.log(x))\n",
    "    test_df[f'log_{el}'] = test_df[el].apply(lambda x: np.log(x))"
   ]
  },
  {
   "cell_type": "code",
   "execution_count": null,
   "id": "d52298fa",
   "metadata": {},
   "outputs": [],
   "source": [
    "train_df.head(10)"
   ]
  },
  {
   "cell_type": "code",
   "execution_count": null,
   "id": "7dbedb6b",
   "metadata": {
    "tags": []
   },
   "outputs": [],
   "source": []
  },
  {
   "cell_type": "code",
   "execution_count": null,
   "id": "33353213",
   "metadata": {},
   "outputs": [],
   "source": [
    "train_df.to_csv(os.path.join(DIR_DATA, 'train_upd.csv'), index = False)\n",
    "test_df.to_csv(os.path.join(DIR_DATA, 'test_upd.csv'), index = False)"
   ]
  },
  {
   "cell_type": "code",
   "execution_count": null,
   "id": "755d51f5",
   "metadata": {
    "tags": []
   },
   "outputs": [],
   "source": []
  },
  {
   "cell_type": "code",
   "execution_count": null,
   "id": "6daf3858",
   "metadata": {
    "tags": []
   },
   "outputs": [],
   "source": []
  },
  {
   "cell_type": "code",
   "execution_count": null,
   "id": "23a1a64e",
   "metadata": {
    "tags": []
   },
   "outputs": [],
   "source": [
    "print(\"Notebook Runtime: %0.2f Minutes\"%((time.time() - notebookstart)/60))"
   ]
  },
  {
   "cell_type": "code",
   "execution_count": null,
   "id": "215f54af",
   "metadata": {
    "tags": []
   },
   "outputs": [],
   "source": []
  }
 ],
 "metadata": {
  "kernelspec": {
   "display_name": "Python 3 (ipykernel)",
   "language": "python",
   "name": "python3"
  },
  "language_info": {
   "codemirror_mode": {
    "name": "ipython",
    "version": 3
   },
   "file_extension": ".py",
   "mimetype": "text/x-python",
   "name": "python",
   "nbconvert_exporter": "python",
   "pygments_lexer": "ipython3",
   "version": "3.9.12"
  }
 },
 "nbformat": 4,
 "nbformat_minor": 5
}
