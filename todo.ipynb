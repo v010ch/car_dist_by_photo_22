{
 "cells": [
  {
   "cell_type": "code",
   "execution_count": null,
   "id": "28a24c5d-83ed-473a-aa2e-ce71cbcb7a71",
   "metadata": {},
   "outputs": [],
   "source": []
  },
  {
   "cell_type": "code",
   "execution_count": null,
   "id": "795ebbbc-3b53-4c19-97c6-359ff7915e3f",
   "metadata": {},
   "outputs": [],
   "source": []
  },
  {
   "cell_type": "markdown",
   "id": "0162e751-4b91-424c-b478-969b2173b3a7",
   "metadata": {},
   "source": [
    "- [x] [done 04/08] [pb 0.763208] reproduce baseline   \n",
    "- [ ] use absolute X for exclude camera rotation \n",
    "- [x] [done 04/08] [pb +] use cv for choose best niter\n",
    "- [x] [done 04/08] [pb +] exclude imgs with motion blur from train\n",
    "- [ ] add dark feature to heic files\n",
    "- [x] [done 04/08] [pb ++] use car closest to image center\n",
    "- [x] [done 10/08] [pb ++] set minimum h and w (setted to 200)\n",
    "- [x] [done 09/08] [pb -]add math functions for features on the correlation results\n",
    "- [ ] find better model for detecting cars in all imgs\n",
    "- [ ] add a model for license plate detecting\n",
    "\n",
    "   \n",
    "<br></br>\n",
    "- [x] [done 09/08] add error chek for train\n",
    "- [x] [done 09/08] add correlation for features"
   ]
  },
  {
   "cell_type": "code",
   "execution_count": null,
   "id": "13e0d864-39d6-4f25-a11b-a6b19f24af1f",
   "metadata": {},
   "outputs": [],
   "source": []
  },
  {
   "cell_type": "code",
   "execution_count": null,
   "id": "971f30f0-a310-4035-af3b-116e836436fa",
   "metadata": {},
   "outputs": [],
   "source": []
  },
  {
   "cell_type": "code",
   "execution_count": null,
   "id": "f52d5fa1-4fa4-49e1-b83a-55479f00d458",
   "metadata": {},
   "outputs": [],
   "source": []
  }
 ],
 "metadata": {
  "kernelspec": {
   "display_name": "Python 3",
   "language": "python",
   "name": "python3"
  },
  "language_info": {
   "codemirror_mode": {
    "name": "ipython",
    "version": 3
   },
   "file_extension": ".py",
   "mimetype": "text/x-python",
   "name": "python",
   "nbconvert_exporter": "python",
   "pygments_lexer": "ipython3",
   "version": "3.7.13"
  }
 },
 "nbformat": 4,
 "nbformat_minor": 5
}
