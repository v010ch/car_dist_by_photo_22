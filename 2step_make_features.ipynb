{
 "cells": [
  {
   "cell_type": "code",
   "execution_count": null,
   "id": "2b479d63-9165-43e9-a3f6-52b26d4a6ccf",
   "metadata": {},
   "outputs": [],
   "source": []
  },
  {
   "cell_type": "code",
   "execution_count": 1,
   "id": "d183bc0d-08ba-4ba6-8cea-40a8fe9417e7",
   "metadata": {},
   "outputs": [],
   "source": [
    "import time\n",
    "notebookstart= time.time()"
   ]
  },
  {
   "cell_type": "code",
   "execution_count": 2,
   "id": "5665f0d7-f7b8-44da-9058-693c7bcaba5b",
   "metadata": {},
   "outputs": [
    {
     "name": "stderr",
     "output_type": "stream",
     "text": [
      "C:\\Users\\_v010ch_\\Anaconda3\\envs\\uly22\\lib\\site-packages\\tqdm\\auto.py:22: TqdmWarning: IProgress not found. Please update jupyter and ipywidgets. See https://ipywidgets.readthedocs.io/en/stable/user_install.html\n",
      "  from .autonotebook import tqdm as notebook_tqdm\n"
     ]
    }
   ],
   "source": [
    "import torch"
   ]
  },
  {
   "cell_type": "code",
   "execution_count": 3,
   "id": "f02d3db2-264a-444b-a79f-efd73400a000",
   "metadata": {},
   "outputs": [],
   "source": [
    "import os\n",
    "from typing import Tuple\n",
    "\n",
    "import pandas as pd\n",
    "import numpy as np\n",
    "\n",
    "from PIL import Image\n",
    "from pillow_heif import register_heif_opener\n",
    "register_heif_opener() # for using Image.open for .heic without changes\n",
    "\n",
    "from tqdm.auto import tqdm\n",
    "tqdm.pandas()"
   ]
  },
  {
   "cell_type": "code",
   "execution_count": 63,
   "id": "ae31e14d-64d5-437a-99b4-6246a88a262d",
   "metadata": {},
   "outputs": [],
   "source": [
    "#import matplotlib\n",
    "import matplotlib.pyplot as plt\n",
    "import seaborn as sns"
   ]
  },
  {
   "cell_type": "code",
   "execution_count": 66,
   "id": "e1e46a95-e513-4023-97a1-f0694ed2ff8a",
   "metadata": {},
   "outputs": [],
   "source": [
    "%matplotlib inline"
   ]
  },
  {
   "cell_type": "code",
   "execution_count": null,
   "id": "abcb32d9-3358-4965-b8fb-bbb2eaf6f3a5",
   "metadata": {},
   "outputs": [],
   "source": []
  },
  {
   "cell_type": "code",
   "execution_count": 4,
   "id": "4c1d89fe-b89e-4361-9226-51d3dd7ab84f",
   "metadata": {},
   "outputs": [],
   "source": [
    "DIR_SUBM = os.path.join(os.getcwd(), 'subm')\n",
    "DIR_DATA = os.path.join(os.getcwd(), 'data')\n",
    "DIR_DATA_TRAIN = os.path.join(DIR_DATA, 'train')\n",
    "DIR_DATA_TEST  = os.path.join(DIR_DATA, 'test')"
   ]
  },
  {
   "cell_type": "code",
   "execution_count": null,
   "id": "3fa55376-513f-4897-9373-23677ae06c7e",
   "metadata": {},
   "outputs": [],
   "source": []
  },
  {
   "cell_type": "code",
   "execution_count": 5,
   "id": "3cfc85d9-939a-4d10-8860-f828094e4268",
   "metadata": {},
   "outputs": [
    {
     "data": {
      "text/plain": [
       "(521, 530)"
      ]
     },
     "execution_count": 5,
     "metadata": {},
     "output_type": "execute_result"
    }
   ],
   "source": [
    "test_img_names  = set(os.listdir(DIR_DATA_TEST))\n",
    "train_img_names = set(os.listdir(DIR_DATA_TRAIN))\n",
    "len(test_img_names), len(train_img_names)"
   ]
  },
  {
   "cell_type": "code",
   "execution_count": 6,
   "id": "90eacbdb-84e2-4564-8455-3af642defe52",
   "metadata": {},
   "outputs": [],
   "source": [
    "train_labels_df = pd.read_csv(os.path.join(DIR_DATA, 'train.csv'), sep=';', index_col=None)"
   ]
  },
  {
   "cell_type": "code",
   "execution_count": null,
   "id": "1e418cbb-87d0-42ae-995d-bd1d201d6a85",
   "metadata": {},
   "outputs": [],
   "source": []
  },
  {
   "cell_type": "code",
   "execution_count": null,
   "id": "7238d90c-a49a-488c-a4f5-279c0151763d",
   "metadata": {},
   "outputs": [],
   "source": []
  },
  {
   "cell_type": "code",
   "execution_count": null,
   "id": "6c06042a-212c-4223-9d72-d1986edff410",
   "metadata": {},
   "outputs": [],
   "source": []
  },
  {
   "cell_type": "code",
   "execution_count": 7,
   "id": "46f01914-5b19-4acc-8693-785f940dabb9",
   "metadata": {},
   "outputs": [],
   "source": [
    "def get_car_center(inp_tensor: torch.Tensor) -> Tuple[int, int]:\n",
    "\n",
    "    car_cntr = (int((inp_tensor[2].int().item() - inp_tensor[0].int().item())/2 + inp_tensor[0].int().item()),\n",
    "                int((inp_tensor[3].int().item() - inp_tensor[1].int().item())/2 + inp_tensor[1].int().item())\n",
    "        )\n",
    "    \n",
    "    return car_cntr"
   ]
  },
  {
   "cell_type": "code",
   "execution_count": 8,
   "id": "ddef37e5-212a-43a0-8bb6-31da630b206b",
   "metadata": {},
   "outputs": [],
   "source": [
    "def get_center_dist(inp_center: Tuple[int, int], inp_point: Tuple[int, int]) -> float:\n",
    "    \n",
    "    return np.sqrt((inp_center[0] - inp_point[0])**2 + \\\n",
    "                   (inp_center[1] - inp_point[1])**2)"
   ]
  },
  {
   "cell_type": "code",
   "execution_count": 9,
   "id": "f3aeca3d-cada-4d8d-8890-ad18990b939e",
   "metadata": {},
   "outputs": [],
   "source": [
    "def determine_targ_car(inp_results, inp_img_cntr: Tuple[int, int]) -> int:\n",
    "    \n",
    "    min = 1000000\n",
    "\n",
    "    for el in range(inp_results.xyxy[0].shape[0]):\n",
    "        car_cntr = get_car_center(inp_results.xyxy[0][el])\n",
    "        cur_dist = get_center_dist(inp_img_cntr, car_cntr)\n",
    "        if cur_dist < min:\n",
    "            min = cur_dist\n",
    "            min_idx = el\n",
    "\n",
    "    return min_idx"
   ]
  },
  {
   "cell_type": "code",
   "execution_count": 87,
   "id": "f57faf38-3ae8-4e2a-9281-669533d3f638",
   "metadata": {},
   "outputs": [],
   "source": [
    "def create_feeatures(inp_fnames, inp_dir, inp_model, use_centr = False):\n",
    "    \n",
    "    ret_data = []\n",
    "\n",
    "    for img_name in tqdm(inp_fnames): \n",
    "        #if 'heic' in img_name:\n",
    "        #    heif_file = pyheif.read(os.path.join(inp_dir, img_name))\n",
    "        #   img = Image.frombytes(heif_file.mode, heif_file.size, heif_file.data, \"raw\", heif_file.mode, heif_file.stride)\n",
    "        #else:\n",
    "        #    img = Image.open(os.path.join(inp_dir, img_name))\n",
    "        img = Image.open(os.path.join(inp_dir, img_name))\n",
    "\n",
    "        #img_ = np.array(img)\n",
    "        results = model(np.array(img))\n",
    "    \n",
    "        if results.xyxy[0].shape != torch.Size([0, 6]):\n",
    "\n",
    "            if use_centr:\n",
    "                img_cntr = (int(img_.shape[1]/2), int(img_.shape[0]/2))\n",
    "                target_goal = determine_targ_car(results, img_cntr)\n",
    "            else:\n",
    "                target_goal = 0\n",
    "\n",
    "            h = results.xyxy[0][target_goal][3] - results.xyxy[0][target_goal][1]\n",
    "            w = results.xyxy[0][target_goal][2] - results.xyxy[0][target_goal][0]\n",
    "            results = results.xyxy[0][target_goal].numpy().tolist() + [h.item(), w.item()]\n",
    "            \n",
    "            # позволим алгоритмам самим выбирать как заполнить пропуски\n",
    "            ret_data.append([img_name] + results)\n",
    "            \n",
    "            \n",
    "        else:\n",
    "            print(f'wtf, {img_name}   {results.xyxy[0].shape}')\n",
    "            # позволим алгоритмам самим выбирать как заполнить пропуски\n",
    "            #results = [0, 0, 0, 0, 0, 0, 0, 0]\n",
    "\n",
    "# позволим алгоритмам самим выбирать как заполнить пропуски\n",
    "#        ret_data.append([img_name] + results)\n",
    "        \n",
    "    ret_data = pd.DataFrame(ret_data, columns = ['image_name', 'x_min', 'y_min', 'x_max', 'y_max', 'conf', 'class', 'h', 'w'])\n",
    "        \n",
    "    return ret_data"
   ]
  },
  {
   "cell_type": "code",
   "execution_count": null,
   "id": "d462859b-8093-4726-bf57-89bddfe7a9e7",
   "metadata": {},
   "outputs": [],
   "source": []
  },
  {
   "cell_type": "code",
   "execution_count": 18,
   "id": "80dfa8c8-410a-475a-a046-29d4cf05f96b",
   "metadata": {},
   "outputs": [
    {
     "name": "stderr",
     "output_type": "stream",
     "text": [
      "Using cache found in C:\\Users\\_v010ch_/.cache\\torch\\hub\\ultralytics_yolov5_master\n",
      "YOLOv5  2022-8-3 Python-3.10.4 torch-1.12.0 CUDA:0 (GeForce GTX 1050 Ti, 4096MiB)\n",
      "\n",
      "Fusing layers... \n",
      "YOLOv5s summary: 213 layers, 7225885 parameters, 0 gradients\n",
      "Adding AutoShape... \n"
     ]
    }
   ],
   "source": [
    "model = torch.hub.load('ultralytics/yolov5', 'yolov5s')\n",
    "model.classes = [0, 2]  # person and car\n",
    "_ = model.cpu()"
   ]
  },
  {
   "cell_type": "code",
   "execution_count": null,
   "id": "71f5c148-c324-4dd4-801a-10aedc2f82f9",
   "metadata": {},
   "outputs": [],
   "source": []
  },
  {
   "cell_type": "raw",
   "id": "2499abf7-bff3-4bd7-a97d-9da8dce7d99a",
   "metadata": {},
   "source": [
    "train_data = []\n",
    "\n",
    "for img_name in tqdm(train_img_names): \n",
    "    #if 'heic' in img_name:\n",
    "    #    heif_file = pyheif.read(os.path.join(DIR_DATA_TRAIN, img_name))\n",
    "    #   img = Image.frombytes(heif_file.mode, heif_file.size, heif_file.data, \"raw\", heif_file.mode, heif_file.stride)\n",
    "    #else:\n",
    "    #    img = Image.open(os.path.join(DIR_DATA_TRAIN, img_name))\n",
    "    img = Image.open(os.path.join(DIR_DATA_TRAIN, img_name))\n",
    "    \n",
    "    #img_ = np.array(img)\n",
    "    results = model(np.array(img))\n",
    "    \n",
    "    if results.xyxy[0].shape != torch.Size([0, 6]):\n",
    "        \n",
    "        #img_cntr = (int(img_.shape[1]/2), int(img_.shape[0]/2))\n",
    "        #target_goal = determine_targ_car(results, img_cntr)\n",
    "        target_goal = 0\n",
    "        \n",
    "        \n",
    "        results = [img_name] + results.xyxy[0][target_goal].numpy().tolist()\n",
    "        train_data.append(results)"
   ]
  },
  {
   "cell_type": "code",
   "execution_count": 88,
   "id": "fea91ae3-90d2-44f8-bdac-909e522bafc2",
   "metadata": {},
   "outputs": [
    {
     "name": "stderr",
     "output_type": "stream",
     "text": [
      "  8%|██████▎                                                                          | 41/530 [00:21<04:13,  1.93it/s]"
     ]
    },
    {
     "name": "stdout",
     "output_type": "stream",
     "text": [
      "wtf, img_2570.jpg   torch.Size([0, 6])\n"
     ]
    },
    {
     "name": "stderr",
     "output_type": "stream",
     "text": [
      " 27%|█████████████████████▎                                                          | 141/530 [01:18<03:08,  2.06it/s]"
     ]
    },
    {
     "name": "stdout",
     "output_type": "stream",
     "text": [
      "wtf, img_2765.jpg   torch.Size([0, 6])\n"
     ]
    },
    {
     "name": "stderr",
     "output_type": "stream",
     "text": [
      " 78%|██████████████████████████████████████████████████████████████▋                 | 415/530 [03:49<00:59,  1.94it/s]"
     ]
    },
    {
     "name": "stdout",
     "output_type": "stream",
     "text": [
      "wtf, img_2745.jpg   torch.Size([0, 6])\n"
     ]
    },
    {
     "name": "stderr",
     "output_type": "stream",
     "text": [
      " 85%|████████████████████████████████████████████████████████████████████            | 451/530 [04:10<00:43,  1.82it/s]"
     ]
    },
    {
     "name": "stdout",
     "output_type": "stream",
     "text": [
      "wtf, img_2764.jpg   torch.Size([0, 6])\n"
     ]
    },
    {
     "name": "stderr",
     "output_type": "stream",
     "text": [
      "100%|████████████████████████████████████████████████████████████████████████████████| 530/530 [04:58<00:00,  1.78it/s]\n"
     ]
    },
    {
     "data": {
      "text/plain": [
       "(530, 10)"
      ]
     },
     "execution_count": 88,
     "metadata": {},
     "output_type": "execute_result"
    }
   ],
   "source": [
    "train_df = create_feeatures(train_img_names, DIR_DATA_TRAIN, model) #use_centr\n",
    "train_df = pd.merge(train_labels_df, train_df, how='left')\n",
    "train_df.shape"
   ]
  },
  {
   "cell_type": "code",
   "execution_count": null,
   "id": "481fb5ff-d659-4c96-beea-d8c4112db041",
   "metadata": {},
   "outputs": [],
   "source": []
  },
  {
   "cell_type": "code",
   "execution_count": 89,
   "id": "553f6f02-94a3-4f5a-969b-6069bc09d3e2",
   "metadata": {},
   "outputs": [
    {
     "name": "stderr",
     "output_type": "stream",
     "text": [
      " 12%|█████████▊                                                                       | 63/521 [00:36<04:09,  1.84it/s]"
     ]
    },
    {
     "name": "stdout",
     "output_type": "stream",
     "text": [
      "wtf, img_2938.jpg   torch.Size([0, 6])\n"
     ]
    },
    {
     "name": "stderr",
     "output_type": "stream",
     "text": [
      " 18%|██████████████▎                                                                  | 92/521 [00:52<04:40,  1.53it/s]"
     ]
    },
    {
     "name": "stdout",
     "output_type": "stream",
     "text": [
      "wtf, img_2571.jpg   torch.Size([0, 6])\n"
     ]
    },
    {
     "name": "stderr",
     "output_type": "stream",
     "text": [
      " 58%|██████████████████████████████████████████████▋                                 | 304/521 [02:55<03:25,  1.06it/s]"
     ]
    },
    {
     "name": "stdout",
     "output_type": "stream",
     "text": [
      "wtf, img_2674.heic   torch.Size([0, 6])\n"
     ]
    },
    {
     "name": "stderr",
     "output_type": "stream",
     "text": [
      " 79%|██████████████████████████████████████████████████████████████▊                 | 409/521 [03:57<00:55,  2.01it/s]"
     ]
    },
    {
     "name": "stdout",
     "output_type": "stream",
     "text": [
      "wtf, img_1629.jpg   torch.Size([0, 6])\n"
     ]
    },
    {
     "name": "stderr",
     "output_type": "stream",
     "text": [
      "100%|████████████████████████████████████████████████████████████████████████████████| 521/521 [04:59<00:00,  1.74it/s]\n"
     ]
    },
    {
     "data": {
      "text/plain": [
       "(517, 9)"
      ]
     },
     "execution_count": 89,
     "metadata": {},
     "output_type": "execute_result"
    }
   ],
   "source": [
    "test_df = create_feeatures(test_img_names, DIR_DATA_TEST, model) #use_centr\n",
    "test_df.shape"
   ]
  },
  {
   "cell_type": "code",
   "execution_count": null,
   "id": "0829acf3-914a-4554-97a1-9bd1f7c27af2",
   "metadata": {},
   "outputs": [],
   "source": []
  },
  {
   "cell_type": "code",
   "execution_count": 90,
   "id": "c15717aa-2b8d-4492-a77d-65432e8c55e3",
   "metadata": {},
   "outputs": [
    {
     "data": {
      "image/png": "[encoded data removed]",
      "text/plain": [
       "<Figure size 432x288 with 1 Axes>"
      ]
     },
     "metadata": {
      "needs_background": "light"
     },
     "output_type": "display_data"
    }
   ],
   "source": [
    "sns.histplot(train_df, x='h')\n",
    "plt.show()"
   ]
  },
  {
   "cell_type": "code",
   "execution_count": 91,
   "id": "b5c18ced-7adf-40ea-a90d-5a7459261e4a",
   "metadata": {},
   "outputs": [
    {
     "data": {
      "image/png": "[encoded data removed]",
      "text/plain": [
       "<Figure size 432x288 with 1 Axes>"
      ]
     },
     "metadata": {
      "needs_background": "light"
     },
     "output_type": "display_data"
    }
   ],
   "source": [
    "sns.histplot(train_df, x='w')\n",
    "plt.show()"
   ]
  },
  {
   "cell_type": "code",
   "execution_count": 92,
   "id": "03f7e0bf-2918-44ad-ac69-85598f223033",
   "metadata": {},
   "outputs": [
    {
     "data": {
      "text/html": [
       "<div>\n",
       "<style scoped>\n",
       "    .dataframe tbody tr th:only-of-type {\n",
       "        vertical-align: middle;\n",
       "    }\n",
       "\n",
       "    .dataframe tbody tr th {\n",
       "        vertical-align: top;\n",
       "    }\n",
       "\n",
       "    .dataframe thead th {\n",
       "        text-align: right;\n",
       "    }\n",
       "</style>\n",
       "<table border=\"1\" class=\"dataframe\">\n",
       "  <thead>\n",
       "    <tr style=\"text-align: right;\">\n",
       "      <th></th>\n",
       "      <th>image_name</th>\n",
       "      <th>distance</th>\n",
       "      <th>x_min</th>\n",
       "      <th>y_min</th>\n",
       "      <th>x_max</th>\n",
       "      <th>y_max</th>\n",
       "      <th>conf</th>\n",
       "      <th>class</th>\n",
       "      <th>h</th>\n",
       "      <th>w</th>\n",
       "    </tr>\n",
       "  </thead>\n",
       "  <tbody>\n",
       "    <tr>\n",
       "      <th>0</th>\n",
       "      <td>img_1596.jpg</td>\n",
       "      <td>4.88</td>\n",
       "      <td>1664.946045</td>\n",
       "      <td>1180.270630</td>\n",
       "      <td>2279.794434</td>\n",
       "      <td>1715.034180</td>\n",
       "      <td>0.765476</td>\n",
       "      <td>2.0</td>\n",
       "      <td>534.763550</td>\n",
       "      <td>614.848389</td>\n",
       "    </tr>\n",
       "    <tr>\n",
       "      <th>1</th>\n",
       "      <td>img_1600.jpg</td>\n",
       "      <td>1.54</td>\n",
       "      <td>518.410889</td>\n",
       "      <td>1144.958374</td>\n",
       "      <td>1430.319336</td>\n",
       "      <td>1757.429810</td>\n",
       "      <td>0.879383</td>\n",
       "      <td>2.0</td>\n",
       "      <td>612.471436</td>\n",
       "      <td>911.908447</td>\n",
       "    </tr>\n",
       "    <tr>\n",
       "      <th>2</th>\n",
       "      <td>img_1601.jpg</td>\n",
       "      <td>3.68</td>\n",
       "      <td>2443.314697</td>\n",
       "      <td>1339.932617</td>\n",
       "      <td>3042.800781</td>\n",
       "      <td>1779.703003</td>\n",
       "      <td>0.869439</td>\n",
       "      <td>2.0</td>\n",
       "      <td>439.770386</td>\n",
       "      <td>599.486084</td>\n",
       "    </tr>\n",
       "    <tr>\n",
       "      <th>3</th>\n",
       "      <td>img_1603.jpg</td>\n",
       "      <td>2.22</td>\n",
       "      <td>2609.617920</td>\n",
       "      <td>1269.794922</td>\n",
       "      <td>3321.687988</td>\n",
       "      <td>1847.752930</td>\n",
       "      <td>0.911404</td>\n",
       "      <td>2.0</td>\n",
       "      <td>577.958008</td>\n",
       "      <td>712.070068</td>\n",
       "    </tr>\n",
       "    <tr>\n",
       "      <th>4</th>\n",
       "      <td>img_1605.jpg</td>\n",
       "      <td>3.73</td>\n",
       "      <td>2485.785889</td>\n",
       "      <td>1233.717041</td>\n",
       "      <td>3120.986328</td>\n",
       "      <td>1677.980591</td>\n",
       "      <td>0.891404</td>\n",
       "      <td>2.0</td>\n",
       "      <td>444.263550</td>\n",
       "      <td>635.200439</td>\n",
       "    </tr>\n",
       "    <tr>\n",
       "      <th>5</th>\n",
       "      <td>img_1606.jpg</td>\n",
       "      <td>4.52</td>\n",
       "      <td>2404.588867</td>\n",
       "      <td>1131.827026</td>\n",
       "      <td>2960.893799</td>\n",
       "      <td>1542.262573</td>\n",
       "      <td>0.869874</td>\n",
       "      <td>2.0</td>\n",
       "      <td>410.435547</td>\n",
       "      <td>556.304932</td>\n",
       "    </tr>\n",
       "    <tr>\n",
       "      <th>6</th>\n",
       "      <td>img_1607.jpg</td>\n",
       "      <td>5.40</td>\n",
       "      <td>2975.591553</td>\n",
       "      <td>1375.613037</td>\n",
       "      <td>4020.673340</td>\n",
       "      <td>2377.658691</td>\n",
       "      <td>0.831510</td>\n",
       "      <td>2.0</td>\n",
       "      <td>1002.045654</td>\n",
       "      <td>1045.081787</td>\n",
       "    </tr>\n",
       "    <tr>\n",
       "      <th>7</th>\n",
       "      <td>img_1608.jpg</td>\n",
       "      <td>6.21</td>\n",
       "      <td>2376.572021</td>\n",
       "      <td>1286.831421</td>\n",
       "      <td>2854.692139</td>\n",
       "      <td>1610.867554</td>\n",
       "      <td>0.897462</td>\n",
       "      <td>2.0</td>\n",
       "      <td>324.036133</td>\n",
       "      <td>478.120117</td>\n",
       "    </tr>\n",
       "    <tr>\n",
       "      <th>8</th>\n",
       "      <td>img_1612.jpg</td>\n",
       "      <td>7.12</td>\n",
       "      <td>2668.406250</td>\n",
       "      <td>1395.103271</td>\n",
       "      <td>4032.000000</td>\n",
       "      <td>2252.246582</td>\n",
       "      <td>0.936597</td>\n",
       "      <td>2.0</td>\n",
       "      <td>857.143311</td>\n",
       "      <td>1363.593750</td>\n",
       "    </tr>\n",
       "    <tr>\n",
       "      <th>9</th>\n",
       "      <td>img_1613.jpg</td>\n",
       "      <td>5.26</td>\n",
       "      <td>2879.098633</td>\n",
       "      <td>1226.418335</td>\n",
       "      <td>4021.776855</td>\n",
       "      <td>2275.527832</td>\n",
       "      <td>0.868660</td>\n",
       "      <td>2.0</td>\n",
       "      <td>1049.109497</td>\n",
       "      <td>1142.678223</td>\n",
       "    </tr>\n",
       "    <tr>\n",
       "      <th>10</th>\n",
       "      <td>img_1615.jpg</td>\n",
       "      <td>2.26</td>\n",
       "      <td>1221.380493</td>\n",
       "      <td>917.120056</td>\n",
       "      <td>2952.315430</td>\n",
       "      <td>2249.470459</td>\n",
       "      <td>0.906779</td>\n",
       "      <td>2.0</td>\n",
       "      <td>1332.350342</td>\n",
       "      <td>1730.934937</td>\n",
       "    </tr>\n",
       "    <tr>\n",
       "      <th>11</th>\n",
       "      <td>img_1616.jpg</td>\n",
       "      <td>2.86</td>\n",
       "      <td>929.749084</td>\n",
       "      <td>679.718994</td>\n",
       "      <td>2994.185547</td>\n",
       "      <td>2401.517578</td>\n",
       "      <td>0.928988</td>\n",
       "      <td>2.0</td>\n",
       "      <td>1721.798584</td>\n",
       "      <td>2064.436523</td>\n",
       "    </tr>\n",
       "    <tr>\n",
       "      <th>12</th>\n",
       "      <td>img_1618.jpg</td>\n",
       "      <td>1.60</td>\n",
       "      <td>1287.998657</td>\n",
       "      <td>1066.048706</td>\n",
       "      <td>2972.420166</td>\n",
       "      <td>2211.319336</td>\n",
       "      <td>0.776012</td>\n",
       "      <td>2.0</td>\n",
       "      <td>1145.270630</td>\n",
       "      <td>1684.421509</td>\n",
       "    </tr>\n",
       "    <tr>\n",
       "      <th>13</th>\n",
       "      <td>img_1619.jpg</td>\n",
       "      <td>3.65</td>\n",
       "      <td>1366.985596</td>\n",
       "      <td>1121.489014</td>\n",
       "      <td>2548.877686</td>\n",
       "      <td>2032.990356</td>\n",
       "      <td>0.737597</td>\n",
       "      <td>2.0</td>\n",
       "      <td>911.501343</td>\n",
       "      <td>1181.892090</td>\n",
       "    </tr>\n",
       "    <tr>\n",
       "      <th>14</th>\n",
       "      <td>img_1620.jpg</td>\n",
       "      <td>1.52</td>\n",
       "      <td>1324.356323</td>\n",
       "      <td>1128.845581</td>\n",
       "      <td>2275.159912</td>\n",
       "      <td>1942.445190</td>\n",
       "      <td>0.707093</td>\n",
       "      <td>2.0</td>\n",
       "      <td>813.599609</td>\n",
       "      <td>950.803589</td>\n",
       "    </tr>\n",
       "    <tr>\n",
       "      <th>15</th>\n",
       "      <td>img_1621.jpg</td>\n",
       "      <td>7.37</td>\n",
       "      <td>1436.516846</td>\n",
       "      <td>1137.574829</td>\n",
       "      <td>2833.973145</td>\n",
       "      <td>2112.680664</td>\n",
       "      <td>0.711096</td>\n",
       "      <td>2.0</td>\n",
       "      <td>975.105835</td>\n",
       "      <td>1397.456299</td>\n",
       "    </tr>\n",
       "    <tr>\n",
       "      <th>16</th>\n",
       "      <td>img_1623.jpg</td>\n",
       "      <td>5.56</td>\n",
       "      <td>1605.816284</td>\n",
       "      <td>1282.396851</td>\n",
       "      <td>2222.813232</td>\n",
       "      <td>1797.379150</td>\n",
       "      <td>0.895910</td>\n",
       "      <td>2.0</td>\n",
       "      <td>514.982300</td>\n",
       "      <td>616.996948</td>\n",
       "    </tr>\n",
       "    <tr>\n",
       "      <th>17</th>\n",
       "      <td>img_1626.jpg</td>\n",
       "      <td>1.75</td>\n",
       "      <td>1130.463623</td>\n",
       "      <td>869.826233</td>\n",
       "      <td>2946.489258</td>\n",
       "      <td>2318.669189</td>\n",
       "      <td>0.538680</td>\n",
       "      <td>2.0</td>\n",
       "      <td>1448.843018</td>\n",
       "      <td>1816.025635</td>\n",
       "    </tr>\n",
       "    <tr>\n",
       "      <th>18</th>\n",
       "      <td>img_1627.jpg</td>\n",
       "      <td>1.36</td>\n",
       "      <td>608.384766</td>\n",
       "      <td>871.556274</td>\n",
       "      <td>3068.450195</td>\n",
       "      <td>2876.823486</td>\n",
       "      <td>0.491893</td>\n",
       "      <td>2.0</td>\n",
       "      <td>2005.267212</td>\n",
       "      <td>2460.065430</td>\n",
       "    </tr>\n",
       "    <tr>\n",
       "      <th>19</th>\n",
       "      <td>img_1628.jpg</td>\n",
       "      <td>1.12</td>\n",
       "      <td>756.534546</td>\n",
       "      <td>676.532104</td>\n",
       "      <td>3435.923828</td>\n",
       "      <td>2955.139404</td>\n",
       "      <td>0.481535</td>\n",
       "      <td>2.0</td>\n",
       "      <td>2278.607422</td>\n",
       "      <td>2679.389160</td>\n",
       "    </tr>\n",
       "  </tbody>\n",
       "</table>\n",
       "</div>"
      ],
      "text/plain": [
       "      image_name  distance        x_min        y_min        x_max  \\\n",
       "0   img_1596.jpg      4.88  1664.946045  1180.270630  2279.794434   \n",
       "1   img_1600.jpg      1.54   518.410889  1144.958374  1430.319336   \n",
       "2   img_1601.jpg      3.68  2443.314697  1339.932617  3042.800781   \n",
       "3   img_1603.jpg      2.22  2609.617920  1269.794922  3321.687988   \n",
       "4   img_1605.jpg      3.73  2485.785889  1233.717041  3120.986328   \n",
       "5   img_1606.jpg      4.52  2404.588867  1131.827026  2960.893799   \n",
       "6   img_1607.jpg      5.40  2975.591553  1375.613037  4020.673340   \n",
       "7   img_1608.jpg      6.21  2376.572021  1286.831421  2854.692139   \n",
       "8   img_1612.jpg      7.12  2668.406250  1395.103271  4032.000000   \n",
       "9   img_1613.jpg      5.26  2879.098633  1226.418335  4021.776855   \n",
       "10  img_1615.jpg      2.26  1221.380493   917.120056  2952.315430   \n",
       "11  img_1616.jpg      2.86   929.749084   679.718994  2994.185547   \n",
       "12  img_1618.jpg      1.60  1287.998657  1066.048706  2972.420166   \n",
       "13  img_1619.jpg      3.65  1366.985596  1121.489014  2548.877686   \n",
       "14  img_1620.jpg      1.52  1324.356323  1128.845581  2275.159912   \n",
       "15  img_1621.jpg      7.37  1436.516846  1137.574829  2833.973145   \n",
       "16  img_1623.jpg      5.56  1605.816284  1282.396851  2222.813232   \n",
       "17  img_1626.jpg      1.75  1130.463623   869.826233  2946.489258   \n",
       "18  img_1627.jpg      1.36   608.384766   871.556274  3068.450195   \n",
       "19  img_1628.jpg      1.12   756.534546   676.532104  3435.923828   \n",
       "\n",
       "          y_max      conf  class            h            w  \n",
       "0   1715.034180  0.765476    2.0   534.763550   614.848389  \n",
       "1   1757.429810  0.879383    2.0   612.471436   911.908447  \n",
       "2   1779.703003  0.869439    2.0   439.770386   599.486084  \n",
       "3   1847.752930  0.911404    2.0   577.958008   712.070068  \n",
       "4   1677.980591  0.891404    2.0   444.263550   635.200439  \n",
       "5   1542.262573  0.869874    2.0   410.435547   556.304932  \n",
       "6   2377.658691  0.831510    2.0  1002.045654  1045.081787  \n",
       "7   1610.867554  0.897462    2.0   324.036133   478.120117  \n",
       "8   2252.246582  0.936597    2.0   857.143311  1363.593750  \n",
       "9   2275.527832  0.868660    2.0  1049.109497  1142.678223  \n",
       "10  2249.470459  0.906779    2.0  1332.350342  1730.934937  \n",
       "11  2401.517578  0.928988    2.0  1721.798584  2064.436523  \n",
       "12  2211.319336  0.776012    2.0  1145.270630  1684.421509  \n",
       "13  2032.990356  0.737597    2.0   911.501343  1181.892090  \n",
       "14  1942.445190  0.707093    2.0   813.599609   950.803589  \n",
       "15  2112.680664  0.711096    2.0   975.105835  1397.456299  \n",
       "16  1797.379150  0.895910    2.0   514.982300   616.996948  \n",
       "17  2318.669189  0.538680    2.0  1448.843018  1816.025635  \n",
       "18  2876.823486  0.491893    2.0  2005.267212  2460.065430  \n",
       "19  2955.139404  0.481535    2.0  2278.607422  2679.389160  "
      ]
     },
     "execution_count": 92,
     "metadata": {},
     "output_type": "execute_result"
    }
   ],
   "source": [
    "train_df.head(20)"
   ]
  },
  {
   "cell_type": "code",
   "execution_count": null,
   "id": "ad4ff12d-c0d6-4e08-a467-532c59f20041",
   "metadata": {},
   "outputs": [],
   "source": []
  },
  {
   "cell_type": "code",
   "execution_count": 93,
   "id": "80ac3dea-a649-4b8a-90cc-ec844b129a20",
   "metadata": {},
   "outputs": [],
   "source": [
    "train_df.to_csv(os.path.join(DIR_DATA, 'train_upd.csv'), index = False)\n",
    "test_df.to_csv(os.path.join(DIR_DATA, 'test_upd.csv'), index = False)"
   ]
  },
  {
   "cell_type": "code",
   "execution_count": null,
   "id": "c70a3d5b-44d3-4abc-afb3-4fdb5b83e4c0",
   "metadata": {},
   "outputs": [],
   "source": []
  },
  {
   "cell_type": "code",
   "execution_count": null,
   "id": "5ae9b4d9-229d-4b91-b078-50cc5e84945f",
   "metadata": {},
   "outputs": [],
   "source": []
  },
  {
   "cell_type": "code",
   "execution_count": null,
   "id": "bf5d6cd6-461b-4dc2-bf90-7a6b2bd591c0",
   "metadata": {},
   "outputs": [],
   "source": []
  }
 ],
 "metadata": {
  "kernelspec": {
   "display_name": "uly22",
   "language": "python",
   "name": "uly22"
  },
  "language_info": {
   "codemirror_mode": {
    "name": "ipython",
    "version": 3
   },
   "file_extension": ".py",
   "mimetype": "text/x-python",
   "name": "python",
   "nbconvert_exporter": "python",
   "pygments_lexer": "ipython3",
   "version": "3.10.4"
  }
 },
 "nbformat": 4,
 "nbformat_minor": 5
}
