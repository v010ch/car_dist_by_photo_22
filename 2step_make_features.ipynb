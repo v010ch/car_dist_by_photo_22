{
 "cells": [
  {
   "cell_type": "code",
   "execution_count": null,
   "id": "2b479d63-9165-43e9-a3f6-52b26d4a6ccf",
   "metadata": {},
   "outputs": [],
   "source": []
  },
  {
   "cell_type": "code",
   "execution_count": 1,
   "id": "d183bc0d-08ba-4ba6-8cea-40a8fe9417e7",
   "metadata": {},
   "outputs": [],
   "source": [
    "import time\n",
    "notebookstart= time.time()"
   ]
  },
  {
   "cell_type": "code",
   "execution_count": 2,
   "id": "c15fdc0c-edb7-46f3-883c-143e58821a88",
   "metadata": {},
   "outputs": [],
   "source": [
    "%load_ext autoreload\n",
    "%autoreload 2"
   ]
  },
  {
   "cell_type": "code",
   "execution_count": 3,
   "id": "5665f0d7-f7b8-44da-9058-693c7bcaba5b",
   "metadata": {},
   "outputs": [
    {
     "name": "stderr",
     "output_type": "stream",
     "text": [
      "C:\\Users\\_v010ch_\\Anaconda3\\envs\\uly22\\lib\\site-packages\\tqdm\\auto.py:22: TqdmWarning: IProgress not found. Please update jupyter and ipywidgets. See https://ipywidgets.readthedocs.io/en/stable/user_install.html\n",
      "  from .autonotebook import tqdm as notebook_tqdm\n"
     ]
    }
   ],
   "source": [
    "import torch"
   ]
  },
  {
   "cell_type": "code",
   "execution_count": 4,
   "id": "f02d3db2-264a-444b-a79f-efd73400a000",
   "metadata": {},
   "outputs": [],
   "source": [
    "import os\n",
    "from typing import List, Tuple, Optional\n",
    "\n",
    "import pandas as pd\n",
    "import numpy as np\n",
    "\n",
    "from PIL import Image\n",
    "from pillow_heif import register_heif_opener\n",
    "register_heif_opener() # for using Image.open for .heic without changes\n",
    "\n",
    "from tqdm.auto import tqdm\n",
    "tqdm.pandas()"
   ]
  },
  {
   "cell_type": "code",
   "execution_count": 5,
   "id": "010a8b8f-3b3c-4463-a4f4-95fe62461143",
   "metadata": {},
   "outputs": [],
   "source": [
    "from itertools import product\n",
    "#import multiprocessing as mp\n",
    "import torch.multiprocessing as mp"
   ]
  },
  {
   "cell_type": "code",
   "execution_count": 6,
   "id": "ae31e14d-64d5-437a-99b4-6246a88a262d",
   "metadata": {},
   "outputs": [],
   "source": [
    "#import matplotlib\n",
    "import matplotlib.pyplot as plt\n",
    "import seaborn as sns"
   ]
  },
  {
   "cell_type": "code",
   "execution_count": 7,
   "id": "e1e46a95-e513-4023-97a1-f0694ed2ff8a",
   "metadata": {},
   "outputs": [],
   "source": [
    "%matplotlib inline"
   ]
  },
  {
   "cell_type": "code",
   "execution_count": 8,
   "id": "abcb32d9-3358-4965-b8fb-bbb2eaf6f3a5",
   "metadata": {},
   "outputs": [],
   "source": [
    "from src.mkcarfeatures import features as ft"
   ]
  },
  {
   "cell_type": "code",
   "execution_count": null,
   "id": "de53d8b7-e487-46a1-bb46-6125ffa12221",
   "metadata": {},
   "outputs": [],
   "source": []
  },
  {
   "cell_type": "code",
   "execution_count": null,
   "id": "1b805c7b-29b9-4e8c-9b6f-d1f9d593f19f",
   "metadata": {},
   "outputs": [],
   "source": []
  },
  {
   "cell_type": "raw",
   "id": "193e973c-cfaa-4893-8c39-c75643939246",
   "metadata": {},
   "source": [
    "!pip install multiprocesspandas"
   ]
  },
  {
   "cell_type": "raw",
   "id": "1cb0f1ed-2041-4d31-92be-1ab947711cf2",
   "metadata": {},
   "source": [
    "from multiprocesspandas import applyparallel"
   ]
  },
  {
   "cell_type": "code",
   "execution_count": null,
   "id": "f71224fb-fb78-4e23-ae8c-6a2c483b3819",
   "metadata": {},
   "outputs": [],
   "source": []
  },
  {
   "cell_type": "code",
   "execution_count": null,
   "id": "a0b3e20c-7359-40a2-b3e7-992a58b64365",
   "metadata": {},
   "outputs": [],
   "source": []
  },
  {
   "cell_type": "code",
   "execution_count": 9,
   "id": "4c1d89fe-b89e-4361-9226-51d3dd7ab84f",
   "metadata": {},
   "outputs": [],
   "source": [
    "DIR_DATA = os.path.join(os.getcwd(), 'data')\n",
    "DIR_SUBM = os.path.join(os.getcwd(), 'subm')\n",
    "DIR_SUBM_TRAIN = os.path.join(os.getcwd(), 'subm', 'train')\n",
    "DIR_DATA_TRAIN = os.path.join(DIR_DATA, 'train')\n",
    "DIR_DATA_TEST  = os.path.join(DIR_DATA, 'test')"
   ]
  },
  {
   "cell_type": "code",
   "execution_count": null,
   "id": "3fa55376-513f-4897-9373-23677ae06c7e",
   "metadata": {},
   "outputs": [],
   "source": []
  },
  {
   "cell_type": "code",
   "execution_count": 10,
   "id": "3cfc85d9-939a-4d10-8860-f828094e4268",
   "metadata": {},
   "outputs": [
    {
     "data": {
      "text/plain": [
       "(521, 530)"
      ]
     },
     "execution_count": 10,
     "metadata": {},
     "output_type": "execute_result"
    }
   ],
   "source": [
    "test_img_names  = set(os.listdir(DIR_DATA_TEST))\n",
    "train_img_names = set(os.listdir(DIR_DATA_TRAIN))\n",
    "len(test_img_names), len(train_img_names)"
   ]
  },
  {
   "cell_type": "code",
   "execution_count": 11,
   "id": "90eacbdb-84e2-4564-8455-3af642defe52",
   "metadata": {},
   "outputs": [],
   "source": [
    "train_labels_df = pd.read_csv(os.path.join(DIR_DATA, 'train.csv'), sep=';', index_col=None)"
   ]
  },
  {
   "cell_type": "code",
   "execution_count": null,
   "id": "1e418cbb-87d0-42ae-995d-bd1d201d6a85",
   "metadata": {},
   "outputs": [],
   "source": []
  },
  {
   "cell_type": "code",
   "execution_count": null,
   "id": "7238d90c-a49a-488c-a4f5-279c0151763d",
   "metadata": {},
   "outputs": [],
   "source": []
  },
  {
   "cell_type": "code",
   "execution_count": null,
   "id": "6c06042a-212c-4223-9d72-d1986edff410",
   "metadata": {},
   "outputs": [],
   "source": []
  },
  {
   "cell_type": "code",
   "execution_count": null,
   "id": "46f01914-5b19-4acc-8693-785f940dabb9",
   "metadata": {},
   "outputs": [],
   "source": []
  },
  {
   "cell_type": "code",
   "execution_count": null,
   "id": "ddef37e5-212a-43a0-8bb6-31da630b206b",
   "metadata": {},
   "outputs": [],
   "source": []
  },
  {
   "cell_type": "code",
   "execution_count": 12,
   "id": "f3aeca3d-cada-4d8d-8890-ad18990b939e",
   "metadata": {},
   "outputs": [
    {
     "name": "stderr",
     "output_type": "stream",
     "text": [
      "Using cache found in C:\\Users\\_v010ch_/.cache\\torch\\hub\\ultralytics_yolov5_master\n",
      "YOLOv5  2022-8-3 Python-3.10.4 torch-1.12.0 CUDA:0 (GeForce GTX 1050 Ti, 4096MiB)\n",
      "\n",
      "Fusing layers... \n",
      "YOLOv5l summary: 367 layers, 46533693 parameters, 0 gradients\n",
      "Adding AutoShape... \n"
     ]
    }
   ],
   "source": [
    "#model = torch.hub.load('ultralytics/yolov5', 'yolov5x6')\n",
    "model = torch.hub.load('ultralytics/yolov5', 'yolov5l')\n",
    "model.classes = [0, 2]  # person and car\n",
    "_ = model.cpu()"
   ]
  },
  {
   "cell_type": "code",
   "execution_count": null,
   "id": "d5964618-c49f-4190-bb9c-e3b76377f011",
   "metadata": {},
   "outputs": [],
   "source": []
  },
  {
   "cell_type": "code",
   "execution_count": null,
   "id": "7fc58a6b-a85b-4cea-9193-795f01b9809c",
   "metadata": {},
   "outputs": [],
   "source": []
  },
  {
   "cell_type": "code",
   "execution_count": 13,
   "id": "f985aec4-cb95-457e-94ee-1540bd72e9e8",
   "metadata": {},
   "outputs": [],
   "source": [
    "from functools import partial"
   ]
  },
  {
   "cell_type": "code",
   "execution_count": 42,
   "id": "fb8a6872-e3a8-4bd7-9c66-375ced91622d",
   "metadata": {},
   "outputs": [
    {
     "name": "stdout",
     "output_type": "stream",
     "text": [
      "CPU times: total: 500 ms\n",
      "Wall time: 7min 17s\n"
     ]
    }
   ],
   "source": [
    "%%time \n",
    "with mp.Pool(processes = (mp.cpu_count() - 2)) as pool:\n",
    "    #results = pool.map(ft.create_feeatures_mp, product(list(train_img_names)[:5], [DIR_DATA_TRAIN], [model]))\n",
    "    #results = pool.map(ft.create_feeatures_mp, product(list(train_img_names)[:5], [DIR_DATA_TRAIN]))\n",
    "    results = pool.map(partial(ft.create_feeatures_mp, inp_dir = DIR_DATA_TRAIN, inp_model = model), train_img_names)"
   ]
  },
  {
   "cell_type": "code",
   "execution_count": 41,
   "id": "80dfa8c8-410a-475a-a046-29d4cf05f96b",
   "metadata": {},
   "outputs": [
    {
     "data": {
      "text/plain": [
       "(530, 10)"
      ]
     },
     "execution_count": 41,
     "metadata": {},
     "output_type": "execute_result"
    }
   ],
   "source": [
    "train_df = pd.DataFrame(results, columns = ['image_name', 'x_min', 'y_min', 'x_max', 'y_max', 'conf', 'class', 'h', 'w'])\n",
    "train_df = pd.merge(train_labels_df, train_df, how='left')\n",
    "train_df.shape"
   ]
  },
  {
   "cell_type": "code",
   "execution_count": null,
   "id": "71f5c148-c324-4dd4-801a-10aedc2f82f9",
   "metadata": {},
   "outputs": [],
   "source": []
  },
  {
   "cell_type": "code",
   "execution_count": null,
   "id": "a48999ee-6cd7-4efc-89b3-940df12546af",
   "metadata": {},
   "outputs": [],
   "source": []
  },
  {
   "cell_type": "code",
   "execution_count": null,
   "id": "e32b1043-a755-4cd5-b7b1-18fafd431713",
   "metadata": {},
   "outputs": [],
   "source": []
  },
  {
   "cell_type": "code",
   "execution_count": null,
   "id": "e5259e69-a6b0-4646-a8ac-d04660793f38",
   "metadata": {},
   "outputs": [],
   "source": []
  },
  {
   "cell_type": "raw",
   "id": "2499abf7-bff3-4bd7-a97d-9da8dce7d99a",
   "metadata": {},
   "source": [
    "train_data = []\n",
    "\n",
    "for img_name in tqdm(train_img_names): \n",
    "    #if 'heic' in img_name:\n",
    "    #    heif_file = pyheif.read(os.path.join(DIR_DATA_TRAIN, img_name))\n",
    "    #   img = Image.frombytes(heif_file.mode, heif_file.size, heif_file.data, \"raw\", heif_file.mode, heif_file.stride)\n",
    "    #else:\n",
    "    #    img = Image.open(os.path.join(DIR_DATA_TRAIN, img_name))\n",
    "    img = Image.open(os.path.join(DIR_DATA_TRAIN, img_name))\n",
    "    \n",
    "    #img_ = np.array(img)\n",
    "    results = model(np.array(img))\n",
    "    \n",
    "    if results.xyxy[0].shape != torch.Size([0, 6]):\n",
    "        \n",
    "        #img_cntr = (int(img_.shape[1]/2), int(img_.shape[0]/2))\n",
    "        #target_goal = determine_targ_car(results, img_cntr)\n",
    "        target_goal = 0\n",
    "        \n",
    "        \n",
    "        results = [img_name] + results.xyxy[0][target_goal].numpy().tolist()\n",
    "        train_data.append(results)"
   ]
  },
  {
   "cell_type": "raw",
   "id": "1c4c84cf-6641-4f36-b248-15d4d7414ee4",
   "metadata": {},
   "source": [
    "#train_df = ft.create_feeatures(list(train_img_names)[:10], DIR_DATA_TRAIN, model, use_centr = True) #use_centr\n",
    "train_df = ft.create_feeatures(train_img_names, DIR_DATA_TRAIN, model, use_centr = True) #use_centr\n",
    "train_df = pd.merge(train_labels_df, train_df, how='left')\n",
    "train_df.shape"
   ]
  },
  {
   "cell_type": "raw",
   "id": "771cc7cd-b693-4c2d-b2f6-dae5c2ab3e9f",
   "metadata": {},
   "source": [
    "train_df.columns"
   ]
  },
  {
   "cell_type": "code",
   "execution_count": 43,
   "id": "35a40292-3892-4876-afe0-7bc74be7853d",
   "metadata": {},
   "outputs": [
    {
     "data": {
      "text/html": [
       "<div>\n",
       "<style scoped>\n",
       "    .dataframe tbody tr th:only-of-type {\n",
       "        vertical-align: middle;\n",
       "    }\n",
       "\n",
       "    .dataframe tbody tr th {\n",
       "        vertical-align: top;\n",
       "    }\n",
       "\n",
       "    .dataframe thead th {\n",
       "        text-align: right;\n",
       "    }\n",
       "</style>\n",
       "<table border=\"1\" class=\"dataframe\">\n",
       "  <thead>\n",
       "    <tr style=\"text-align: right;\">\n",
       "      <th></th>\n",
       "      <th>image_name</th>\n",
       "      <th>distance</th>\n",
       "      <th>x_min</th>\n",
       "      <th>y_min</th>\n",
       "      <th>x_max</th>\n",
       "      <th>y_max</th>\n",
       "      <th>conf</th>\n",
       "      <th>class</th>\n",
       "      <th>h</th>\n",
       "      <th>w</th>\n",
       "    </tr>\n",
       "  </thead>\n",
       "  <tbody>\n",
       "    <tr>\n",
       "      <th>147</th>\n",
       "      <td>img_1890.jpg</td>\n",
       "      <td>1.19</td>\n",
       "      <td>NaN</td>\n",
       "      <td>NaN</td>\n",
       "      <td>NaN</td>\n",
       "      <td>NaN</td>\n",
       "      <td>NaN</td>\n",
       "      <td>NaN</td>\n",
       "      <td>NaN</td>\n",
       "      <td>NaN</td>\n",
       "    </tr>\n",
       "  </tbody>\n",
       "</table>\n",
       "</div>"
      ],
      "text/plain": [
       "       image_name  distance  x_min  y_min  x_max  y_max  conf  class   h   w\n",
       "147  img_1890.jpg      1.19    NaN    NaN    NaN    NaN   NaN    NaN NaN NaN"
      ]
     },
     "execution_count": 43,
     "metadata": {},
     "output_type": "execute_result"
    }
   ],
   "source": [
    "train_df[train_df.image_name == 'img_1890.jpg']"
   ]
  },
  {
   "cell_type": "code",
   "execution_count": null,
   "id": "fd46a034-6149-4134-a624-49e91b1a7bdd",
   "metadata": {},
   "outputs": [],
   "source": []
  },
  {
   "cell_type": "code",
   "execution_count": null,
   "id": "92116218-a13c-4f46-9693-07800b7aa508",
   "metadata": {},
   "outputs": [],
   "source": []
  },
  {
   "cell_type": "code",
   "execution_count": 44,
   "id": "835fbf20-920b-4304-a578-719341c9fa43",
   "metadata": {},
   "outputs": [
    {
     "name": "stdout",
     "output_type": "stream",
     "text": [
      "CPU times: total: 688 ms\n",
      "Wall time: 7min 15s\n"
     ]
    }
   ],
   "source": [
    "%%time \n",
    "with mp.Pool(processes = (mp.cpu_count() - 2)) as pool:\n",
    "    #results = pool.map(ft.create_feeatures_mp, product(list(train_img_names)[:5], [DIR_DATA_TRAIN], [model]))\n",
    "    #results = pool.map(ft.create_feeatures_mp, product(list(train_img_names)[:5], [DIR_DATA_TRAIN]))\n",
    "    results = pool.map(partial(ft.create_feeatures_mp, inp_dir = DIR_DATA_TEST, inp_model = model), test_img_names)"
   ]
  },
  {
   "cell_type": "code",
   "execution_count": 46,
   "id": "cb7d5ce0-3429-47ae-8216-71989d9dbacf",
   "metadata": {},
   "outputs": [
    {
     "data": {
      "text/plain": [
       "(521, 9)"
      ]
     },
     "execution_count": 46,
     "metadata": {},
     "output_type": "execute_result"
    }
   ],
   "source": [
    "test_df = pd.DataFrame(results, columns = ['image_name', 'x_min', 'y_min', 'x_max', 'y_max', 'conf', 'class', 'h', 'w'])\n",
    "test_df.shape"
   ]
  },
  {
   "cell_type": "raw",
   "id": "4ef7b7b7-def0-4eab-9f57-f46ec2b18168",
   "metadata": {},
   "source": [
    "test_df = create_feeatures(test_img_names, DIR_DATA_TEST, model, use_centr = True) #use_centr\n",
    "test_df.shape"
   ]
  },
  {
   "cell_type": "code",
   "execution_count": 55,
   "id": "0829acf3-914a-4554-97a1-9bd1f7c27af2",
   "metadata": {},
   "outputs": [],
   "source": [
    "#test_df[test_df.image_name == 'img_2571.jpg']\n",
    "#test_df.head()"
   ]
  },
  {
   "cell_type": "markdown",
   "id": "57222827-2884-4bef-9f7f-b7495c3999c9",
   "metadata": {},
   "source": [
    "yolov5 не найдено машин:   \n",
    "train: img_1890.jpg,    \n",
    "test: img_1888.jpg, img_2674.heic, img_2571.jpg, img_1889.jpg(only person)   "
   ]
  },
  {
   "cell_type": "code",
   "execution_count": null,
   "id": "0f05bd8c-c12d-408e-bceb-b7f2d0e2e73a",
   "metadata": {},
   "outputs": [],
   "source": []
  },
  {
   "cell_type": "code",
   "execution_count": 56,
   "id": "c15717aa-2b8d-4492-a77d-65432e8c55e3",
   "metadata": {},
   "outputs": [
    {
     "name": "stderr",
     "output_type": "stream",
     "text": [
      "C:\\Users\\_v010ch_\\AppData\\Local\\Temp\\ipykernel_5552\\4050404586.py:2: UserWarning: Matplotlib is currently using agg, which is a non-GUI backend, so cannot show the figure.\n",
      "  plt.show()\n"
     ]
    }
   ],
   "source": [
    "sns.histplot(train_df, x='h')\n",
    "plt.show()"
   ]
  },
  {
   "cell_type": "code",
   "execution_count": 57,
   "id": "b5c18ced-7adf-40ea-a90d-5a7459261e4a",
   "metadata": {},
   "outputs": [
    {
     "name": "stderr",
     "output_type": "stream",
     "text": [
      "C:\\Users\\_v010ch_\\AppData\\Local\\Temp\\ipykernel_5552\\636209886.py:2: UserWarning: Matplotlib is currently using agg, which is a non-GUI backend, so cannot show the figure.\n",
      "  plt.show()\n"
     ]
    }
   ],
   "source": [
    "sns.histplot(train_df, x='w')\n",
    "plt.show()"
   ]
  },
  {
   "cell_type": "code",
   "execution_count": null,
   "id": "03f7e0bf-2918-44ad-ac69-85598f223033",
   "metadata": {},
   "outputs": [],
   "source": []
  },
  {
   "cell_type": "code",
   "execution_count": 58,
   "id": "caccab33-25ac-49ee-8859-1e8576297fdc",
   "metadata": {},
   "outputs": [
    {
     "data": {
      "text/plain": [
       "2.0    528\n",
       "0.0      1\n",
       "Name: class, dtype: int64"
      ]
     },
     "execution_count": 58,
     "metadata": {},
     "output_type": "execute_result"
    }
   ],
   "source": [
    "train_df['class'].value_counts()"
   ]
  },
  {
   "cell_type": "code",
   "execution_count": 59,
   "id": "3586f843-a5fe-47d4-8da4-666f650e9f35",
   "metadata": {},
   "outputs": [
    {
     "data": {
      "text/plain": [
       "2.0    517\n",
       "0.0      1\n",
       "Name: class, dtype: int64"
      ]
     },
     "execution_count": 59,
     "metadata": {},
     "output_type": "execute_result"
    }
   ],
   "source": [
    "test_df['class'].value_counts()"
   ]
  },
  {
   "cell_type": "raw",
   "id": "36f1c486-8cb3-42bf-a4b1-a1641895ba98",
   "metadata": {},
   "source": [
    "2.0    525\n",
    "0.0      4"
   ]
  },
  {
   "cell_type": "raw",
   "id": "2601b22f-8b1f-4b52-bf0c-1fcaa8494d94",
   "metadata": {},
   "source": [
    "2.0    514\n",
    "0.0      4"
   ]
  },
  {
   "cell_type": "code",
   "execution_count": null,
   "id": "209b5982-9bbc-4c27-9af7-9645273a42ee",
   "metadata": {},
   "outputs": [],
   "source": []
  },
  {
   "cell_type": "code",
   "execution_count": 60,
   "id": "2d9dd064-bae7-4d65-adde-b57837210e06",
   "metadata": {},
   "outputs": [],
   "source": [
    "for el in ['x_min', 'y_min', 'x_max', 'y_max', 'h', 'w']:\n",
    "    train_df[f'log_{el}'] = train_df[el].apply(lambda x: np.log(x))\n",
    "    test_df[f'log_{el}'] = test_df[el].apply(lambda x: np.log(x))"
   ]
  },
  {
   "cell_type": "code",
   "execution_count": null,
   "id": "2c99d4c7-7032-4bb5-af5e-dc74f4b0c603",
   "metadata": {},
   "outputs": [],
   "source": []
  },
  {
   "cell_type": "code",
   "execution_count": 61,
   "id": "f9e56af1-b97c-4b15-a7f6-578d7259b5ea",
   "metadata": {},
   "outputs": [
    {
     "data": {
      "text/html": [
       "<div>\n",
       "<style scoped>\n",
       "    .dataframe tbody tr th:only-of-type {\n",
       "        vertical-align: middle;\n",
       "    }\n",
       "\n",
       "    .dataframe tbody tr th {\n",
       "        vertical-align: top;\n",
       "    }\n",
       "\n",
       "    .dataframe thead th {\n",
       "        text-align: right;\n",
       "    }\n",
       "</style>\n",
       "<table border=\"1\" class=\"dataframe\">\n",
       "  <thead>\n",
       "    <tr style=\"text-align: right;\">\n",
       "      <th></th>\n",
       "      <th>image_name</th>\n",
       "      <th>distance</th>\n",
       "      <th>x_min</th>\n",
       "      <th>y_min</th>\n",
       "      <th>x_max</th>\n",
       "      <th>...</th>\n",
       "      <th>log_y_min</th>\n",
       "      <th>log_x_max</th>\n",
       "      <th>log_y_max</th>\n",
       "      <th>log_h</th>\n",
       "      <th>log_w</th>\n",
       "    </tr>\n",
       "  </thead>\n",
       "  <tbody>\n",
       "    <tr>\n",
       "      <th>0</th>\n",
       "      <td>img_1596.jpg</td>\n",
       "      <td>4.88</td>\n",
       "      <td>1661.424072</td>\n",
       "      <td>1172.543701</td>\n",
       "      <td>2280.588135</td>\n",
       "      <td>...</td>\n",
       "      <td>7.066931</td>\n",
       "      <td>7.732189</td>\n",
       "      <td>7.448828</td>\n",
       "      <td>6.301344</td>\n",
       "      <td>6.428370</td>\n",
       "    </tr>\n",
       "    <tr>\n",
       "      <th>1</th>\n",
       "      <td>img_1600.jpg</td>\n",
       "      <td>1.54</td>\n",
       "      <td>1125.089722</td>\n",
       "      <td>1185.073486</td>\n",
       "      <td>3012.445312</td>\n",
       "      <td>...</td>\n",
       "      <td>7.077560</td>\n",
       "      <td>8.010507</td>\n",
       "      <td>7.907166</td>\n",
       "      <td>7.334073</td>\n",
       "      <td>7.542932</td>\n",
       "    </tr>\n",
       "    <tr>\n",
       "      <th>2</th>\n",
       "      <td>img_1601.jpg</td>\n",
       "      <td>3.68</td>\n",
       "      <td>2442.252441</td>\n",
       "      <td>1335.316040</td>\n",
       "      <td>3050.830566</td>\n",
       "      <td>...</td>\n",
       "      <td>7.196923</td>\n",
       "      <td>8.023169</td>\n",
       "      <td>7.488585</td>\n",
       "      <td>6.114136</td>\n",
       "      <td>6.411125</td>\n",
       "    </tr>\n",
       "    <tr>\n",
       "      <th>3</th>\n",
       "      <td>img_1603.jpg</td>\n",
       "      <td>2.22</td>\n",
       "      <td>2602.999512</td>\n",
       "      <td>1277.598389</td>\n",
       "      <td>3310.421875</td>\n",
       "      <td>...</td>\n",
       "      <td>7.152737</td>\n",
       "      <td>8.104831</td>\n",
       "      <td>7.522870</td>\n",
       "      <td>6.349610</td>\n",
       "      <td>6.561628</td>\n",
       "    </tr>\n",
       "    <tr>\n",
       "      <th>4</th>\n",
       "      <td>img_1605.jpg</td>\n",
       "      <td>3.73</td>\n",
       "      <td>2487.154053</td>\n",
       "      <td>1227.636475</td>\n",
       "      <td>3107.961426</td>\n",
       "      <td>...</td>\n",
       "      <td>7.112846</td>\n",
       "      <td>8.041722</td>\n",
       "      <td>7.428144</td>\n",
       "      <td>6.120398</td>\n",
       "      <td>6.431021</td>\n",
       "    </tr>\n",
       "    <tr>\n",
       "      <th>5</th>\n",
       "      <td>img_1606.jpg</td>\n",
       "      <td>4.52</td>\n",
       "      <td>3095.597412</td>\n",
       "      <td>1149.528809</td>\n",
       "      <td>4031.594238</td>\n",
       "      <td>...</td>\n",
       "      <td>7.047107</td>\n",
       "      <td>8.301917</td>\n",
       "      <td>7.653618</td>\n",
       "      <td>6.865610</td>\n",
       "      <td>6.841612</td>\n",
       "    </tr>\n",
       "    <tr>\n",
       "      <th>6</th>\n",
       "      <td>img_1607.jpg</td>\n",
       "      <td>5.40</td>\n",
       "      <td>2974.618896</td>\n",
       "      <td>1361.916992</td>\n",
       "      <td>4026.968750</td>\n",
       "      <td>...</td>\n",
       "      <td>7.216649</td>\n",
       "      <td>8.300769</td>\n",
       "      <td>7.757575</td>\n",
       "      <td>6.884802</td>\n",
       "      <td>6.958781</td>\n",
       "    </tr>\n",
       "    <tr>\n",
       "      <th>7</th>\n",
       "      <td>img_1608.jpg</td>\n",
       "      <td>6.21</td>\n",
       "      <td>2847.306641</td>\n",
       "      <td>1254.970581</td>\n",
       "      <td>4028.884766</td>\n",
       "      <td>...</td>\n",
       "      <td>7.134867</td>\n",
       "      <td>8.301245</td>\n",
       "      <td>7.716377</td>\n",
       "      <td>6.897546</td>\n",
       "      <td>7.074606</td>\n",
       "    </tr>\n",
       "    <tr>\n",
       "      <th>8</th>\n",
       "      <td>img_1612.jpg</td>\n",
       "      <td>7.12</td>\n",
       "      <td>2691.801270</td>\n",
       "      <td>1402.035400</td>\n",
       "      <td>4027.101074</td>\n",
       "      <td>...</td>\n",
       "      <td>7.245680</td>\n",
       "      <td>8.300802</td>\n",
       "      <td>7.719304</td>\n",
       "      <td>6.744478</td>\n",
       "      <td>7.196911</td>\n",
       "    </tr>\n",
       "    <tr>\n",
       "      <th>9</th>\n",
       "      <td>img_1613.jpg</td>\n",
       "      <td>5.26</td>\n",
       "      <td>2883.218018</td>\n",
       "      <td>1201.698486</td>\n",
       "      <td>4029.379639</td>\n",
       "      <td>...</td>\n",
       "      <td>7.091491</td>\n",
       "      <td>8.301368</td>\n",
       "      <td>7.743700</td>\n",
       "      <td>7.007866</td>\n",
       "      <td>7.044174</td>\n",
       "    </tr>\n",
       "    <tr>\n",
       "      <th>10</th>\n",
       "      <td>img_1615.jpg</td>\n",
       "      <td>2.26</td>\n",
       "      <td>1242.378540</td>\n",
       "      <td>925.532227</td>\n",
       "      <td>2860.270752</td>\n",
       "      <td>...</td>\n",
       "      <td>6.830369</td>\n",
       "      <td>7.958672</td>\n",
       "      <td>7.734752</td>\n",
       "      <td>7.215909</td>\n",
       "      <td>7.388879</td>\n",
       "    </tr>\n",
       "    <tr>\n",
       "      <th>11</th>\n",
       "      <td>img_1616.jpg</td>\n",
       "      <td>2.86</td>\n",
       "      <td>928.981567</td>\n",
       "      <td>685.766235</td>\n",
       "      <td>2968.927979</td>\n",
       "      <td>...</td>\n",
       "      <td>6.530537</td>\n",
       "      <td>7.995956</td>\n",
       "      <td>7.775414</td>\n",
       "      <td>7.435770</td>\n",
       "      <td>7.620679</td>\n",
       "    </tr>\n",
       "    <tr>\n",
       "      <th>12</th>\n",
       "      <td>img_1618.jpg</td>\n",
       "      <td>1.60</td>\n",
       "      <td>1300.742798</td>\n",
       "      <td>1052.812622</td>\n",
       "      <td>2636.482910</td>\n",
       "      <td>...</td>\n",
       "      <td>6.959221</td>\n",
       "      <td>7.877201</td>\n",
       "      <td>7.703966</td>\n",
       "      <td>7.059885</td>\n",
       "      <td>7.197241</td>\n",
       "    </tr>\n",
       "    <tr>\n",
       "      <th>13</th>\n",
       "      <td>img_1619.jpg</td>\n",
       "      <td>3.65</td>\n",
       "      <td>1366.237305</td>\n",
       "      <td>1111.551270</td>\n",
       "      <td>2480.344727</td>\n",
       "      <td>...</td>\n",
       "      <td>7.013512</td>\n",
       "      <td>7.816153</td>\n",
       "      <td>7.641915</td>\n",
       "      <td>6.879540</td>\n",
       "      <td>7.015809</td>\n",
       "    </tr>\n",
       "    <tr>\n",
       "      <th>14</th>\n",
       "      <td>img_1620.jpg</td>\n",
       "      <td>1.52</td>\n",
       "      <td>1318.738037</td>\n",
       "      <td>1117.455200</td>\n",
       "      <td>2259.474365</td>\n",
       "      <td>...</td>\n",
       "      <td>7.018809</td>\n",
       "      <td>7.722887</td>\n",
       "      <td>7.570930</td>\n",
       "      <td>6.713552</td>\n",
       "      <td>6.846663</td>\n",
       "    </tr>\n",
       "    <tr>\n",
       "      <th>15</th>\n",
       "      <td>img_1621.jpg</td>\n",
       "      <td>7.37</td>\n",
       "      <td>1479.507080</td>\n",
       "      <td>1121.258911</td>\n",
       "      <td>2624.041016</td>\n",
       "      <td>...</td>\n",
       "      <td>7.022207</td>\n",
       "      <td>7.872471</td>\n",
       "      <td>7.659683</td>\n",
       "      <td>6.907582</td>\n",
       "      <td>7.042753</td>\n",
       "    </tr>\n",
       "    <tr>\n",
       "      <th>16</th>\n",
       "      <td>img_1623.jpg</td>\n",
       "      <td>5.56</td>\n",
       "      <td>1606.542480</td>\n",
       "      <td>1277.125488</td>\n",
       "      <td>2219.218994</td>\n",
       "      <td>...</td>\n",
       "      <td>7.152367</td>\n",
       "      <td>7.704911</td>\n",
       "      <td>7.499684</td>\n",
       "      <td>6.273527</td>\n",
       "      <td>6.417837</td>\n",
       "    </tr>\n",
       "    <tr>\n",
       "      <th>17</th>\n",
       "      <td>img_1626.jpg</td>\n",
       "      <td>1.75</td>\n",
       "      <td>1118.017944</td>\n",
       "      <td>864.613464</td>\n",
       "      <td>2952.794922</td>\n",
       "      <td>...</td>\n",
       "      <td>6.762283</td>\n",
       "      <td>7.990507</td>\n",
       "      <td>7.772541</td>\n",
       "      <td>7.319788</td>\n",
       "      <td>7.514678</td>\n",
       "    </tr>\n",
       "    <tr>\n",
       "      <th>18</th>\n",
       "      <td>img_1627.jpg</td>\n",
       "      <td>1.36</td>\n",
       "      <td>639.544006</td>\n",
       "      <td>886.760376</td>\n",
       "      <td>3090.768311</td>\n",
       "      <td>...</td>\n",
       "      <td>6.787575</td>\n",
       "      <td>8.036175</td>\n",
       "      <td>7.971716</td>\n",
       "      <td>7.606419</td>\n",
       "      <td>7.804343</td>\n",
       "    </tr>\n",
       "    <tr>\n",
       "      <th>19</th>\n",
       "      <td>img_1628.jpg</td>\n",
       "      <td>1.12</td>\n",
       "      <td>752.979736</td>\n",
       "      <td>802.856689</td>\n",
       "      <td>3412.373535</td>\n",
       "      <td>...</td>\n",
       "      <td>6.688176</td>\n",
       "      <td>8.135163</td>\n",
       "      <td>7.997889</td>\n",
       "      <td>7.683318</td>\n",
       "      <td>7.885853</td>\n",
       "    </tr>\n",
       "  </tbody>\n",
       "</table>\n",
       "<p>20 rows × 16 columns</p>\n",
       "</div>"
      ],
      "text/plain": [
       "      image_name  distance        x_min        y_min        x_max  ...  \\\n",
       "0   img_1596.jpg      4.88  1661.424072  1172.543701  2280.588135  ...   \n",
       "1   img_1600.jpg      1.54  1125.089722  1185.073486  3012.445312  ...   \n",
       "2   img_1601.jpg      3.68  2442.252441  1335.316040  3050.830566  ...   \n",
       "3   img_1603.jpg      2.22  2602.999512  1277.598389  3310.421875  ...   \n",
       "4   img_1605.jpg      3.73  2487.154053  1227.636475  3107.961426  ...   \n",
       "5   img_1606.jpg      4.52  3095.597412  1149.528809  4031.594238  ...   \n",
       "6   img_1607.jpg      5.40  2974.618896  1361.916992  4026.968750  ...   \n",
       "7   img_1608.jpg      6.21  2847.306641  1254.970581  4028.884766  ...   \n",
       "8   img_1612.jpg      7.12  2691.801270  1402.035400  4027.101074  ...   \n",
       "9   img_1613.jpg      5.26  2883.218018  1201.698486  4029.379639  ...   \n",
       "10  img_1615.jpg      2.26  1242.378540   925.532227  2860.270752  ...   \n",
       "11  img_1616.jpg      2.86   928.981567   685.766235  2968.927979  ...   \n",
       "12  img_1618.jpg      1.60  1300.742798  1052.812622  2636.482910  ...   \n",
       "13  img_1619.jpg      3.65  1366.237305  1111.551270  2480.344727  ...   \n",
       "14  img_1620.jpg      1.52  1318.738037  1117.455200  2259.474365  ...   \n",
       "15  img_1621.jpg      7.37  1479.507080  1121.258911  2624.041016  ...   \n",
       "16  img_1623.jpg      5.56  1606.542480  1277.125488  2219.218994  ...   \n",
       "17  img_1626.jpg      1.75  1118.017944   864.613464  2952.794922  ...   \n",
       "18  img_1627.jpg      1.36   639.544006   886.760376  3090.768311  ...   \n",
       "19  img_1628.jpg      1.12   752.979736   802.856689  3412.373535  ...   \n",
       "\n",
       "    log_y_min  log_x_max  log_y_max     log_h     log_w  \n",
       "0    7.066931   7.732189   7.448828  6.301344  6.428370  \n",
       "1    7.077560   8.010507   7.907166  7.334073  7.542932  \n",
       "2    7.196923   8.023169   7.488585  6.114136  6.411125  \n",
       "3    7.152737   8.104831   7.522870  6.349610  6.561628  \n",
       "4    7.112846   8.041722   7.428144  6.120398  6.431021  \n",
       "5    7.047107   8.301917   7.653618  6.865610  6.841612  \n",
       "6    7.216649   8.300769   7.757575  6.884802  6.958781  \n",
       "7    7.134867   8.301245   7.716377  6.897546  7.074606  \n",
       "8    7.245680   8.300802   7.719304  6.744478  7.196911  \n",
       "9    7.091491   8.301368   7.743700  7.007866  7.044174  \n",
       "10   6.830369   7.958672   7.734752  7.215909  7.388879  \n",
       "11   6.530537   7.995956   7.775414  7.435770  7.620679  \n",
       "12   6.959221   7.877201   7.703966  7.059885  7.197241  \n",
       "13   7.013512   7.816153   7.641915  6.879540  7.015809  \n",
       "14   7.018809   7.722887   7.570930  6.713552  6.846663  \n",
       "15   7.022207   7.872471   7.659683  6.907582  7.042753  \n",
       "16   7.152367   7.704911   7.499684  6.273527  6.417837  \n",
       "17   6.762283   7.990507   7.772541  7.319788  7.514678  \n",
       "18   6.787575   8.036175   7.971716  7.606419  7.804343  \n",
       "19   6.688176   8.135163   7.997889  7.683318  7.885853  \n",
       "\n",
       "[20 rows x 16 columns]"
      ]
     },
     "execution_count": 61,
     "metadata": {},
     "output_type": "execute_result"
    }
   ],
   "source": [
    "train_df.head(20)"
   ]
  },
  {
   "cell_type": "code",
   "execution_count": null,
   "id": "bcc3ee10-186f-4e16-80df-314c7bf21506",
   "metadata": {},
   "outputs": [],
   "source": []
  },
  {
   "cell_type": "code",
   "execution_count": 62,
   "id": "80ac3dea-a649-4b8a-90cc-ec844b129a20",
   "metadata": {},
   "outputs": [],
   "source": [
    "train_df.to_csv(os.path.join(DIR_DATA, 'train_upd.csv'), index = False)\n",
    "test_df.to_csv(os.path.join(DIR_DATA, 'test_upd.csv'), index = False)"
   ]
  },
  {
   "cell_type": "code",
   "execution_count": null,
   "id": "c70a3d5b-44d3-4abc-afb3-4fdb5b83e4c0",
   "metadata": {},
   "outputs": [],
   "source": []
  },
  {
   "cell_type": "code",
   "execution_count": null,
   "id": "5ae9b4d9-229d-4b91-b078-50cc5e84945f",
   "metadata": {},
   "outputs": [],
   "source": []
  },
  {
   "cell_type": "code",
   "execution_count": null,
   "id": "bf5d6cd6-461b-4dc2-bf90-7a6b2bd591c0",
   "metadata": {},
   "outputs": [],
   "source": []
  }
 ],
 "metadata": {
  "kernelspec": {
   "display_name": "uly22",
   "language": "python",
   "name": "uly22"
  },
  "language_info": {
   "codemirror_mode": {
    "name": "ipython",
    "version": 3
   },
   "file_extension": ".py",
   "mimetype": "text/x-python",
   "name": "python",
   "nbconvert_exporter": "python",
   "pygments_lexer": "ipython3",
   "version": "3.10.4"
  }
 },
 "nbformat": 4,
 "nbformat_minor": 5
}
