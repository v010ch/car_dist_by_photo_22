{
 "cells": [
  {
   "cell_type": "code",
   "execution_count": 1,
   "id": "0fe2d185",
   "metadata": {
    "collapsed": false,
    "jupyter": {
     "outputs_hidden": false
    }
   },
   "outputs": [
    {
     "name": "stdout",
     "output_type": "stream",
     "text": [
      "Last updated: 2022-08-27T15:17:55.153552+03:00\n",
      "\n",
      "Python implementation: CPython\n",
      "Python version       : 3.10.4\n",
      "IPython version      : 8.4.0\n",
      "\n",
      "Compiler    : GCC 7.5.0\n",
      "OS          : Linux\n",
      "Release     : 5.15.0-46-generic\n",
      "Machine     : x86_64\n",
      "Processor   : x86_64\n",
      "CPU cores   : 8\n",
      "Architecture: 64bit\n",
      "\n"
     ]
    }
   ],
   "source": [
    "%load_ext watermark\n",
    "%watermark"
   ]
  },
  {
   "cell_type": "code",
   "execution_count": 2,
   "id": "bc951c39",
   "metadata": {},
   "outputs": [],
   "source": [
    "import time\n",
    "notebookstart= time.time()"
   ]
  },
  {
   "cell_type": "code",
   "execution_count": 3,
   "id": "1bce8e66",
   "metadata": {
    "collapsed": false,
    "jupyter": {
     "outputs_hidden": false
    }
   },
   "outputs": [],
   "source": [
    "import torch"
   ]
  },
  {
   "cell_type": "code",
   "execution_count": 4,
   "id": "62bb5c89",
   "metadata": {},
   "outputs": [],
   "source": [
    "import os\n",
    "from typing import List, Tuple, Optional\n",
    "\n",
    "import pandas as pd\n",
    "import numpy as np\n",
    "\n",
    "from PIL import Image\n",
    "from pillow_heif import register_heif_opener\n",
    "register_heif_opener() # for using Image.open for .heic without changes\n",
    "\n",
    "from tqdm.auto import tqdm\n",
    "tqdm.pandas()"
   ]
  },
  {
   "cell_type": "code",
   "execution_count": 5,
   "id": "89a08a4b",
   "metadata": {},
   "outputs": [],
   "source": [
    "#import matplotlib\n",
    "import matplotlib.pyplot as plt\n",
    "import seaborn as sns"
   ]
  },
  {
   "cell_type": "code",
   "execution_count": 6,
   "id": "fe90b392",
   "metadata": {},
   "outputs": [],
   "source": [
    "%matplotlib inline"
   ]
  },
  {
   "cell_type": "code",
   "execution_count": 7,
   "id": "e0927eec",
   "metadata": {
    "collapsed": false,
    "jupyter": {
     "outputs_hidden": false
    }
   },
   "outputs": [
    {
     "name": "stdout",
     "output_type": "stream",
     "text": [
      "numpy     : 1.23.2\n",
      "pandas    : 1.4.3\n",
      "torch     : 1.12.1\n",
      "seaborn   : 0.11.2\n",
      "matplotlib: 3.5.3\n",
      "PIL       : 9.2.0\n",
      "\n"
     ]
    }
   ],
   "source": [
    "%watermark --iversions"
   ]
  },
  {
   "cell_type": "code",
   "execution_count": null,
   "id": "ef131096",
   "metadata": {
    "collapsed": true,
    "jupyter": {
     "outputs_hidden": true
    }
   },
   "outputs": [],
   "source": []
  },
  {
   "cell_type": "code",
   "execution_count": 8,
   "id": "da65def4",
   "metadata": {},
   "outputs": [],
   "source": [
    "#import skimage\n",
    "#print(skimage.__version__)"
   ]
  },
  {
   "cell_type": "code",
   "execution_count": null,
   "id": "0552cb7d",
   "metadata": {
    "collapsed": true,
    "jupyter": {
     "outputs_hidden": true
    }
   },
   "outputs": [],
   "source": []
  },
  {
   "cell_type": "markdown",
   "id": "e60d08d7",
   "metadata": {},
   "source": [
    "Блок для воспроизводимости результата"
   ]
  },
  {
   "cell_type": "code",
   "execution_count": 9,
   "id": "0cc03c1c",
   "metadata": {},
   "outputs": [],
   "source": [
    "# seed the RNG for all devices (both CPU and CUDA)\n",
    "#torch.manual_seed(1984)\n",
    "\n",
    "#Disabling the benchmarking feature causes cuDNN to deterministically select an algorithm, \n",
    "#possibly at the cost of reduced performance.\n",
    "#torch.backends.cudnn.benchmark = False\n",
    "\n",
    "# for custom operators,\n",
    "import random\n",
    "random.seed(5986721)\n",
    "\n",
    "# \n",
    "np.random.seed(62185)\n",
    "\n",
    "#sklearn take seed from a line abowe\n",
    "\n",
    "CB_RANDOMSEED  = 309487\n",
    "XGB_RANDOMSEED = 56\n",
    "LGB_RANDOMSEED = 874256"
   ]
  },
  {
   "cell_type": "code",
   "execution_count": null,
   "id": "1efb878b",
   "metadata": {
    "collapsed": true,
    "jupyter": {
     "outputs_hidden": true
    }
   },
   "outputs": [],
   "source": []
  },
  {
   "cell_type": "code",
   "execution_count": 10,
   "id": "a0be230c",
   "metadata": {},
   "outputs": [],
   "source": [
    "DIR_DATA = os.path.join(os.getcwd(), 'data')\n",
    "DIR_SUBM = os.path.join(os.getcwd(), 'subm')\n",
    "DIR_SUBM_TRAIN = os.path.join(os.getcwd(), 'subm', 'train')\n",
    "DIR_DATA_TRAIN = os.path.join(DIR_DATA, 'train')\n",
    "DIR_DATA_TEST  = os.path.join(DIR_DATA, 'test')"
   ]
  },
  {
   "cell_type": "code",
   "execution_count": null,
   "id": "367ab5f4",
   "metadata": {
    "collapsed": true,
    "jupyter": {
     "outputs_hidden": true
    }
   },
   "outputs": [],
   "source": []
  },
  {
   "cell_type": "markdown",
   "id": "6955f6e6",
   "metadata": {},
   "source": [
    "# Загружаем и подготавливаем данные"
   ]
  },
  {
   "cell_type": "code",
   "execution_count": 11,
   "id": "7db25cfd",
   "metadata": {
    "collapsed": false,
    "jupyter": {
     "outputs_hidden": false
    }
   },
   "outputs": [
    {
     "data": {
      "text/plain": [
       "(521, 530)"
      ]
     },
     "execution_count": 11,
     "metadata": {},
     "output_type": "execute_result"
    }
   ],
   "source": [
    "test_img_names  = set(os.listdir(DIR_DATA_TEST))\n",
    "train_img_names = set(os.listdir(DIR_DATA_TRAIN))\n",
    "len(test_img_names), len(train_img_names)"
   ]
  },
  {
   "cell_type": "code",
   "execution_count": 12,
   "id": "6c8081a0",
   "metadata": {},
   "outputs": [],
   "source": [
    "train_labels_df = pd.read_csv(os.path.join(DIR_DATA, 'train.csv'), sep=';', index_col=None)"
   ]
  },
  {
   "cell_type": "code",
   "execution_count": null,
   "id": "7555e985",
   "metadata": {
    "collapsed": true,
    "jupyter": {
     "outputs_hidden": true
    }
   },
   "outputs": [],
   "source": []
  },
  {
   "cell_type": "code",
   "execution_count": null,
   "id": "4f0bf968",
   "metadata": {
    "collapsed": true,
    "jupyter": {
     "outputs_hidden": true
    }
   },
   "outputs": [],
   "source": []
  },
  {
   "cell_type": "code",
   "execution_count": null,
   "id": "a8b88833",
   "metadata": {
    "collapsed": true,
    "jupyter": {
     "outputs_hidden": true
    }
   },
   "outputs": [],
   "source": []
  },
  {
   "cell_type": "code",
   "execution_count": 13,
   "id": "58d8b4f3",
   "metadata": {},
   "outputs": [],
   "source": [
    "def get_car_center(inp_tensor: torch.Tensor) -> Tuple[int, int]:\n",
    "\n",
    "    car_cntr = (int((inp_tensor[2].int().item() - inp_tensor[0].int().item())/2 + inp_tensor[0].int().item()),\n",
    "                int((inp_tensor[3].int().item() - inp_tensor[1].int().item())/2 + inp_tensor[1].int().item())\n",
    "        )\n",
    "    \n",
    "    return car_cntr"
   ]
  },
  {
   "cell_type": "code",
   "execution_count": 14,
   "id": "6a6bd7d4",
   "metadata": {},
   "outputs": [],
   "source": [
    "def get_center_dist(inp_center: Tuple[int, int], inp_point: Tuple[int, int]) -> float:\n",
    "    \n",
    "    return np.sqrt((inp_center[0] - inp_point[0])**2 + \\\n",
    "                   (inp_center[1] - inp_point[1])**2)"
   ]
  },
  {
   "cell_type": "code",
   "execution_count": 15,
   "id": "95247b1c",
   "metadata": {},
   "outputs": [],
   "source": [
    "def determine_targ_car(inp_results, inp_img_cntr: Tuple[int, int]) -> int:\n",
    "    \n",
    "    min_dist = 1000000\n",
    "    min_idx  = -1\n",
    "    \n",
    "    for el in range(inp_results.xyxy[0].shape[0]):\n",
    "        # учитываем только машины\n",
    "        if inp_results.xyxy[0][el][5].int().item() != 2:\n",
    "            continue\n",
    "            \n",
    "        # минимальные габариты учитываемых машин\n",
    "        # в противном случае иногда ближе к центру оказываются машины например 27х54\n",
    "        h = inp_results.xyxy[0][el][3] - inp_results.xyxy[0][el][1]\n",
    "        w = inp_results.xyxy[0][el][2] - inp_results.xyxy[0][el][0]\n",
    "        if w < 200 or h < 200:\n",
    "            continue\n",
    "            \n",
    "            \n",
    "        car_cntr = get_car_center(inp_results.xyxy[0][el])\n",
    "        cur_dist = get_center_dist(inp_img_cntr, car_cntr)\n",
    "        if cur_dist < min_dist:\n",
    "            min_dist = cur_dist\n",
    "            min_idx = el\n",
    "\n",
    "    return min_idx"
   ]
  },
  {
   "cell_type": "code",
   "execution_count": 23,
   "id": "e1e68708",
   "metadata": {},
   "outputs": [],
   "source": [
    "def create_car_feeatures_yolo(inp_fnames: List[str], inp_dir: str, inp_model, use_centr: Optional[bool] = False) -> pd.DataFrame:\n",
    "    \n",
    "    ret_data = []\n",
    "\n",
    "    for img_name in tqdm(inp_fnames): \n",
    "\n",
    "        img = Image.open(os.path.join(inp_dir, img_name))\n",
    "        \n",
    "        \n",
    "        img = np.array(img)\n",
    "        #results = model(np.array(img))\n",
    "        results = inp_model(img)\n",
    "    \n",
    "        # найден хотя бы один объект\n",
    "        if results.xyxy[0].shape != torch.Size([0, 6]):\n",
    "\n",
    "            # искать ближайший к центру кадра объект?   \n",
    "            if use_centr:\n",
    "                img_cntr = (int(img.shape[1]/2), int(img.shape[0]/2))\n",
    "                target_goal = determine_targ_car(results, img_cntr)\n",
    "            else:\n",
    "                target_goal = 0\n",
    "\n",
    "            if target_goal < 0:\n",
    "                print(f'wtf2, {img_name}   {results.xyxy[0].shape}')\n",
    "                continue\n",
    "                \n",
    "            h = results.xyxy[0][target_goal][3] - results.xyxy[0][target_goal][1]\n",
    "            w = results.xyxy[0][target_goal][2] - results.xyxy[0][target_goal][0]\n",
    "            results = results.xyxy[0][target_goal].numpy().tolist() + [h.item(), w.item()]\n",
    "            \n",
    "            # позволим алгоритмам самим выбирать как заполнить пропуски\n",
    "            ret_data.append([img_name] + results)\n",
    "            \n",
    "            \n",
    "            #get_label_plate_features(img, results)\n",
    "            \n",
    "            \n",
    "        else:\n",
    "            print(f'wtf, {img_name}   {results.xyxy[0].shape}')\n",
    "            # позволим алгоритмам самим выбирать как заполнить пропуски\n",
    "            #results = [0, 0, 0, 0, 0, 0, 0, 0]\n",
    "\n",
    "# позволим алгоритмам самим выбирать как заполнить пропуски\n",
    "#        ret_data.append([img_name] + results)\n",
    "        \n",
    "    ret_data = pd.DataFrame(ret_data, columns = ['image_name', 'car_x_min', 'car_y_min', 'car_x_max', 'car_y_max', 'car_conf', 'car_class', 'car_h', 'car_w'])\n",
    "        \n",
    "    return ret_data"
   ]
  },
  {
   "cell_type": "code",
   "execution_count": 24,
   "id": "ccf65114",
   "metadata": {},
   "outputs": [],
   "source": [
    "def create_license_plate_feeatures_yolo(inp_df: pd.DataFrame, inp_dir: str, inp_model, use_centr: Optional[bool] = False) -> pd.DataFrame:\n",
    "    \n",
    "    \n",
    "    for el in inp_df.index:\n",
    "        img = Image.open(os.path.join(inp_dir, img_name))\n",
    "        img = np.array(img)\n",
    "        #results = model(np.array(img))\n",
    "        results = inp_model(img)\n",
    "    \n",
    "        # найден хотя бы один объект\n",
    "        if results.xyxy[0].shape != torch.Size([0, 6]):\n",
    "            pass   \n",
    "            \n",
    "            \n",
    "            \n",
    "    pass"
   ]
  },
  {
   "cell_type": "code",
   "execution_count": null,
   "id": "aa05d6c3",
   "metadata": {
    "collapsed": true,
    "jupyter": {
     "outputs_hidden": true
    }
   },
   "outputs": [],
   "source": []
  },
  {
   "cell_type": "code",
   "execution_count": 25,
   "id": "5fad7220",
   "metadata": {
    "collapsed": false,
    "jupyter": {
     "outputs_hidden": false
    }
   },
   "outputs": [
    {
     "name": "stderr",
     "output_type": "stream",
     "text": [
      "Using cache found in /home/v010ch/.cache/torch/hub/ultralytics_yolov5_master\n",
      "YOLOv5 🚀 2022-8-27 Python-3.10.4 torch-1.12.1+cu102 CUDA:0 (NVIDIA GeForce GTX 1050 Ti, 4037MiB)\n",
      "\n",
      "Fusing layers... \n",
      "YOLOv5l summary: 367 layers, 46533693 parameters, 0 gradients\n",
      "Adding AutoShape... \n"
     ]
    }
   ],
   "source": [
    "#model = torch.hub.load('ultralytics/yolov5', 'yolov5x6')\n",
    "model = torch.hub.load('ultralytics/yolov5', 'yolov5l')  #\n",
    "_ = model.cpu()\n",
    "\n",
    "\n",
    "#model_plate = torch.hub.load('ultralytics/yolov5', 'custom', path = './models/best_y5m_full_4e.pt', source='local')\n",
    "#model_plate = torch.hub.load('ultralytics/yolov5', 'custom', path = './models_weights/best_y5l_full_3e.pt', force_reload=True)\n",
    "#model_plate = torch.load('./models/last_y5m_full_4e.pt')"
   ]
  },
  {
   "cell_type": "code",
   "execution_count": null,
   "id": "0f17b12b",
   "metadata": {
    "collapsed": true,
    "jupyter": {
     "outputs_hidden": true
    }
   },
   "outputs": [],
   "source": []
  },
  {
   "cell_type": "code",
   "execution_count": 26,
   "id": "c6084ee6",
   "metadata": {},
   "outputs": [],
   "source": [
    "#model"
   ]
  },
  {
   "cell_type": "raw",
   "id": "ee3d4644",
   "metadata": {},
   "source": [
    "train_data = []\n",
    "\n",
    "for img_name in tqdm(train_img_names): \n",
    "    #if 'heic' in img_name:\n",
    "    #    heif_file = pyheif.read(os.path.join(DIR_DATA_TRAIN, img_name))\n",
    "    #   img = Image.frombytes(heif_file.mode, heif_file.size, heif_file.data, \"raw\", heif_file.mode, heif_file.stride)\n",
    "    #else:\n",
    "    #    img = Image.open(os.path.join(DIR_DATA_TRAIN, img_name))\n",
    "    img = Image.open(os.path.join(DIR_DATA_TRAIN, img_name))\n",
    "    \n",
    "    #img_ = np.array(img)\n",
    "    results = model(np.array(img))\n",
    "    \n",
    "    if results.xyxy[0].shape != torch.Size([0, 6]):\n",
    "        \n",
    "        #img_cntr = (int(img_.shape[1]/2), int(img_.shape[0]/2))\n",
    "        #target_goal = determine_targ_car(results, img_cntr)\n",
    "        target_goal = 0\n",
    "        \n",
    "        \n",
    "        results = [img_name] + results.xyxy[0][target_goal].numpy().tolist()\n",
    "        train_data.append(results)"
   ]
  },
  {
   "cell_type": "code",
   "execution_count": 27,
   "id": "a92f7352",
   "metadata": {},
   "outputs": [
    {
     "data": {
      "application/json": {
       "ascii": false,
       "bar_format": null,
       "colour": null,
       "elapsed": 0.031185626983642578,
       "initial": 0,
       "n": 0,
       "ncols": null,
       "nrows": 24,
       "postfix": null,
       "prefix": "",
       "rate": null,
       "total": 530,
       "unit": "it",
       "unit_divisor": 1000,
       "unit_scale": false
      },
      "application/vnd.jupyter.widget-view+json": {
       "model_id": "d09be18c848d44e0b7af4b6791e42fb2",
       "version_major": 2,
       "version_minor": 0
      },
      "text/plain": [
       "  0%|          | 0/530 [00:00<?, ?it/s]"
      ]
     },
     "metadata": {},
     "output_type": "display_data"
    },
    {
     "name": "stdout",
     "output_type": "stream",
     "text": [
      "wtf2, img_1890.jpg   torch.Size([2, 6])\n"
     ]
    },
    {
     "data": {
      "text/plain": [
       "(530, 10)"
      ]
     },
     "execution_count": 27,
     "metadata": {},
     "output_type": "execute_result"
    }
   ],
   "source": [
    "train_df = create_car_feeatures_yolo(train_img_names, DIR_DATA_TRAIN, model, use_centr = True) #use_centr\n",
    "#train_df = create_car_feeatures_resnet(train_img_names, DIR_DATA_TRAIN, model, use_centr = True) #use_centr\n",
    "train_df = pd.merge(train_labels_df, train_df, how='left')\n",
    "train_df.shape"
   ]
  },
  {
   "cell_type": "code",
   "execution_count": null,
   "id": "6e286f0f",
   "metadata": {
    "collapsed": true,
    "jupyter": {
     "outputs_hidden": true
    }
   },
   "outputs": [],
   "source": []
  },
  {
   "cell_type": "code",
   "execution_count": 29,
   "id": "eceab4a4",
   "metadata": {},
   "outputs": [
    {
     "data": {
      "application/json": {
       "ascii": false,
       "bar_format": null,
       "colour": null,
       "elapsed": 0.0209808349609375,
       "initial": 0,
       "n": 0,
       "ncols": null,
       "nrows": 24,
       "postfix": null,
       "prefix": "",
       "rate": null,
       "total": 521,
       "unit": "it",
       "unit_divisor": 1000,
       "unit_scale": false
      },
      "application/vnd.jupyter.widget-view+json": {
       "model_id": "63cae94530264f468897fad4aac50202",
       "version_major": 2,
       "version_minor": 0
      },
      "text/plain": [
       "  0%|          | 0/521 [00:00<?, ?it/s]"
      ]
     },
     "metadata": {},
     "output_type": "display_data"
    },
    {
     "name": "stdout",
     "output_type": "stream",
     "text": [
      "wtf2, img_1889.jpg   torch.Size([3, 6])\n",
      "wtf2, img_1888.jpg   torch.Size([2, 6])\n",
      "wtf, img_2674.heic   torch.Size([0, 6])\n",
      "wtf2, img_2571.jpg   torch.Size([1, 6])\n"
     ]
    },
    {
     "data": {
      "text/plain": [
       "(517, 9)"
      ]
     },
     "execution_count": 29,
     "metadata": {},
     "output_type": "execute_result"
    }
   ],
   "source": [
    "test_df = create_car_feeatures_yolo(test_img_names, DIR_DATA_TEST, model, use_centr = True) #use_centr\n",
    "test_df.shape"
   ]
  },
  {
   "cell_type": "code",
   "execution_count": null,
   "id": "acf21e0c",
   "metadata": {
    "collapsed": true,
    "jupyter": {
     "outputs_hidden": true
    }
   },
   "outputs": [],
   "source": []
  },
  {
   "cell_type": "markdown",
   "id": "a38f74e4",
   "metadata": {},
   "source": [
    "yolov5 не найдено машин:     \n",
    "train:   \n",
    "img_1890.jpg (w&h < 200),     \n",
    "\n",
    "test: \n",
    "img_1888.jpg (w&h < 200), \n",
    "img_1889.jpg(only person)\n",
    "img_2674.heic, \n",
    "img_2571.jpg (w&h < 200), "
   ]
  },
  {
   "cell_type": "code",
   "execution_count": null,
   "id": "ef9e8d3b",
   "metadata": {
    "collapsed": true,
    "jupyter": {
     "outputs_hidden": true
    }
   },
   "outputs": [],
   "source": []
  },
  {
   "cell_type": "code",
   "execution_count": 31,
   "id": "4e9c0cd3",
   "metadata": {},
   "outputs": [
    {
     "name": "stderr",
     "output_type": "stream",
     "text": [
      "/tmp/ipykernel_29195/3672459171.py:2: UserWarning: Matplotlib is currently using agg, which is a non-GUI backend, so cannot show the figure.\n",
      "  plt.show()\n"
     ]
    }
   ],
   "source": [
    "sns.histplot(train_df, x='car_h')\n",
    "plt.show()"
   ]
  },
  {
   "cell_type": "code",
   "execution_count": 32,
   "id": "cf85f299",
   "metadata": {},
   "outputs": [
    {
     "name": "stderr",
     "output_type": "stream",
     "text": [
      "/tmp/ipykernel_29195/3634056166.py:2: UserWarning: Matplotlib is currently using agg, which is a non-GUI backend, so cannot show the figure.\n",
      "  plt.show()\n"
     ]
    }
   ],
   "source": [
    "sns.histplot(train_df, x='car_w')\n",
    "plt.show()"
   ]
  },
  {
   "cell_type": "code",
   "execution_count": null,
   "id": "da66fa70",
   "metadata": {
    "collapsed": true,
    "jupyter": {
     "outputs_hidden": true
    }
   },
   "outputs": [],
   "source": []
  },
  {
   "cell_type": "code",
   "execution_count": 34,
   "id": "a4c1b77a",
   "metadata": {},
   "outputs": [
    {
     "data": {
      "text/plain": [
       "2.0    529\n",
       "Name: car_class, dtype: int64"
      ]
     },
     "execution_count": 34,
     "metadata": {},
     "output_type": "execute_result"
    }
   ],
   "source": [
    "train_df['car_class'].value_counts()"
   ]
  },
  {
   "cell_type": "code",
   "execution_count": 35,
   "id": "d19e2a86",
   "metadata": {},
   "outputs": [
    {
     "data": {
      "text/plain": [
       "2.0    517\n",
       "Name: car_class, dtype: int64"
      ]
     },
     "execution_count": 35,
     "metadata": {},
     "output_type": "execute_result"
    }
   ],
   "source": [
    "test_df['car_class'].value_counts()"
   ]
  },
  {
   "cell_type": "raw",
   "id": "e7acdca4",
   "metadata": {},
   "source": [
    "2.0    525\n",
    "0.0      4"
   ]
  },
  {
   "cell_type": "raw",
   "id": "4025a0a9",
   "metadata": {},
   "source": [
    "2.0    514\n",
    "0.0      4"
   ]
  },
  {
   "cell_type": "code",
   "execution_count": null,
   "id": "391d43d1",
   "metadata": {
    "collapsed": true,
    "jupyter": {
     "outputs_hidden": true
    }
   },
   "outputs": [],
   "source": []
  },
  {
   "cell_type": "code",
   "execution_count": 38,
   "id": "bce0db3e",
   "metadata": {},
   "outputs": [],
   "source": [
    "for el in ['car_x_min', 'car_y_min', 'car_x_max', 'car_y_max', 'car_h', 'car_w']:\n",
    "    train_df[f'log_{el}'] = train_df[el].apply(lambda x: np.log(x))\n",
    "    test_df[f'log_{el}'] = test_df[el].apply(lambda x: np.log(x))"
   ]
  },
  {
   "cell_type": "code",
   "execution_count": null,
   "id": "cfff40fd",
   "metadata": {
    "collapsed": true,
    "jupyter": {
     "outputs_hidden": true
    }
   },
   "outputs": [],
   "source": []
  },
  {
   "cell_type": "code",
   "execution_count": 40,
   "id": "d52298fa",
   "metadata": {},
   "outputs": [
    {
     "data": {
      "text/html": [
       "<div>\n",
       "<style scoped>\n",
       "    .dataframe tbody tr th:only-of-type {\n",
       "        vertical-align: middle;\n",
       "    }\n",
       "\n",
       "    .dataframe tbody tr th {\n",
       "        vertical-align: top;\n",
       "    }\n",
       "\n",
       "    .dataframe thead th {\n",
       "        text-align: right;\n",
       "    }\n",
       "</style>\n",
       "<table border=\"1\" class=\"dataframe\">\n",
       "  <thead>\n",
       "    <tr style=\"text-align: right;\">\n",
       "      <th></th>\n",
       "      <th>image_name</th>\n",
       "      <th>distance</th>\n",
       "      <th>car_x_min</th>\n",
       "      <th>car_y_min</th>\n",
       "      <th>car_x_max</th>\n",
       "      <th>...</th>\n",
       "      <th>log_car_y_min</th>\n",
       "      <th>log_car_x_max</th>\n",
       "      <th>log_car_y_max</th>\n",
       "      <th>log_car_h</th>\n",
       "      <th>log_car_w</th>\n",
       "    </tr>\n",
       "  </thead>\n",
       "  <tbody>\n",
       "    <tr>\n",
       "      <th>0</th>\n",
       "      <td>img_1596.jpg</td>\n",
       "      <td>4.88</td>\n",
       "      <td>1661.429565</td>\n",
       "      <td>1172.557251</td>\n",
       "      <td>2280.754883</td>\n",
       "      <td>...</td>\n",
       "      <td>7.066942</td>\n",
       "      <td>7.732262</td>\n",
       "      <td>7.448874</td>\n",
       "      <td>6.301465</td>\n",
       "      <td>6.428631</td>\n",
       "    </tr>\n",
       "    <tr>\n",
       "      <th>1</th>\n",
       "      <td>img_1600.jpg</td>\n",
       "      <td>1.54</td>\n",
       "      <td>1125.149536</td>\n",
       "      <td>1184.862671</td>\n",
       "      <td>3012.469971</td>\n",
       "      <td>...</td>\n",
       "      <td>7.077382</td>\n",
       "      <td>8.010516</td>\n",
       "      <td>7.907194</td>\n",
       "      <td>7.334260</td>\n",
       "      <td>7.542913</td>\n",
       "    </tr>\n",
       "    <tr>\n",
       "      <th>2</th>\n",
       "      <td>img_1601.jpg</td>\n",
       "      <td>3.68</td>\n",
       "      <td>1573.088257</td>\n",
       "      <td>1192.642944</td>\n",
       "      <td>2434.746826</td>\n",
       "      <td>...</td>\n",
       "      <td>7.083927</td>\n",
       "      <td>7.797598</td>\n",
       "      <td>7.610886</td>\n",
       "      <td>6.718317</td>\n",
       "      <td>6.758859</td>\n",
       "    </tr>\n",
       "    <tr>\n",
       "      <th>3</th>\n",
       "      <td>img_1603.jpg</td>\n",
       "      <td>2.22</td>\n",
       "      <td>2603.172363</td>\n",
       "      <td>1277.686401</td>\n",
       "      <td>3310.659912</td>\n",
       "      <td>...</td>\n",
       "      <td>7.152806</td>\n",
       "      <td>8.104903</td>\n",
       "      <td>7.522853</td>\n",
       "      <td>6.349404</td>\n",
       "      <td>6.561720</td>\n",
       "    </tr>\n",
       "    <tr>\n",
       "      <th>4</th>\n",
       "      <td>img_1605.jpg</td>\n",
       "      <td>3.73</td>\n",
       "      <td>1612.237183</td>\n",
       "      <td>1101.504517</td>\n",
       "      <td>2481.318848</td>\n",
       "      <td>...</td>\n",
       "      <td>7.004432</td>\n",
       "      <td>7.816545</td>\n",
       "      <td>7.562426</td>\n",
       "      <td>6.712962</td>\n",
       "      <td>6.767437</td>\n",
       "    </tr>\n",
       "    <tr>\n",
       "      <th>5</th>\n",
       "      <td>img_1606.jpg</td>\n",
       "      <td>4.52</td>\n",
       "      <td>1627.065308</td>\n",
       "      <td>1009.970459</td>\n",
       "      <td>2351.432617</td>\n",
       "      <td>...</td>\n",
       "      <td>6.917676</td>\n",
       "      <td>7.762780</td>\n",
       "      <td>7.447730</td>\n",
       "      <td>6.559604</td>\n",
       "      <td>6.585299</td>\n",
       "    </tr>\n",
       "    <tr>\n",
       "      <th>6</th>\n",
       "      <td>img_1607.jpg</td>\n",
       "      <td>5.40</td>\n",
       "      <td>1716.459961</td>\n",
       "      <td>1277.694946</td>\n",
       "      <td>2344.615479</td>\n",
       "      <td>...</td>\n",
       "      <td>7.152813</td>\n",
       "      <td>7.759877</td>\n",
       "      <td>7.541665</td>\n",
       "      <td>6.408974</td>\n",
       "      <td>6.442788</td>\n",
       "    </tr>\n",
       "    <tr>\n",
       "      <th>7</th>\n",
       "      <td>img_1608.jpg</td>\n",
       "      <td>6.21</td>\n",
       "      <td>1778.528687</td>\n",
       "      <td>1193.292114</td>\n",
       "      <td>2315.450684</td>\n",
       "      <td>...</td>\n",
       "      <td>7.084471</td>\n",
       "      <td>7.747360</td>\n",
       "      <td>7.449093</td>\n",
       "      <td>6.263421</td>\n",
       "      <td>6.285853</td>\n",
       "    </tr>\n",
       "    <tr>\n",
       "      <th>8</th>\n",
       "      <td>img_1612.jpg</td>\n",
       "      <td>7.12</td>\n",
       "      <td>2275.804199</td>\n",
       "      <td>1428.866333</td>\n",
       "      <td>2694.506836</td>\n",
       "      <td>...</td>\n",
       "      <td>7.264637</td>\n",
       "      <td>7.898970</td>\n",
       "      <td>7.457901</td>\n",
       "      <td>5.719130</td>\n",
       "      <td>6.037161</td>\n",
       "    </tr>\n",
       "    <tr>\n",
       "      <th>9</th>\n",
       "      <td>img_1613.jpg</td>\n",
       "      <td>5.26</td>\n",
       "      <td>1684.911987</td>\n",
       "      <td>1191.849731</td>\n",
       "      <td>2306.685059</td>\n",
       "      <td>...</td>\n",
       "      <td>7.083262</td>\n",
       "      <td>7.743567</td>\n",
       "      <td>7.474751</td>\n",
       "      <td>6.347587</td>\n",
       "      <td>6.432575</td>\n",
       "    </tr>\n",
       "  </tbody>\n",
       "</table>\n",
       "<p>10 rows × 16 columns</p>\n",
       "</div>"
      ],
      "text/plain": [
       "     image_name  distance    car_x_min    car_y_min    car_x_max  ...  \\\n",
       "0  img_1596.jpg      4.88  1661.429565  1172.557251  2280.754883  ...   \n",
       "1  img_1600.jpg      1.54  1125.149536  1184.862671  3012.469971  ...   \n",
       "2  img_1601.jpg      3.68  1573.088257  1192.642944  2434.746826  ...   \n",
       "3  img_1603.jpg      2.22  2603.172363  1277.686401  3310.659912  ...   \n",
       "4  img_1605.jpg      3.73  1612.237183  1101.504517  2481.318848  ...   \n",
       "5  img_1606.jpg      4.52  1627.065308  1009.970459  2351.432617  ...   \n",
       "6  img_1607.jpg      5.40  1716.459961  1277.694946  2344.615479  ...   \n",
       "7  img_1608.jpg      6.21  1778.528687  1193.292114  2315.450684  ...   \n",
       "8  img_1612.jpg      7.12  2275.804199  1428.866333  2694.506836  ...   \n",
       "9  img_1613.jpg      5.26  1684.911987  1191.849731  2306.685059  ...   \n",
       "\n",
       "   log_car_y_min  log_car_x_max  log_car_y_max  log_car_h  log_car_w  \n",
       "0       7.066942       7.732262       7.448874   6.301465   6.428631  \n",
       "1       7.077382       8.010516       7.907194   7.334260   7.542913  \n",
       "2       7.083927       7.797598       7.610886   6.718317   6.758859  \n",
       "3       7.152806       8.104903       7.522853   6.349404   6.561720  \n",
       "4       7.004432       7.816545       7.562426   6.712962   6.767437  \n",
       "5       6.917676       7.762780       7.447730   6.559604   6.585299  \n",
       "6       7.152813       7.759877       7.541665   6.408974   6.442788  \n",
       "7       7.084471       7.747360       7.449093   6.263421   6.285853  \n",
       "8       7.264637       7.898970       7.457901   5.719130   6.037161  \n",
       "9       7.083262       7.743567       7.474751   6.347587   6.432575  \n",
       "\n",
       "[10 rows x 16 columns]"
      ]
     },
     "execution_count": 40,
     "metadata": {},
     "output_type": "execute_result"
    }
   ],
   "source": [
    "train_df.head(10)"
   ]
  },
  {
   "cell_type": "code",
   "execution_count": null,
   "id": "7dbedb6b",
   "metadata": {
    "collapsed": true,
    "jupyter": {
     "outputs_hidden": true
    }
   },
   "outputs": [],
   "source": []
  },
  {
   "cell_type": "code",
   "execution_count": 41,
   "id": "33353213",
   "metadata": {},
   "outputs": [],
   "source": [
    "train_df.to_csv(os.path.join(DIR_DATA, 'train_upd.csv'), index = False)\n",
    "test_df.to_csv(os.path.join(DIR_DATA, 'test_upd.csv'), index = False)"
   ]
  },
  {
   "cell_type": "code",
   "execution_count": null,
   "id": "755d51f5",
   "metadata": {
    "collapsed": true,
    "jupyter": {
     "outputs_hidden": true
    }
   },
   "outputs": [],
   "source": []
  },
  {
   "cell_type": "code",
   "execution_count": null,
   "id": "6daf3858",
   "metadata": {
    "collapsed": true,
    "jupyter": {
     "outputs_hidden": true
    }
   },
   "outputs": [],
   "source": []
  },
  {
   "cell_type": "code",
   "execution_count": null,
   "id": "23a1a64e",
   "metadata": {
    "collapsed": true,
    "jupyter": {
     "outputs_hidden": true
    }
   },
   "outputs": [],
   "source": []
  },
  {
   "cell_type": "code",
   "execution_count": null,
   "id": "215f54af",
   "metadata": {
    "collapsed": true,
    "jupyter": {
     "outputs_hidden": true
    }
   },
   "outputs": [],
   "source": []
  },
  {
   "cell_type": "code",
   "execution_count": null,
   "id": "8e45c8c8",
   "metadata": {
    "collapsed": true,
    "jupyter": {
     "outputs_hidden": true
    }
   },
   "outputs": [],
   "source": []
  },
  {
   "cell_type": "code",
   "execution_count": null,
   "id": "1836782c",
   "metadata": {
    "collapsed": true,
    "jupyter": {
     "outputs_hidden": true
    }
   },
   "outputs": [],
   "source": []
  },
  {
   "cell_type": "code",
   "execution_count": null,
   "id": "aacfd2cc",
   "metadata": {
    "collapsed": true,
    "jupyter": {
     "outputs_hidden": true
    }
   },
   "outputs": [],
   "source": []
  },
  {
   "cell_type": "raw",
   "id": "a7f1e71a-8cc9-4ab3-96a9-00013a02f7ba",
   "metadata": {},
   "source": [
    "import cv2"
   ]
  },
  {
   "cell_type": "raw",
   "id": "d6a9e2a4-903a-40aa-a757-698f9de5ef3a",
   "metadata": {},
   "source": [
    "train_df = pd.read_csv(os.path.join(DIR_DATA, 'train_upd.csv'))\n",
    "test_df = pd.read_csv(os.path.join(DIR_DATA, 'test_upd.csv'))"
   ]
  },
  {
   "cell_type": "raw",
   "id": "c24c4a65-b58b-45d0-a094-679638888a33",
   "metadata": {},
   "source": [
    "def get_aspect_ratio(inp_points: np.ndarray) -> float:\n",
    "    upper_len  = inp_points[1, 0, 0] - inp_points[0, 0, 0] \n",
    "    bottom_len = inp_points[2, 0, 0] - inp_points[3, 0, 0] \n",
    "    aver_len   = (upper_len + bottom_len)/2\n",
    "    \n",
    "    upper_hi  = inp_points[3, 0, 1] - inp_points[0, 0, 1] \n",
    "    bottom_hi = inp_points[2, 0, 1] - inp_points[1, 0, 1] \n",
    "    aver_hi   = (upper_hi + bottom_hi)/2\n",
    "    \n",
    "    return aver_hi / aver_len"
   ]
  },
  {
   "cell_type": "raw",
   "id": "26ef98ff",
   "metadata": {},
   "source": [
    "after cv2.approxPolyDP\n",
    "ndarray[idx][0][x / y]\n",
    "0------>x\n",
    "|\n",
    "|\n",
    "|\n",
    "v\n",
    "y\n",
    "\n",
    "0 - [left_uper] # x y\n",
    "1 - [right_upper] \n",
    "2 - [right_botttom]\n",
    "3 - [left_bottom]"
   ]
  },
  {
   "cell_type": "raw",
   "id": "162c93e1-df24-41d2-8d5f-38fc85a3082f",
   "metadata": {},
   "source": [
    "def get_lp_features_by_coord(inp_coords: np.ndarray) -> List[float]:\n",
    "    \n",
    "    h_min = inp_coords[0, 0, 1] - inp_coords[3, 0, 1]\n",
    "    h_max = inp_coords[1, 0, 1] - inp_coords[2, 0, 1]\n",
    "\n",
    "    w_min = inp_coords[0, 0, 0] - inp_coords[1, 0, 0]\n",
    "    w_max = inp_coords[3, 0, 0] - inp_coords[2, 0, 0]\n",
    "\n",
    "    h_aver = (h_min + h_max)/2\n",
    "    w_aver = (w_min + w_max)/2\n",
    "\n",
    "    if h_min > h_max:\n",
    "        h_min, h_max = h_max, h_min\n",
    "\n",
    "    if w_min > w_max:\n",
    "        w_min, w_max = w_max, w_min\n",
    "\n",
    "    #print(h_min, h_max, h_aver, w_min, w_max, w_aver)\n",
    "    \n",
    "    return [h_min, h_max, h_aver, w_min, w_max, w_aver]"
   ]
  },
  {
   "cell_type": "raw",
   "id": "df62830d-89e6-4eed-a245-a74d01ce1bf4",
   "metadata": {},
   "source": [
    "#def get_label_plate_features(inp_img: np.ndarray, inp_coords: np.ndarray) -> Tuple[np.ndarray, np.ndarray]:\n",
    "def get_label_plate_features(inp_img: np.ndarray, inp_coords: np.ndarray) -> List[float]:\n",
    "    \n",
    "    ret_lp_region   = np.zeros((4, 1, 2), dtype = np.int32)\n",
    "    ret_legal_plate = np.zeros((4, 1, 2), dtype = np.int32)\n",
    "    \n",
    "    #x_min, y_min, x_max, y_max, conf, class, \n",
    "    #sub_img = inp_img[int(inp_coords.y_min) : int(inp_coords.y_max),\n",
    "    #                  int(inp_coords.x_min) : int(inp_coords.x_max)\n",
    "    #                 ]\n",
    "    sub_img = inp_img[int(inp_coords[1]) : int(inp_coords[3]),\n",
    "                      int(inp_coords[0]) : int(inp_coords[2])\n",
    "                     ]\n",
    "    \n",
    "    # немного размываем что бы убрать лишние грани\n",
    "    sub_img = cv2.bilateralFilter(sub_img, 11, 17, 17) \n",
    "    \n",
    "    # детекрируем грани / контуры\n",
    "    #edged = cv2.Canny(sub_img, 30, 200) \n",
    "    edged = cv2.Canny(sub_img, 15, 400) \n",
    "    cnts,new = cv2.findContours(edged.copy(), cv2.RETR_LIST, cv2.CHAIN_APPROX_SIMPLE)\n",
    "    \n",
    "    # находим примерный контур номерного знака среди 10 самых больших контуров\n",
    "    # \n",
    "    cnts = sorted(cnts, key = cv2.contourArea, reverse = True) [:10]   \n",
    "    for idx, c in enumerate(cnts):\n",
    "        # вычисляем периметр контура. True - контур замкнутый\n",
    "        perimeter = cv2.arcLength(c, True)                     \n",
    "        approx = cv2.approxPolyDP(c, 0.018 * perimeter, True)  # \n",
    "        \n",
    "        # предполагаем, что если контур из 4х точек, что это вероятно номер\n",
    "        # так же учитываем соотношение сторон\n",
    "        # ??? ограничить угол???\n",
    "        if len(approx) == 4:  \n",
    "            ar = get_aspect_ratio(approx) \n",
    "            #print(idx, ar)\n",
    "            if ar < 0.85 and ar > 0.65:\n",
    "                #print('region ', idx, ar)\n",
    "                ret_lp_region = approx\n",
    "\n",
    "            if ar < 0.25 and ar > 0.15:\n",
    "                #print('legal plate ', idx, ar)\n",
    "                ret_legal_plate = approx\n",
    "                \n",
    "    return (ret_legal_plate, ret_lp_region)\n",
    "    \n",
    "    # извлекаем признаки из координат\n",
    "    ret_legal_plate = get_lp_features_by_coord(ret_legal_plate)\n",
    "    ret_lp_region   = get_lp_features_by_coord(ret_lp_region)\n",
    "    \n",
    "    return ret_legal_plate + ret_lp_region"
   ]
  },
  {
   "cell_type": "raw",
   "id": "41b83155-475a-4d5f-a559-62cca547924a",
   "metadata": {},
   "source": [
    "tmp = train_df.loc[115, :]\n",
    "tmp"
   ]
  },
  {
   "cell_type": "raw",
   "id": "53598237-3f6c-4b26-bea4-3ed5a0c58ee2",
   "metadata": {},
   "source": [
    "img_cntr = True\n",
    "\n",
    "img = Image.open(os.path.join(DIR_DATA_TRAIN, tmp.image_name))\n",
    "img = np.array(img)\n",
    "#results = model(np.array(img))\n",
    "results = model(img)\n",
    "\n",
    "# найден хотя бы один объект\n",
    "if results.xyxy[0].shape != torch.Size([0, 6]):\n",
    "\n",
    "    # искать ближайший к центру кадра объект?   \n",
    "    if img_cntr:\n",
    "        img_cntr = (int(img.shape[1]/2), int(img.shape[0]/2))\n",
    "        target_goal = determine_targ_car(results, img_cntr)\n",
    "    else:\n",
    "        target_goal = 0\n",
    "\n",
    "    if target_goal < 0:\n",
    "        print(f'wtf2, {img_name}   {results.xyxy[0].shape}')\n",
    "    else:\n",
    "        h = results.xyxy[0][target_goal][3] - results.xyxy[0][target_goal][1]\n",
    "        w = results.xyxy[0][target_goal][2] - results.xyxy[0][target_goal][0]\n",
    "        results = results.xyxy[0][target_goal].numpy().tolist() + [h.item(), w.item()]\n",
    "        \n",
    "        legal_plate, lp_region = get_label_plate_features(img, results)\n",
    "        #print()\n",
    "        \n",
    "cv2.drawContours(sub_img, [legal_plate], -1, (0, 255, 0), 2)        \n",
    "cv2.drawContours(sub_img, [lp_region], -1, (0, 0, 255), 2)        \n",
    "#img = cv2.resize(img, [252*4, 252*3])\n",
    "sub_img = cv2.resize(sub_img, [252*4, 252*3])\n",
    "\n",
    "#cv2.imshow('license plate', img)\n",
    "cv2.imshow('license plate', sub_img)\n",
    "cv2.waitKey(0)\n",
    "cv2.destroyAllWindows()"
   ]
  },
  {
   "cell_type": "code",
   "execution_count": null,
   "id": "5595c19d",
   "metadata": {
    "collapsed": true,
    "jupyter": {
     "outputs_hidden": true
    }
   },
   "outputs": [],
   "source": []
  },
  {
   "cell_type": "code",
   "execution_count": null,
   "id": "bc3e9706",
   "metadata": {
    "collapsed": true,
    "jupyter": {
     "outputs_hidden": true
    }
   },
   "outputs": [],
   "source": []
  },
  {
   "cell_type": "code",
   "execution_count": null,
   "id": "d2d330a6",
   "metadata": {
    "collapsed": true,
    "jupyter": {
     "outputs_hidden": true
    }
   },
   "outputs": [],
   "source": []
  }
 ],
 "metadata": {
  "kernelspec": {
   "display_name": "cardist22",
   "language": "python",
   "name": "cardist22"
  },
  "language_info": {
   "codemirror_mode": {
    "name": "ipython",
    "version": 3
   },
   "file_extension": ".py",
   "mimetype": "text/x-python",
   "name": "python",
   "nbconvert_exporter": "python",
   "pygments_lexer": "ipython3",
   "version": "3.10.4"
  }
 },
 "nbformat": 4,
 "nbformat_minor": 5
}
