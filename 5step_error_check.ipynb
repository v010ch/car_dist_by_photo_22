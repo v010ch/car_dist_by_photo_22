{
 "cells": [
  {
   "cell_type": "code",
   "execution_count": 1,
   "id": "04004b01",
   "metadata": {
    "collapsed": false,
    "jupyter": {
     "outputs_hidden": false
    }
   },
   "outputs": [
    {
     "name": "stdout",
     "output_type": "stream",
     "text": [
      "Last updated: 2022-09-12T15:49:49.859789+03:00\n",
      "\n",
      "Python implementation: CPython\n",
      "Python version       : 3.10.4\n",
      "IPython version      : 8.4.0\n",
      "\n",
      "Compiler    : GCC 7.5.0\n",
      "OS          : Linux\n",
      "Release     : 5.15.0-47-generic\n",
      "Machine     : x86_64\n",
      "Processor   : x86_64\n",
      "CPU cores   : 8\n",
      "Architecture: 64bit\n",
      "\n"
     ]
    }
   ],
   "source": [
    "%load_ext watermark\n",
    "%watermark"
   ]
  },
  {
   "cell_type": "code",
   "execution_count": 2,
   "id": "eba66f46",
   "metadata": {},
   "outputs": [],
   "source": [
    "import time\n",
    "notebookstart = time.time()"
   ]
  },
  {
   "cell_type": "code",
   "execution_count": 3,
   "id": "b01aa572",
   "metadata": {},
   "outputs": [],
   "source": [
    "import os\n",
    "from typing import List, Tuple, Optional\n",
    "\n",
    "import pandas as pd\n",
    "import numpy as np\n",
    "\n",
    "import cv2\n",
    "#from PIL import Image\n",
    "from pillow_heif import register_heif_opener\n",
    "register_heif_opener() # for using Image.open for .heic without changes\n",
    "\n",
    "import matplotlib.pyplot as plt\n",
    "import seaborn as sns"
   ]
  },
  {
   "cell_type": "code",
   "execution_count": 4,
   "id": "5cc1e767",
   "metadata": {},
   "outputs": [],
   "source": [
    "%matplotlib inline"
   ]
  },
  {
   "cell_type": "code",
   "execution_count": 5,
   "id": "aa26b7c0",
   "metadata": {
    "collapsed": false,
    "jupyter": {
     "outputs_hidden": false
    }
   },
   "outputs": [
    {
     "name": "stdout",
     "output_type": "stream",
     "text": [
      "cv2       : 4.6.0\n",
      "numpy     : 1.23.2\n",
      "pandas    : 1.4.3\n",
      "seaborn   : 0.11.2\n",
      "matplotlib: 3.5.3\n",
      "\n"
     ]
    }
   ],
   "source": [
    "%watermark --iversions"
   ]
  },
  {
   "cell_type": "code",
   "execution_count": null,
   "id": "af6b25dd",
   "metadata": {
    "tags": []
   },
   "outputs": [],
   "source": []
  },
  {
   "cell_type": "markdown",
   "id": "1e733b0a-2e11-43d5-972e-32e7c14d01bd",
   "metadata": {},
   "source": [
    "# Выставление констант"
   ]
  },
  {
   "cell_type": "code",
   "execution_count": 6,
   "id": "1d48002e",
   "metadata": {},
   "outputs": [],
   "source": [
    "DIR_DATA = os.path.join(os.getcwd(), 'data')\n",
    "DIR_SUBM = os.path.join(os.getcwd(), 'subm')\n",
    "DIR_SUBM_TRAIN = os.path.join(os.getcwd(), 'subm', 'train')\n",
    "DIR_DATA_TRAIN = os.path.join(DIR_DATA, 'train')\n",
    "DIR_DATA_TEST  = os.path.join(DIR_DATA, 'test')"
   ]
  },
  {
   "cell_type": "code",
   "execution_count": null,
   "id": "d4b011ae",
   "metadata": {
    "tags": []
   },
   "outputs": [],
   "source": []
  },
  {
   "cell_type": "code",
   "execution_count": null,
   "id": "5c540f26",
   "metadata": {
    "tags": []
   },
   "outputs": [],
   "source": []
  },
  {
   "cell_type": "code",
   "execution_count": 7,
   "id": "d2a0a165",
   "metadata": {},
   "outputs": [],
   "source": [
    "def open_img(inp_path: str) -> np.ndarray:\n",
    "    \"\"\"\n",
    "    Открытие изображения с учетом heif формата\n",
    "    aregs:\n",
    "        inp_path - путь к изображению\n",
    "    return:\n",
    "        np.ndarray - изображение\n",
    "    \"\"\"\n",
    "    if inp_path.endswith('.jpg'):\n",
    "        ret_img = cv2.imread(inp_path)\n",
    "    else:\n",
    "        if pillow_heif.is_supported(inp_path):\n",
    "            heif_file = pillow_heif.open_heif(inp_path, convert_hdr_to_8bit=False)\n",
    "            #print(\"image mode:\", heif_file.mode)\n",
    "            #print(\"image data length:\", len(heif_file.data))\n",
    "            #print(\"image data stride:\", heif_file.stride)\n",
    "            if heif_file.has_alpha:\n",
    "                heif_file.convert_to(\"BGRA;16\")\n",
    "            else:\n",
    "                heif_file.convert_to(\"BGR;16\")  # convert 10 bit image to RGB 16 bit.\n",
    "            #print(\"image mode:\", heif_file.mode)\n",
    "            ret_img = np.asarray(heif_file)\n",
    "    \n",
    "    return ret_img"
   ]
  },
  {
   "cell_type": "code",
   "execution_count": 36,
   "id": "41ba3ea8",
   "metadata": {},
   "outputs": [],
   "source": [
    "def plot_corrc(inp_df: pd.DataFrame, inp_cols: List[str], targ_cols = ['distance']) -> None:\n",
    "    \"\"\"\n",
    "    Отображение корреляций заданных признаков и целевой переменной\n",
    "    args:\n",
    "        inp_df - входной датафрейм\n",
    "        inp_cols  - список входных признаков для отбражения корреляции\n",
    "        targ_cols - целевая переменная\n",
    "    return:\n",
    "    \"\"\"\n",
    "    f, ax = plt.subplots(1, 2, figsize=(24, 8))\n",
    "    sns.heatmap(inp_df[inp_cols + targ_cols].corr(),\n",
    "                annot = True, cmap= 'coolwarm', linewidths=3, linecolor='black', ax = ax[0])\n",
    "    sns.heatmap(inp_df[inp_cols + targ_cols].corr(method = 'spearman'),\n",
    "                annot = True, cmap= 'coolwarm', linewidths=3, linecolor='black', ax = ax[1])\n",
    "    \n",
    "    sns.pairplot(inp_df[inp_cols + targ_cols], height = 16,\n",
    "                )\n",
    "   "
   ]
  },
  {
   "cell_type": "code",
   "execution_count": null,
   "id": "7f4f765d",
   "metadata": {
    "tags": []
   },
   "outputs": [],
   "source": []
  },
  {
   "cell_type": "markdown",
   "id": "fe1b6454",
   "metadata": {},
   "source": [
    "# Загружаем данные"
   ]
  },
  {
   "cell_type": "code",
   "execution_count": 9,
   "id": "7cc2aafb",
   "metadata": {},
   "outputs": [
    {
     "data": {
      "text/plain": [
       "(527, 26)"
      ]
     },
     "execution_count": 9,
     "metadata": {},
     "output_type": "execute_result"
    }
   ],
   "source": [
    "train_df = pd.read_csv(os.path.join(DIR_SUBM_TRAIN, 'train_with_pred.csv'))\n",
    "train_df.shape"
   ]
  },
  {
   "cell_type": "code",
   "execution_count": null,
   "id": "865ccbaf",
   "metadata": {
    "tags": []
   },
   "outputs": [],
   "source": []
  },
  {
   "cell_type": "markdown",
   "id": "f663a3dd",
   "metadata": {},
   "source": [
    "Рассчитаем и посмотрим на ошибки"
   ]
  },
  {
   "cell_type": "code",
   "execution_count": 10,
   "id": "29b013e2",
   "metadata": {},
   "outputs": [],
   "source": [
    "train_df['err'] = train_df.distance - train_df.pred\n",
    "train_df['err_upd'] = train_df.err.apply(lambda x: abs(x))"
   ]
  },
  {
   "cell_type": "code",
   "execution_count": 11,
   "id": "11a75a3d",
   "metadata": {
    "collapsed": false,
    "jupyter": {
     "outputs_hidden": false
    }
   },
   "outputs": [
    {
     "data": {
      "text/plain": [
       "<AxesSubplot:>"
      ]
     },
     "execution_count": 11,
     "metadata": {},
     "output_type": "execute_result"
    },
    {
     "data": {
      "image/png": "[encoded data removed]",
      "text/plain": [
       "<Figure size 640x480 with 1 Axes>"
      ]
     },
     "metadata": {},
     "output_type": "display_data"
    }
   ],
   "source": [
    "train_df.err.hist()"
   ]
  },
  {
   "cell_type": "code",
   "execution_count": 12,
   "id": "44de1435",
   "metadata": {
    "collapsed": false,
    "jupyter": {
     "outputs_hidden": false
    }
   },
   "outputs": [
    {
     "data": {
      "text/plain": [
       "<AxesSubplot:>"
      ]
     },
     "execution_count": 12,
     "metadata": {},
     "output_type": "execute_result"
    },
    {
     "data": {
      "image/png": "[encoded data removed]",
      "text/plain": [
       "<Figure size 640x480 with 1 Axes>"
      ]
     },
     "metadata": {},
     "output_type": "display_data"
    }
   ],
   "source": [
    "train_df.err_upd.hist()"
   ]
  },
  {
   "cell_type": "code",
   "execution_count": 13,
   "id": "decfc7d7",
   "metadata": {
    "collapsed": false,
    "jupyter": {
     "outputs_hidden": false
    }
   },
   "outputs": [
    {
     "data": {
      "text/plain": [
       "14    -1.223469\n",
       "480   -0.994284\n",
       "477   -0.979643\n",
       "105   -0.857306\n",
       "3     -0.805629\n",
       "Name: err, dtype: float64"
      ]
     },
     "execution_count": 13,
     "metadata": {},
     "output_type": "execute_result"
    }
   ],
   "source": [
    "train_df.err.nsmallest(5)"
   ]
  },
  {
   "cell_type": "code",
   "execution_count": 14,
   "id": "4f6abb16",
   "metadata": {
    "collapsed": false,
    "jupyter": {
     "outputs_hidden": false
    }
   },
   "outputs": [
    {
     "data": {
      "text/plain": [
       "15     1.900066\n",
       "504    1.206664\n",
       "31     1.095802\n",
       "29     1.009782\n",
       "510    0.971327\n",
       "Name: err, dtype: float64"
      ]
     },
     "execution_count": 14,
     "metadata": {},
     "output_type": "execute_result"
    }
   ],
   "source": [
    "train_df.err.nlargest(5)"
   ]
  },
  {
   "cell_type": "code",
   "execution_count": 15,
   "id": "ef3fd3e3",
   "metadata": {},
   "outputs": [],
   "source": [
    "train_df.sort_values(by ='err_upd', ascending = False, inplace = True)"
   ]
  },
  {
   "cell_type": "code",
   "execution_count": 16,
   "id": "37e579c6",
   "metadata": {
    "collapsed": false,
    "jupyter": {
     "outputs_hidden": false
    }
   },
   "outputs": [
    {
     "data": {
      "text/html": [
       "<div>\n",
       "<style scoped>\n",
       "    .dataframe tbody tr th:only-of-type {\n",
       "        vertical-align: middle;\n",
       "    }\n",
       "\n",
       "    .dataframe tbody tr th {\n",
       "        vertical-align: top;\n",
       "    }\n",
       "\n",
       "    .dataframe thead th {\n",
       "        text-align: right;\n",
       "    }\n",
       "</style>\n",
       "<table border=\"1\" class=\"dataframe\">\n",
       "  <thead>\n",
       "    <tr style=\"text-align: right;\">\n",
       "      <th></th>\n",
       "      <th>image_name</th>\n",
       "      <th>distance</th>\n",
       "      <th>car_x_min</th>\n",
       "      <th>car_y_min</th>\n",
       "      <th>car_x_max</th>\n",
       "      <th>car_y_max</th>\n",
       "      <th>car_conf</th>\n",
       "      <th>car_class</th>\n",
       "      <th>car_h</th>\n",
       "      <th>car_w</th>\n",
       "      <th>...</th>\n",
       "      <th>plate_y_min</th>\n",
       "      <th>plate_x_max</th>\n",
       "      <th>plate_y_max</th>\n",
       "      <th>plate_w</th>\n",
       "      <th>plate_h</th>\n",
       "      <th>log_plate_w</th>\n",
       "      <th>log_plate_h</th>\n",
       "      <th>pred</th>\n",
       "      <th>err</th>\n",
       "      <th>err_upd</th>\n",
       "    </tr>\n",
       "  </thead>\n",
       "  <tbody>\n",
       "    <tr>\n",
       "      <th>15</th>\n",
       "      <td>img_1621.jpg</td>\n",
       "      <td>7.37</td>\n",
       "      <td>1479.636719</td>\n",
       "      <td>1121.189331</td>\n",
       "      <td>2624.046875</td>\n",
       "      <td>2121.229248</td>\n",
       "      <td>0.887309</td>\n",
       "      <td>2.0</td>\n",
       "      <td>1000.039917</td>\n",
       "      <td>1144.410156</td>\n",
       "      <td>...</td>\n",
       "      <td>389.0</td>\n",
       "      <td>632.0</td>\n",
       "      <td>745.0</td>\n",
       "      <td>83.0</td>\n",
       "      <td>356.0</td>\n",
       "      <td>4.418841</td>\n",
       "      <td>5.874931</td>\n",
       "      <td>5.469934</td>\n",
       "      <td>1.900066</td>\n",
       "      <td>1.900066</td>\n",
       "    </tr>\n",
       "    <tr>\n",
       "      <th>14</th>\n",
       "      <td>img_1620.jpg</td>\n",
       "      <td>1.52</td>\n",
       "      <td>1318.691406</td>\n",
       "      <td>1117.102417</td>\n",
       "      <td>2259.526123</td>\n",
       "      <td>1941.014038</td>\n",
       "      <td>0.921435</td>\n",
       "      <td>2.0</td>\n",
       "      <td>823.911621</td>\n",
       "      <td>940.834717</td>\n",
       "      <td>...</td>\n",
       "      <td>330.0</td>\n",
       "      <td>511.0</td>\n",
       "      <td>619.0</td>\n",
       "      <td>62.0</td>\n",
       "      <td>289.0</td>\n",
       "      <td>4.127134</td>\n",
       "      <td>5.666427</td>\n",
       "      <td>2.743469</td>\n",
       "      <td>-1.223469</td>\n",
       "      <td>1.223469</td>\n",
       "    </tr>\n",
       "    <tr>\n",
       "      <th>504</th>\n",
       "      <td>img_2903.jpg</td>\n",
       "      <td>4.33</td>\n",
       "      <td>1392.530273</td>\n",
       "      <td>1182.834717</td>\n",
       "      <td>2279.583252</td>\n",
       "      <td>1880.715332</td>\n",
       "      <td>0.933908</td>\n",
       "      <td>2.0</td>\n",
       "      <td>697.880615</td>\n",
       "      <td>887.052979</td>\n",
       "      <td>...</td>\n",
       "      <td>314.0</td>\n",
       "      <td>451.0</td>\n",
       "      <td>612.0</td>\n",
       "      <td>65.0</td>\n",
       "      <td>298.0</td>\n",
       "      <td>4.174387</td>\n",
       "      <td>5.697093</td>\n",
       "      <td>3.123336</td>\n",
       "      <td>1.206664</td>\n",
       "      <td>1.206664</td>\n",
       "    </tr>\n",
       "    <tr>\n",
       "      <th>31</th>\n",
       "      <td>img_1653.jpg</td>\n",
       "      <td>6.44</td>\n",
       "      <td>1682.735352</td>\n",
       "      <td>1264.425171</td>\n",
       "      <td>2200.481934</td>\n",
       "      <td>1713.236328</td>\n",
       "      <td>0.869917</td>\n",
       "      <td>2.0</td>\n",
       "      <td>448.811157</td>\n",
       "      <td>517.746582</td>\n",
       "      <td>...</td>\n",
       "      <td>170.0</td>\n",
       "      <td>388.0</td>\n",
       "      <td>350.0</td>\n",
       "      <td>42.0</td>\n",
       "      <td>180.0</td>\n",
       "      <td>3.737670</td>\n",
       "      <td>5.192957</td>\n",
       "      <td>5.344198</td>\n",
       "      <td>1.095802</td>\n",
       "      <td>1.095802</td>\n",
       "    </tr>\n",
       "    <tr>\n",
       "      <th>29</th>\n",
       "      <td>img_1649.jpg</td>\n",
       "      <td>4.36</td>\n",
       "      <td>1647.646851</td>\n",
       "      <td>1207.656006</td>\n",
       "      <td>2378.687988</td>\n",
       "      <td>1831.277710</td>\n",
       "      <td>0.881632</td>\n",
       "      <td>2.0</td>\n",
       "      <td>623.621704</td>\n",
       "      <td>731.041138</td>\n",
       "      <td>...</td>\n",
       "      <td>232.0</td>\n",
       "      <td>574.0</td>\n",
       "      <td>496.0</td>\n",
       "      <td>63.0</td>\n",
       "      <td>264.0</td>\n",
       "      <td>4.143135</td>\n",
       "      <td>5.575949</td>\n",
       "      <td>3.350218</td>\n",
       "      <td>1.009782</td>\n",
       "      <td>1.009782</td>\n",
       "    </tr>\n",
       "    <tr>\n",
       "      <th>480</th>\n",
       "      <td>img_2862.jpg</td>\n",
       "      <td>2.10</td>\n",
       "      <td>1383.948486</td>\n",
       "      <td>1250.053101</td>\n",
       "      <td>2192.409424</td>\n",
       "      <td>1865.484985</td>\n",
       "      <td>0.937705</td>\n",
       "      <td>2.0</td>\n",
       "      <td>615.431885</td>\n",
       "      <td>808.460938</td>\n",
       "      <td>...</td>\n",
       "      <td>273.0</td>\n",
       "      <td>387.0</td>\n",
       "      <td>559.0</td>\n",
       "      <td>65.0</td>\n",
       "      <td>286.0</td>\n",
       "      <td>4.174387</td>\n",
       "      <td>5.655992</td>\n",
       "      <td>3.094284</td>\n",
       "      <td>-0.994284</td>\n",
       "      <td>0.994284</td>\n",
       "    </tr>\n",
       "    <tr>\n",
       "      <th>477</th>\n",
       "      <td>img_2858.jpg</td>\n",
       "      <td>0.85</td>\n",
       "      <td>574.717041</td>\n",
       "      <td>635.524597</td>\n",
       "      <td>3167.885986</td>\n",
       "      <td>2643.656738</td>\n",
       "      <td>0.855127</td>\n",
       "      <td>2.0</td>\n",
       "      <td>2008.132080</td>\n",
       "      <td>2593.168945</td>\n",
       "      <td>...</td>\n",
       "      <td>1457.0</td>\n",
       "      <td>1587.0</td>\n",
       "      <td>1847.0</td>\n",
       "      <td>186.0</td>\n",
       "      <td>390.0</td>\n",
       "      <td>5.225747</td>\n",
       "      <td>5.966147</td>\n",
       "      <td>1.829643</td>\n",
       "      <td>-0.979643</td>\n",
       "      <td>0.979643</td>\n",
       "    </tr>\n",
       "    <tr>\n",
       "      <th>510</th>\n",
       "      <td>img_2913.jpg</td>\n",
       "      <td>6.61</td>\n",
       "      <td>1659.582153</td>\n",
       "      <td>1239.397461</td>\n",
       "      <td>2132.143799</td>\n",
       "      <td>1629.581421</td>\n",
       "      <td>0.915403</td>\n",
       "      <td>2.0</td>\n",
       "      <td>390.183960</td>\n",
       "      <td>472.561646</td>\n",
       "      <td>...</td>\n",
       "      <td>161.0</td>\n",
       "      <td>238.0</td>\n",
       "      <td>319.0</td>\n",
       "      <td>38.0</td>\n",
       "      <td>158.0</td>\n",
       "      <td>3.637586</td>\n",
       "      <td>5.062595</td>\n",
       "      <td>5.638673</td>\n",
       "      <td>0.971327</td>\n",
       "      <td>0.971327</td>\n",
       "    </tr>\n",
       "    <tr>\n",
       "      <th>55</th>\n",
       "      <td>img_1700.jpg</td>\n",
       "      <td>5.00</td>\n",
       "      <td>1549.455933</td>\n",
       "      <td>1298.602783</td>\n",
       "      <td>2224.750000</td>\n",
       "      <td>1900.617188</td>\n",
       "      <td>0.916159</td>\n",
       "      <td>2.0</td>\n",
       "      <td>602.014404</td>\n",
       "      <td>675.294067</td>\n",
       "      <td>...</td>\n",
       "      <td>238.0</td>\n",
       "      <td>517.0</td>\n",
       "      <td>456.0</td>\n",
       "      <td>52.0</td>\n",
       "      <td>218.0</td>\n",
       "      <td>3.951244</td>\n",
       "      <td>5.384495</td>\n",
       "      <td>4.056180</td>\n",
       "      <td>0.943820</td>\n",
       "      <td>0.943820</td>\n",
       "    </tr>\n",
       "    <tr>\n",
       "      <th>25</th>\n",
       "      <td>img_1641.jpg</td>\n",
       "      <td>4.57</td>\n",
       "      <td>1564.113770</td>\n",
       "      <td>1260.328247</td>\n",
       "      <td>2319.003662</td>\n",
       "      <td>1915.875977</td>\n",
       "      <td>0.913652</td>\n",
       "      <td>2.0</td>\n",
       "      <td>655.547729</td>\n",
       "      <td>754.889893</td>\n",
       "      <td>...</td>\n",
       "      <td>263.0</td>\n",
       "      <td>304.0</td>\n",
       "      <td>513.0</td>\n",
       "      <td>59.0</td>\n",
       "      <td>250.0</td>\n",
       "      <td>4.077537</td>\n",
       "      <td>5.521461</td>\n",
       "      <td>3.634250</td>\n",
       "      <td>0.935750</td>\n",
       "      <td>0.935750</td>\n",
       "    </tr>\n",
       "    <tr>\n",
       "      <th>44</th>\n",
       "      <td>img_1680.jpg</td>\n",
       "      <td>5.88</td>\n",
       "      <td>1666.972046</td>\n",
       "      <td>1269.958252</td>\n",
       "      <td>2229.747314</td>\n",
       "      <td>1760.512329</td>\n",
       "      <td>0.835558</td>\n",
       "      <td>2.0</td>\n",
       "      <td>490.554077</td>\n",
       "      <td>562.775269</td>\n",
       "      <td>...</td>\n",
       "      <td>185.0</td>\n",
       "      <td>222.0</td>\n",
       "      <td>361.0</td>\n",
       "      <td>50.0</td>\n",
       "      <td>176.0</td>\n",
       "      <td>3.912023</td>\n",
       "      <td>5.170484</td>\n",
       "      <td>5.005163</td>\n",
       "      <td>0.874837</td>\n",
       "      <td>0.874837</td>\n",
       "    </tr>\n",
       "    <tr>\n",
       "      <th>30</th>\n",
       "      <td>img_1650.jpg</td>\n",
       "      <td>4.69</td>\n",
       "      <td>1595.744141</td>\n",
       "      <td>1164.597046</td>\n",
       "      <td>2269.363525</td>\n",
       "      <td>1735.448120</td>\n",
       "      <td>0.904611</td>\n",
       "      <td>2.0</td>\n",
       "      <td>570.851074</td>\n",
       "      <td>673.619385</td>\n",
       "      <td>...</td>\n",
       "      <td>216.0</td>\n",
       "      <td>520.0</td>\n",
       "      <td>456.0</td>\n",
       "      <td>56.0</td>\n",
       "      <td>240.0</td>\n",
       "      <td>4.025352</td>\n",
       "      <td>5.480639</td>\n",
       "      <td>3.820144</td>\n",
       "      <td>0.869856</td>\n",
       "      <td>0.869856</td>\n",
       "    </tr>\n",
       "    <tr>\n",
       "      <th>105</th>\n",
       "      <td>img_2749.heic</td>\n",
       "      <td>2.43</td>\n",
       "      <td>1545.041504</td>\n",
       "      <td>1123.990479</td>\n",
       "      <td>2295.799561</td>\n",
       "      <td>1689.196899</td>\n",
       "      <td>0.908220</td>\n",
       "      <td>2.0</td>\n",
       "      <td>565.206421</td>\n",
       "      <td>750.758057</td>\n",
       "      <td>...</td>\n",
       "      <td>258.0</td>\n",
       "      <td>371.0</td>\n",
       "      <td>507.0</td>\n",
       "      <td>52.0</td>\n",
       "      <td>249.0</td>\n",
       "      <td>3.951244</td>\n",
       "      <td>5.517453</td>\n",
       "      <td>3.287306</td>\n",
       "      <td>-0.857306</td>\n",
       "      <td>0.857306</td>\n",
       "    </tr>\n",
       "    <tr>\n",
       "      <th>145</th>\n",
       "      <td>img_1893.jpg</td>\n",
       "      <td>4.37</td>\n",
       "      <td>1515.456787</td>\n",
       "      <td>1168.743530</td>\n",
       "      <td>2078.413086</td>\n",
       "      <td>1633.235107</td>\n",
       "      <td>0.910152</td>\n",
       "      <td>2.0</td>\n",
       "      <td>464.491577</td>\n",
       "      <td>562.956299</td>\n",
       "      <td>...</td>\n",
       "      <td>81.0</td>\n",
       "      <td>392.0</td>\n",
       "      <td>398.0</td>\n",
       "      <td>59.0</td>\n",
       "      <td>317.0</td>\n",
       "      <td>4.077537</td>\n",
       "      <td>5.758902</td>\n",
       "      <td>3.530528</td>\n",
       "      <td>0.839472</td>\n",
       "      <td>0.839472</td>\n",
       "    </tr>\n",
       "    <tr>\n",
       "      <th>117</th>\n",
       "      <td>img_1834.jpg</td>\n",
       "      <td>3.01</td>\n",
       "      <td>1288.135254</td>\n",
       "      <td>1180.411743</td>\n",
       "      <td>2555.259277</td>\n",
       "      <td>2213.905518</td>\n",
       "      <td>0.925546</td>\n",
       "      <td>2.0</td>\n",
       "      <td>1033.493774</td>\n",
       "      <td>1267.124023</td>\n",
       "      <td>...</td>\n",
       "      <td>424.0</td>\n",
       "      <td>565.0</td>\n",
       "      <td>872.0</td>\n",
       "      <td>112.0</td>\n",
       "      <td>448.0</td>\n",
       "      <td>4.718499</td>\n",
       "      <td>6.104793</td>\n",
       "      <td>2.173274</td>\n",
       "      <td>0.836726</td>\n",
       "      <td>0.836726</td>\n",
       "    </tr>\n",
       "    <tr>\n",
       "      <th>3</th>\n",
       "      <td>img_1603.jpg</td>\n",
       "      <td>2.22</td>\n",
       "      <td>2603.172363</td>\n",
       "      <td>1277.686401</td>\n",
       "      <td>3310.659912</td>\n",
       "      <td>1849.837769</td>\n",
       "      <td>0.782663</td>\n",
       "      <td>2.0</td>\n",
       "      <td>572.151367</td>\n",
       "      <td>707.487549</td>\n",
       "      <td>...</td>\n",
       "      <td>160.0</td>\n",
       "      <td>507.0</td>\n",
       "      <td>415.0</td>\n",
       "      <td>249.0</td>\n",
       "      <td>255.0</td>\n",
       "      <td>5.517453</td>\n",
       "      <td>5.541264</td>\n",
       "      <td>3.025629</td>\n",
       "      <td>-0.805629</td>\n",
       "      <td>0.805629</td>\n",
       "    </tr>\n",
       "    <tr>\n",
       "      <th>7</th>\n",
       "      <td>img_1608.jpg</td>\n",
       "      <td>6.21</td>\n",
       "      <td>1778.528687</td>\n",
       "      <td>1193.292114</td>\n",
       "      <td>2315.450684</td>\n",
       "      <td>1718.303833</td>\n",
       "      <td>0.565937</td>\n",
       "      <td>2.0</td>\n",
       "      <td>525.011719</td>\n",
       "      <td>536.921997</td>\n",
       "      <td>...</td>\n",
       "      <td>177.0</td>\n",
       "      <td>315.0</td>\n",
       "      <td>348.0</td>\n",
       "      <td>37.0</td>\n",
       "      <td>171.0</td>\n",
       "      <td>3.610918</td>\n",
       "      <td>5.141664</td>\n",
       "      <td>5.404592</td>\n",
       "      <td>0.805408</td>\n",
       "      <td>0.805408</td>\n",
       "    </tr>\n",
       "    <tr>\n",
       "      <th>335</th>\n",
       "      <td>img_2511.jpg</td>\n",
       "      <td>3.60</td>\n",
       "      <td>1502.560181</td>\n",
       "      <td>1267.107056</td>\n",
       "      <td>2409.176270</td>\n",
       "      <td>2016.058350</td>\n",
       "      <td>0.904452</td>\n",
       "      <td>2.0</td>\n",
       "      <td>748.951294</td>\n",
       "      <td>906.616089</td>\n",
       "      <td>...</td>\n",
       "      <td>298.0</td>\n",
       "      <td>715.0</td>\n",
       "      <td>634.0</td>\n",
       "      <td>85.0</td>\n",
       "      <td>336.0</td>\n",
       "      <td>4.442651</td>\n",
       "      <td>5.817111</td>\n",
       "      <td>2.810117</td>\n",
       "      <td>0.789883</td>\n",
       "      <td>0.789883</td>\n",
       "    </tr>\n",
       "    <tr>\n",
       "      <th>27</th>\n",
       "      <td>img_1645.jpg</td>\n",
       "      <td>4.13</td>\n",
       "      <td>1786.268677</td>\n",
       "      <td>1388.158691</td>\n",
       "      <td>2316.586914</td>\n",
       "      <td>1855.562988</td>\n",
       "      <td>0.913786</td>\n",
       "      <td>2.0</td>\n",
       "      <td>467.404297</td>\n",
       "      <td>530.318237</td>\n",
       "      <td>...</td>\n",
       "      <td>182.0</td>\n",
       "      <td>205.0</td>\n",
       "      <td>352.0</td>\n",
       "      <td>38.0</td>\n",
       "      <td>170.0</td>\n",
       "      <td>3.637586</td>\n",
       "      <td>5.135798</td>\n",
       "      <td>4.899996</td>\n",
       "      <td>-0.769996</td>\n",
       "      <td>0.769996</td>\n",
       "    </tr>\n",
       "    <tr>\n",
       "      <th>58</th>\n",
       "      <td>img_1709.jpg</td>\n",
       "      <td>7.17</td>\n",
       "      <td>1675.904175</td>\n",
       "      <td>1274.033569</td>\n",
       "      <td>2102.727295</td>\n",
       "      <td>1642.621094</td>\n",
       "      <td>0.922409</td>\n",
       "      <td>2.0</td>\n",
       "      <td>368.587524</td>\n",
       "      <td>426.823120</td>\n",
       "      <td>...</td>\n",
       "      <td>136.0</td>\n",
       "      <td>224.0</td>\n",
       "      <td>283.0</td>\n",
       "      <td>31.0</td>\n",
       "      <td>147.0</td>\n",
       "      <td>3.433987</td>\n",
       "      <td>4.990433</td>\n",
       "      <td>6.405551</td>\n",
       "      <td>0.764449</td>\n",
       "      <td>0.764449</td>\n",
       "    </tr>\n",
       "  </tbody>\n",
       "</table>\n",
       "<p>20 rows × 28 columns</p>\n",
       "</div>"
      ],
      "text/plain": [
       "        image_name  distance    car_x_min    car_y_min    car_x_max  \\\n",
       "15    img_1621.jpg      7.37  1479.636719  1121.189331  2624.046875   \n",
       "14    img_1620.jpg      1.52  1318.691406  1117.102417  2259.526123   \n",
       "504   img_2903.jpg      4.33  1392.530273  1182.834717  2279.583252   \n",
       "31    img_1653.jpg      6.44  1682.735352  1264.425171  2200.481934   \n",
       "29    img_1649.jpg      4.36  1647.646851  1207.656006  2378.687988   \n",
       "480   img_2862.jpg      2.10  1383.948486  1250.053101  2192.409424   \n",
       "477   img_2858.jpg      0.85   574.717041   635.524597  3167.885986   \n",
       "510   img_2913.jpg      6.61  1659.582153  1239.397461  2132.143799   \n",
       "55    img_1700.jpg      5.00  1549.455933  1298.602783  2224.750000   \n",
       "25    img_1641.jpg      4.57  1564.113770  1260.328247  2319.003662   \n",
       "44    img_1680.jpg      5.88  1666.972046  1269.958252  2229.747314   \n",
       "30    img_1650.jpg      4.69  1595.744141  1164.597046  2269.363525   \n",
       "105  img_2749.heic      2.43  1545.041504  1123.990479  2295.799561   \n",
       "145   img_1893.jpg      4.37  1515.456787  1168.743530  2078.413086   \n",
       "117   img_1834.jpg      3.01  1288.135254  1180.411743  2555.259277   \n",
       "3     img_1603.jpg      2.22  2603.172363  1277.686401  3310.659912   \n",
       "7     img_1608.jpg      6.21  1778.528687  1193.292114  2315.450684   \n",
       "335   img_2511.jpg      3.60  1502.560181  1267.107056  2409.176270   \n",
       "27    img_1645.jpg      4.13  1786.268677  1388.158691  2316.586914   \n",
       "58    img_1709.jpg      7.17  1675.904175  1274.033569  2102.727295   \n",
       "\n",
       "       car_y_max  car_conf  car_class        car_h        car_w  ...  \\\n",
       "15   2121.229248  0.887309        2.0  1000.039917  1144.410156  ...   \n",
       "14   1941.014038  0.921435        2.0   823.911621   940.834717  ...   \n",
       "504  1880.715332  0.933908        2.0   697.880615   887.052979  ...   \n",
       "31   1713.236328  0.869917        2.0   448.811157   517.746582  ...   \n",
       "29   1831.277710  0.881632        2.0   623.621704   731.041138  ...   \n",
       "480  1865.484985  0.937705        2.0   615.431885   808.460938  ...   \n",
       "477  2643.656738  0.855127        2.0  2008.132080  2593.168945  ...   \n",
       "510  1629.581421  0.915403        2.0   390.183960   472.561646  ...   \n",
       "55   1900.617188  0.916159        2.0   602.014404   675.294067  ...   \n",
       "25   1915.875977  0.913652        2.0   655.547729   754.889893  ...   \n",
       "44   1760.512329  0.835558        2.0   490.554077   562.775269  ...   \n",
       "30   1735.448120  0.904611        2.0   570.851074   673.619385  ...   \n",
       "105  1689.196899  0.908220        2.0   565.206421   750.758057  ...   \n",
       "145  1633.235107  0.910152        2.0   464.491577   562.956299  ...   \n",
       "117  2213.905518  0.925546        2.0  1033.493774  1267.124023  ...   \n",
       "3    1849.837769  0.782663        2.0   572.151367   707.487549  ...   \n",
       "7    1718.303833  0.565937        2.0   525.011719   536.921997  ...   \n",
       "335  2016.058350  0.904452        2.0   748.951294   906.616089  ...   \n",
       "27   1855.562988  0.913786        2.0   467.404297   530.318237  ...   \n",
       "58   1642.621094  0.922409        2.0   368.587524   426.823120  ...   \n",
       "\n",
       "     plate_y_min  plate_x_max  plate_y_max  plate_w  plate_h  log_plate_w  \\\n",
       "15         389.0        632.0        745.0     83.0    356.0     4.418841   \n",
       "14         330.0        511.0        619.0     62.0    289.0     4.127134   \n",
       "504        314.0        451.0        612.0     65.0    298.0     4.174387   \n",
       "31         170.0        388.0        350.0     42.0    180.0     3.737670   \n",
       "29         232.0        574.0        496.0     63.0    264.0     4.143135   \n",
       "480        273.0        387.0        559.0     65.0    286.0     4.174387   \n",
       "477       1457.0       1587.0       1847.0    186.0    390.0     5.225747   \n",
       "510        161.0        238.0        319.0     38.0    158.0     3.637586   \n",
       "55         238.0        517.0        456.0     52.0    218.0     3.951244   \n",
       "25         263.0        304.0        513.0     59.0    250.0     4.077537   \n",
       "44         185.0        222.0        361.0     50.0    176.0     3.912023   \n",
       "30         216.0        520.0        456.0     56.0    240.0     4.025352   \n",
       "105        258.0        371.0        507.0     52.0    249.0     3.951244   \n",
       "145         81.0        392.0        398.0     59.0    317.0     4.077537   \n",
       "117        424.0        565.0        872.0    112.0    448.0     4.718499   \n",
       "3          160.0        507.0        415.0    249.0    255.0     5.517453   \n",
       "7          177.0        315.0        348.0     37.0    171.0     3.610918   \n",
       "335        298.0        715.0        634.0     85.0    336.0     4.442651   \n",
       "27         182.0        205.0        352.0     38.0    170.0     3.637586   \n",
       "58         136.0        224.0        283.0     31.0    147.0     3.433987   \n",
       "\n",
       "    log_plate_h      pred       err   err_upd  \n",
       "15     5.874931  5.469934  1.900066  1.900066  \n",
       "14     5.666427  2.743469 -1.223469  1.223469  \n",
       "504    5.697093  3.123336  1.206664  1.206664  \n",
       "31     5.192957  5.344198  1.095802  1.095802  \n",
       "29     5.575949  3.350218  1.009782  1.009782  \n",
       "480    5.655992  3.094284 -0.994284  0.994284  \n",
       "477    5.966147  1.829643 -0.979643  0.979643  \n",
       "510    5.062595  5.638673  0.971327  0.971327  \n",
       "55     5.384495  4.056180  0.943820  0.943820  \n",
       "25     5.521461  3.634250  0.935750  0.935750  \n",
       "44     5.170484  5.005163  0.874837  0.874837  \n",
       "30     5.480639  3.820144  0.869856  0.869856  \n",
       "105    5.517453  3.287306 -0.857306  0.857306  \n",
       "145    5.758902  3.530528  0.839472  0.839472  \n",
       "117    6.104793  2.173274  0.836726  0.836726  \n",
       "3      5.541264  3.025629 -0.805629  0.805629  \n",
       "7      5.141664  5.404592  0.805408  0.805408  \n",
       "335    5.817111  2.810117  0.789883  0.789883  \n",
       "27     5.135798  4.899996 -0.769996  0.769996  \n",
       "58     4.990433  6.405551  0.764449  0.764449  \n",
       "\n",
       "[20 rows x 28 columns]"
      ]
     },
     "execution_count": 16,
     "metadata": {},
     "output_type": "execute_result"
    }
   ],
   "source": [
    "train_df.head(20)"
   ]
  },
  {
   "cell_type": "code",
   "execution_count": 39,
   "id": "aa9e0550",
   "metadata": {
    "collapsed": false,
    "jupyter": {
     "outputs_hidden": false
    }
   },
   "outputs": [],
   "source": [
    "#plot_corrc(train_df, ['err'])"
   ]
  },
  {
   "cell_type": "code",
   "execution_count": 18,
   "id": "0621ce9a",
   "metadata": {},
   "outputs": [],
   "source": [
    "#plot_corrc(train_df, ['err_upd'])"
   ]
  },
  {
   "cell_type": "code",
   "execution_count": null,
   "id": "c675fcb4",
   "metadata": {
    "tags": []
   },
   "outputs": [],
   "source": []
  },
  {
   "cell_type": "markdown",
   "id": "9f3f9583",
   "metadata": {},
   "source": [
    "Посмотрим на кадры с наибольшей (по модулю) ошибкой"
   ]
  },
  {
   "cell_type": "code",
   "execution_count": 34,
   "id": "90bb9cca",
   "metadata": {
    "collapsed": false,
    "jupyter": {
     "outputs_hidden": false
    }
   },
   "outputs": [],
   "source": [
    "for el in train_df.index[:5]:\n",
    "    tmp = train_df.loc[el, :]\n",
    "    \n",
    "    img = open_img(os.path.join(DIR_DATA_TRAIN, tmp.image_name))\n",
    "\n",
    "    #  рамка найденного автомобиля\n",
    "    cv2.rectangle(img, \n",
    "                  (int(tmp.car_x_min), int(tmp.car_y_min)), \n",
    "                  (int(tmp.car_x_max), int(tmp.car_y_max)),\n",
    "                  (255, 0, 0), \n",
    "                  6,\n",
    "                 )\n",
    "\n",
    "    sub_img = img[int(tmp.car_y_min) : int(tmp.car_y_max),\n",
    "                  int(tmp.car_x_min) : int(tmp.car_x_max)\n",
    "                 ]\n",
    "\n",
    "    # рамка номера\n",
    "    cv2.rectangle(sub_img, \n",
    "              (int(tmp.plate_y_min), int(tmp.plate_x_min)), \n",
    "              (int(tmp.plate_y_max), int(tmp.plate_x_max)),\n",
    "              (255, 0, 0), \n",
    "              6,\n",
    "             )\n",
    "    \n",
    "\n",
    "    img[int(tmp.car_y_min) : int(tmp.car_y_max),\n",
    "        int(tmp.car_x_min) : int(tmp.car_x_max)\n",
    "       ] = sub_img\n",
    "    \n",
    "    img = cv2.resize(img, [252*4, 252*3])\n",
    "\n",
    "    cv2.imshow('bir error', img)\n",
    "    #cv2.imshow('bir error', sub_img)\n",
    "    cv2.waitKey(0)\n",
    "    cv2.destroyAllWindows()"
   ]
  },
  {
   "cell_type": "markdown",
   "id": "76f866d3-6a55-402b-866d-e678833cf71d",
   "metadata": {
    "tags": []
   },
   "source": [
    "автомобили определяются верно.    \n",
    "автомобильный номер с виду тоже.    "
   ]
  },
  {
   "cell_type": "code",
   "execution_count": null,
   "id": "26be9e85",
   "metadata": {
    "tags": []
   },
   "outputs": [],
   "source": []
  },
  {
   "cell_type": "code",
   "execution_count": 22,
   "id": "38868973-f5ae-45d9-a61a-68e764c77a80",
   "metadata": {},
   "outputs": [
    {
     "name": "stdout",
     "output_type": "stream",
     "text": [
      "Notebook Runtime: 2.19 Minutes\n"
     ]
    }
   ],
   "source": [
    "print(\"Notebook Runtime: %0.2f Minutes\"%((time.time() - notebookstart)/60))"
   ]
  },
  {
   "cell_type": "code",
   "execution_count": null,
   "id": "73f7fc28-4664-4380-87a8-9edb9fa6fd4f",
   "metadata": {},
   "outputs": [],
   "source": []
  }
 ],
 "metadata": {
  "kernelspec": {
   "display_name": "Python 3 (ipykernel)",
   "language": "python",
   "name": "python3"
  },
  "language_info": {
   "codemirror_mode": {
    "name": "ipython",
    "version": 3
   },
   "file_extension": ".py",
   "mimetype": "text/x-python",
   "name": "python",
   "nbconvert_exporter": "python",
   "pygments_lexer": "ipython3",
   "version": "3.9.12"
  }
 },
 "nbformat": 4,
 "nbformat_minor": 5
}
