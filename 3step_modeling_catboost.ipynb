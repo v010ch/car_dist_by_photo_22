{
 "cells": [
  {
   "cell_type": "code",
   "execution_count": 1,
   "id": "ea74c3f3",
   "metadata": {
    "collapsed": false,
    "jupyter": {
     "outputs_hidden": false
    }
   },
   "outputs": [
    {
     "name": "stdout",
     "output_type": "stream",
     "text": [
      "Last updated: 2022-09-12T15:35:52.770720+03:00\n",
      "\n",
      "Python implementation: CPython\n",
      "Python version       : 3.10.4\n",
      "IPython version      : 8.4.0\n",
      "\n",
      "Compiler    : GCC 7.5.0\n",
      "OS          : Linux\n",
      "Release     : 5.15.0-47-generic\n",
      "Machine     : x86_64\n",
      "Processor   : x86_64\n",
      "CPU cores   : 8\n",
      "Architecture: 64bit\n",
      "\n"
     ]
    }
   ],
   "source": [
    "%load_ext watermark\n",
    "%watermark"
   ]
  },
  {
   "cell_type": "code",
   "execution_count": 2,
   "id": "b10fcaae",
   "metadata": {},
   "outputs": [],
   "source": [
    "import time\n",
    "notebookstart = time.time()"
   ]
  },
  {
   "cell_type": "code",
   "execution_count": 3,
   "id": "0e150d95",
   "metadata": {
    "collapsed": false,
    "jupyter": {
     "outputs_hidden": false
    }
   },
   "outputs": [
    {
     "name": "stderr",
     "output_type": "stream",
     "text": [
      "/home/v010ch/anaconda3/envs/cardist22/lib/python3.10/site-packages/xgboost/compat.py:36: FutureWarning: pandas.Int64Index is deprecated and will be removed from pandas in a future version. Use pandas.Index with the appropriate dtype instead.\n",
      "  from pandas import MultiIndex, Int64Index\n"
     ]
    }
   ],
   "source": [
    "import os\n",
    "from typing import List, Tuple, Optional\n",
    "\n",
    "import pandas as pd\n",
    "import numpy as np\n",
    "\n",
    "import matplotlib.pyplot as plt\n",
    "import seaborn as sns\n",
    "\n",
    "from catboost import CatBoostRegressor\n",
    "from catboost import Pool, cv"
   ]
  },
  {
   "cell_type": "code",
   "execution_count": 4,
   "id": "c84b2b52",
   "metadata": {
    "collapsed": false,
    "jupyter": {
     "outputs_hidden": false
    }
   },
   "outputs": [
    {
     "name": "stdout",
     "output_type": "stream",
     "text": [
      "pandas    : 1.4.3\n",
      "matplotlib: 3.5.3\n",
      "numpy     : 1.23.2\n",
      "seaborn   : 0.11.2\n",
      "\n"
     ]
    }
   ],
   "source": [
    "%watermark --iversions"
   ]
  },
  {
   "cell_type": "code",
   "execution_count": 5,
   "id": "3d6a0913",
   "metadata": {
    "collapsed": false,
    "jupyter": {
     "outputs_hidden": false
    }
   },
   "outputs": [
    {
     "name": "stdout",
     "output_type": "stream",
     "text": [
      "cb_version: 1.0.6\n"
     ]
    }
   ],
   "source": [
    "from catboost import __version__ as cb_version\n",
    "print(f'cb_version: {cb_version}')"
   ]
  },
  {
   "cell_type": "markdown",
   "id": "42345210",
   "metadata": {},
   "source": [
    "# Блок для воспроизводимости результатов"
   ]
  },
  {
   "cell_type": "code",
   "execution_count": 6,
   "id": "2a94b795",
   "metadata": {},
   "outputs": [],
   "source": [
    "# seed the RNG for all devices (both CPU and CUDA)\n",
    "#torch.manual_seed(1984)\n",
    "\n",
    "#Disabling the benchmarking feature causes cuDNN to deterministically select an algorithm, \n",
    "#possibly at the cost of reduced performance.\n",
    "#torch.backends.cudnn.benchmark = False\n",
    "\n",
    "# for custom operators,\n",
    "import random\n",
    "random.seed(5986721)\n",
    "\n",
    "# \n",
    "np.random.seed(62185)\n",
    "\n",
    "#sklearn take seed from a line abowe\n",
    "\n",
    "CB_RANDOMSEED  = 309487\n",
    "XGB_RANDOMSEED = 56\n",
    "LGB_RANDOMSEED = 874256"
   ]
  },
  {
   "cell_type": "code",
   "execution_count": null,
   "id": "bfc1264f",
   "metadata": {
    "tags": []
   },
   "outputs": [],
   "source": []
  },
  {
   "cell_type": "markdown",
   "id": "9dfd8267-c2de-41cb-a444-eda9a70226c1",
   "metadata": {},
   "source": [
    "# Выставление констант"
   ]
  },
  {
   "cell_type": "code",
   "execution_count": 7,
   "id": "a4fb4959",
   "metadata": {},
   "outputs": [],
   "source": [
    "DIR_DATA = os.path.join(os.getcwd(), 'data')\n",
    "DIR_SUBM = os.path.join(os.getcwd(), 'subm')\n",
    "DIR_SUBM_TRAIN = os.path.join(os.getcwd(), 'subm', 'train')\n",
    "DIR_DATA_TRAIN = os.path.join(DIR_DATA, 'train')\n",
    "DIR_DATA_TEST  = os.path.join(DIR_DATA, 'test')"
   ]
  },
  {
   "cell_type": "code",
   "execution_count": null,
   "id": "029f849e",
   "metadata": {
    "tags": []
   },
   "outputs": [],
   "source": []
  },
  {
   "cell_type": "code",
   "execution_count": 8,
   "id": "bc887587",
   "metadata": {},
   "outputs": [],
   "source": [
    "def plot_feature_importance(importance: np.ndarray, names: List[str], model_type: str, imp_number: Optional[int] = 30) -> None:\n",
    "    \"\"\"Графическое отображение важности признаков (по убыванияю) модели на основе величины влияния на предсказанные значения\n",
    "    \n",
    "    args:\n",
    "        importance: массив важности признаков (получаемый из модели CatBoostRegressor)\n",
    "        names:      список имен признаков\n",
    "        model_type: имя модели\n",
    "        imp_number: (опционально, 30) количество признаков для отображения\n",
    "        \n",
    "    return:\n",
    "        None\n",
    "    \"\"\"\n",
    "    \n",
    "    #Create arrays from feature importance and feature names\n",
    "    feature_importance = np.array(importance)\n",
    "    feature_names = np.array(names)\n",
    "    \n",
    "    #Create a DataFrame using a Dictionary\n",
    "    data = {'feature_names': feature_names,'feature_importance': feature_importance}\n",
    "    fi_df = pd.DataFrame(data)\n",
    "    \n",
    "    #Sort the DataFrame in order decreasing feature importance\n",
    "    fi_df.sort_values(by = ['feature_importance'], ascending = False, inplace = True)\n",
    "    \n",
    "    #Define size of bar plot\n",
    "    plt.figure(figsize = (10,8))\n",
    "    #Plot Searborn bar chart\n",
    "    sns.barplot(x = fi_df['feature_importance'][:imp_number], y = fi_df['feature_names'][:imp_number])\n",
    "    #Add chart labels\n",
    "    plt.title(model_type + ' FEATURE IMPORTANCE')\n",
    "    plt.xlabel('FEATURE IMPORTANCE')\n",
    "    plt.ylabel('FEATURE NAMES')"
   ]
  },
  {
   "cell_type": "code",
   "execution_count": null,
   "id": "198482df",
   "metadata": {
    "tags": []
   },
   "outputs": [],
   "source": []
  },
  {
   "cell_type": "code",
   "execution_count": null,
   "id": "2e8f46f0",
   "metadata": {
    "tags": []
   },
   "outputs": [],
   "source": []
  },
  {
   "cell_type": "code",
   "execution_count": null,
   "id": "24daf5dd",
   "metadata": {
    "tags": []
   },
   "outputs": [],
   "source": []
  },
  {
   "cell_type": "markdown",
   "id": "7bcb094e",
   "metadata": {},
   "source": [
    "# Загрузка данных"
   ]
  },
  {
   "cell_type": "code",
   "execution_count": 9,
   "id": "e579b6ac",
   "metadata": {},
   "outputs": [
    {
     "data": {
      "text/plain": [
       "((530, 25), (517, 24))"
      ]
     },
     "execution_count": 9,
     "metadata": {},
     "output_type": "execute_result"
    }
   ],
   "source": [
    "train_df = pd.read_csv(os.path.join(DIR_DATA, 'train_upd.csv'))\n",
    "test_df  = pd.read_csv(os.path.join(DIR_DATA, 'test_upd.csv'))\n",
    "train_df.shape, test_df.shape"
   ]
  },
  {
   "cell_type": "code",
   "execution_count": 10,
   "id": "818bd58e",
   "metadata": {
    "collapsed": false,
    "jupyter": {
     "outputs_hidden": false
    }
   },
   "outputs": [
    {
     "data": {
      "text/html": [
       "<div>\n",
       "<style scoped>\n",
       "    .dataframe tbody tr th:only-of-type {\n",
       "        vertical-align: middle;\n",
       "    }\n",
       "\n",
       "    .dataframe tbody tr th {\n",
       "        vertical-align: top;\n",
       "    }\n",
       "\n",
       "    .dataframe thead th {\n",
       "        text-align: right;\n",
       "    }\n",
       "</style>\n",
       "<table border=\"1\" class=\"dataframe\">\n",
       "  <thead>\n",
       "    <tr style=\"text-align: right;\">\n",
       "      <th></th>\n",
       "      <th>image_name</th>\n",
       "      <th>distance</th>\n",
       "      <th>car_x_min</th>\n",
       "      <th>car_y_min</th>\n",
       "      <th>car_x_max</th>\n",
       "      <th>car_y_max</th>\n",
       "      <th>car_conf</th>\n",
       "      <th>car_class</th>\n",
       "      <th>car_h</th>\n",
       "      <th>car_w</th>\n",
       "      <th>...</th>\n",
       "      <th>log_car_w</th>\n",
       "      <th>tmp</th>\n",
       "      <th>plate_x_min</th>\n",
       "      <th>plate_y_min</th>\n",
       "      <th>plate_x_max</th>\n",
       "      <th>plate_y_max</th>\n",
       "      <th>plate_w</th>\n",
       "      <th>plate_h</th>\n",
       "      <th>log_plate_w</th>\n",
       "      <th>log_plate_h</th>\n",
       "    </tr>\n",
       "  </thead>\n",
       "  <tbody>\n",
       "    <tr>\n",
       "      <th>0</th>\n",
       "      <td>img_1596.jpg</td>\n",
       "      <td>4.88</td>\n",
       "      <td>1661.429565</td>\n",
       "      <td>1172.557251</td>\n",
       "      <td>2280.754883</td>\n",
       "      <td>1717.927490</td>\n",
       "      <td>0.860230</td>\n",
       "      <td>2.0</td>\n",
       "      <td>545.370239</td>\n",
       "      <td>619.325317</td>\n",
       "      <td>...</td>\n",
       "      <td>6.428631</td>\n",
       "      <td>(399, 214, 449, 419)</td>\n",
       "      <td>399.0</td>\n",
       "      <td>214.0</td>\n",
       "      <td>449.0</td>\n",
       "      <td>419.0</td>\n",
       "      <td>50.0</td>\n",
       "      <td>205.0</td>\n",
       "      <td>3.912023</td>\n",
       "      <td>5.323010</td>\n",
       "    </tr>\n",
       "    <tr>\n",
       "      <th>1</th>\n",
       "      <td>img_1600.jpg</td>\n",
       "      <td>1.54</td>\n",
       "      <td>1125.149536</td>\n",
       "      <td>1184.862671</td>\n",
       "      <td>3012.469971</td>\n",
       "      <td>2716.756592</td>\n",
       "      <td>0.852567</td>\n",
       "      <td>2.0</td>\n",
       "      <td>1531.893921</td>\n",
       "      <td>1887.320435</td>\n",
       "      <td>...</td>\n",
       "      <td>7.542913</td>\n",
       "      <td>(1307, 608, 1504, 1324)</td>\n",
       "      <td>1307.0</td>\n",
       "      <td>608.0</td>\n",
       "      <td>1504.0</td>\n",
       "      <td>1324.0</td>\n",
       "      <td>197.0</td>\n",
       "      <td>716.0</td>\n",
       "      <td>5.283204</td>\n",
       "      <td>6.573680</td>\n",
       "    </tr>\n",
       "    <tr>\n",
       "      <th>2</th>\n",
       "      <td>img_1601.jpg</td>\n",
       "      <td>3.68</td>\n",
       "      <td>1573.088257</td>\n",
       "      <td>1192.642944</td>\n",
       "      <td>2434.746826</td>\n",
       "      <td>2020.067017</td>\n",
       "      <td>0.645506</td>\n",
       "      <td>2.0</td>\n",
       "      <td>827.424072</td>\n",
       "      <td>861.658569</td>\n",
       "      <td>...</td>\n",
       "      <td>6.758859</td>\n",
       "      <td>(461, 292, 522, 578)</td>\n",
       "      <td>461.0</td>\n",
       "      <td>292.0</td>\n",
       "      <td>522.0</td>\n",
       "      <td>578.0</td>\n",
       "      <td>61.0</td>\n",
       "      <td>286.0</td>\n",
       "      <td>4.110874</td>\n",
       "      <td>5.655992</td>\n",
       "    </tr>\n",
       "    <tr>\n",
       "      <th>3</th>\n",
       "      <td>img_1603.jpg</td>\n",
       "      <td>2.22</td>\n",
       "      <td>2603.172363</td>\n",
       "      <td>1277.686401</td>\n",
       "      <td>3310.659912</td>\n",
       "      <td>1849.837769</td>\n",
       "      <td>0.782663</td>\n",
       "      <td>2.0</td>\n",
       "      <td>572.151367</td>\n",
       "      <td>707.487549</td>\n",
       "      <td>...</td>\n",
       "      <td>6.561720</td>\n",
       "      <td>(258, 160, 507, 415)</td>\n",
       "      <td>258.0</td>\n",
       "      <td>160.0</td>\n",
       "      <td>507.0</td>\n",
       "      <td>415.0</td>\n",
       "      <td>249.0</td>\n",
       "      <td>255.0</td>\n",
       "      <td>5.517453</td>\n",
       "      <td>5.541264</td>\n",
       "    </tr>\n",
       "    <tr>\n",
       "      <th>4</th>\n",
       "      <td>img_1605.jpg</td>\n",
       "      <td>3.73</td>\n",
       "      <td>1612.237183</td>\n",
       "      <td>1101.504517</td>\n",
       "      <td>2481.318848</td>\n",
       "      <td>1924.509155</td>\n",
       "      <td>0.764224</td>\n",
       "      <td>2.0</td>\n",
       "      <td>823.004639</td>\n",
       "      <td>869.081665</td>\n",
       "      <td>...</td>\n",
       "      <td>6.767437</td>\n",
       "      <td>(459, 289, 523, 575)</td>\n",
       "      <td>459.0</td>\n",
       "      <td>289.0</td>\n",
       "      <td>523.0</td>\n",
       "      <td>575.0</td>\n",
       "      <td>64.0</td>\n",
       "      <td>286.0</td>\n",
       "      <td>4.158883</td>\n",
       "      <td>5.655992</td>\n",
       "    </tr>\n",
       "  </tbody>\n",
       "</table>\n",
       "<p>5 rows × 25 columns</p>\n",
       "</div>"
      ],
      "text/plain": [
       "     image_name  distance    car_x_min    car_y_min    car_x_max    car_y_max  \\\n",
       "0  img_1596.jpg      4.88  1661.429565  1172.557251  2280.754883  1717.927490   \n",
       "1  img_1600.jpg      1.54  1125.149536  1184.862671  3012.469971  2716.756592   \n",
       "2  img_1601.jpg      3.68  1573.088257  1192.642944  2434.746826  2020.067017   \n",
       "3  img_1603.jpg      2.22  2603.172363  1277.686401  3310.659912  1849.837769   \n",
       "4  img_1605.jpg      3.73  1612.237183  1101.504517  2481.318848  1924.509155   \n",
       "\n",
       "   car_conf  car_class        car_h        car_w  ...  log_car_w  \\\n",
       "0  0.860230        2.0   545.370239   619.325317  ...   6.428631   \n",
       "1  0.852567        2.0  1531.893921  1887.320435  ...   7.542913   \n",
       "2  0.645506        2.0   827.424072   861.658569  ...   6.758859   \n",
       "3  0.782663        2.0   572.151367   707.487549  ...   6.561720   \n",
       "4  0.764224        2.0   823.004639   869.081665  ...   6.767437   \n",
       "\n",
       "                       tmp  plate_x_min  plate_y_min  plate_x_max  \\\n",
       "0     (399, 214, 449, 419)        399.0        214.0        449.0   \n",
       "1  (1307, 608, 1504, 1324)       1307.0        608.0       1504.0   \n",
       "2     (461, 292, 522, 578)        461.0        292.0        522.0   \n",
       "3     (258, 160, 507, 415)        258.0        160.0        507.0   \n",
       "4     (459, 289, 523, 575)        459.0        289.0        523.0   \n",
       "\n",
       "   plate_y_max plate_w  plate_h  log_plate_w  log_plate_h  \n",
       "0        419.0    50.0    205.0     3.912023     5.323010  \n",
       "1       1324.0   197.0    716.0     5.283204     6.573680  \n",
       "2        578.0    61.0    286.0     4.110874     5.655992  \n",
       "3        415.0   249.0    255.0     5.517453     5.541264  \n",
       "4        575.0    64.0    286.0     4.158883     5.655992  \n",
       "\n",
       "[5 rows x 25 columns]"
      ]
     },
     "execution_count": 10,
     "metadata": {},
     "output_type": "execute_result"
    }
   ],
   "source": [
    "train_df.head()"
   ]
  },
  {
   "cell_type": "code",
   "execution_count": null,
   "id": "89aa2ec8",
   "metadata": {
    "collapsed": false,
    "jupyter": {
     "outputs_hidden": false
    }
   },
   "outputs": [],
   "source": []
  },
  {
   "cell_type": "markdown",
   "id": "b77c5dcb",
   "metadata": {},
   "source": [
    "В данных присутствуют сильно размытые изображения. Ни рамка автомобиля, ни рамка автомобильного номера   \n",
    "ни нах не могут быть определены с удовлетворяющей точностью. Так что обучение на них скорее вего ухудшит результат.   \n",
    "Исключаем их из тренировочного датасета."
   ]
  },
  {
   "cell_type": "code",
   "execution_count": 11,
   "id": "b5d4adf0",
   "metadata": {
    "collapsed": false,
    "jupyter": {
     "outputs_hidden": false
    }
   },
   "outputs": [
    {
     "name": "stdout",
     "output_type": "stream",
     "text": [
      "(530, 25)\n",
      "(527, 25)\n"
     ]
    }
   ],
   "source": [
    "motion_blur_train = set(['img_2709.heic', 'img_2733.heic', 'img_2734.heic'])    # 'img_2734.heic' возможно рабочий \n",
    "print(train_df.shape)\n",
    "\n",
    "for el in train_df.index:\n",
    "    if train_df.loc[el, 'image_name'] in motion_blur_train:\n",
    "        train_df.drop(el, inplace = True)\n",
    "\n",
    "print(train_df.shape)"
   ]
  },
  {
   "cell_type": "code",
   "execution_count": null,
   "id": "a587fb90",
   "metadata": {
    "tags": []
   },
   "outputs": [],
   "source": []
  },
  {
   "cell_type": "code",
   "execution_count": null,
   "id": "251facde",
   "metadata": {
    "tags": []
   },
   "outputs": [],
   "source": []
  },
  {
   "cell_type": "markdown",
   "id": "e81ce75d",
   "metadata": {},
   "source": [
    "# Обучаем модель"
   ]
  },
  {
   "cell_type": "markdown",
   "id": "10e58e54",
   "metadata": {},
   "source": [
    "По кросс валидации (3 фолда) определим оптимальное количество итераций (по лучшей средней RMSE на валидационных фолдах)     \n",
    "Затем на этом количестве итераций обучим модель на всех данных."
   ]
  },
  {
   "cell_type": "code",
   "execution_count": 12,
   "id": "8b71238d",
   "metadata": {
    "collapsed": false,
    "jupyter": {
     "outputs_hidden": false
    }
   },
   "outputs": [
    {
     "data": {
      "application/vnd.jupyter.widget-view+json": {
       "model_id": "f2592286c50a4d6780f1af81584a1a53",
       "version_major": 2,
       "version_minor": 0
      },
      "text/plain": [
       "MetricVisualizer(layout=Layout(align_self='stretch', height='500px'))"
      ]
     },
     "metadata": {},
     "output_type": "display_data"
    },
    {
     "name": "stdout",
     "output_type": "stream",
     "text": [
      "Training on fold [0/3]\n",
      "\n",
      "bestTest = 0.6054798525\n",
      "bestIteration = 243\n",
      "\n",
      "Training on fold [1/3]\n",
      "\n",
      "bestTest = 0.4264131689\n",
      "bestIteration = 498\n",
      "\n",
      "Training on fold [2/3]\n",
      "\n",
      "bestTest = 0.7134457025\n",
      "bestIteration = 139\n",
      "\n",
      "CPU times: user 36.1 s, sys: 2.41 s, total: 38.5 s\n",
      "Wall time: 7.33 s\n"
     ]
    }
   ],
   "source": [
    "%%time\n",
    "params = {\"iterations\": 3500,\n",
    "          \"loss_function\": 'RMSE',\n",
    "          #'eval_metric': 'R2',\n",
    "         }\n",
    "\n",
    "features = ['log_plate_h', 'log_plate_w']\n",
    "\n",
    "train = Pool(data = train_df[features],\n",
    "             label = train_df[['distance']],\n",
    "            )\n",
    "\n",
    "scores = cv(train, params,\n",
    "            fold_count = 3,\n",
    "            verbose = False,\n",
    "            plot = True,\n",
    "           )"
   ]
  },
  {
   "cell_type": "markdown",
   "id": "4d92392e",
   "metadata": {},
   "source": [
    "выбираем оптимальное количество итераций"
   ]
  },
  {
   "cell_type": "code",
   "execution_count": 13,
   "id": "546cb136",
   "metadata": {
    "collapsed": false,
    "jupyter": {
     "outputs_hidden": false
    }
   },
   "outputs": [
    {
     "data": {
      "text/plain": [
       "(0.5944935070222855, 262, 275)"
      ]
     },
     "execution_count": 13,
     "metadata": {},
     "output_type": "execute_result"
    }
   ],
   "source": [
    "niter = scores['test-RMSE-mean'].argmin() + 13\n",
    "scores['test-RMSE-mean'].min(), scores['test-RMSE-mean'].argmin(), niter"
   ]
  },
  {
   "cell_type": "raw",
   "id": "dcb501e4",
   "metadata": {},
   "source": [
    "0.9254814620106862, 444    x/y/conf\n",
    "0.8717672874064516, 445    x/y/conf/h/w with 0\n",
    "0.8689944606627914, 608,   x/y/conf/h/w with nulls\n",
    "0.8423961974720088, 271    x/y/conf/h/w with nulls   yolov5x6\n",
    "0.6345816635973699, 221    x/y/conf/h/w with nulls   yolov5l cntr\n",
    "0.5937488485807697, 300    x/y/conf/h/w with nulls   yolov5l cntr niter\n",
    "0.570131014775917,  295    x/y/conf/h/w with nulls   yolov5l cntr niter minhw200 log\n",
    "\n",
    "linux + env\n",
    "0.5647743814930765, 705    x/y/conf/h/w with nulls   yolov5l cntr niter minhw200"
   ]
  },
  {
   "cell_type": "code",
   "execution_count": null,
   "id": "8e94b17c",
   "metadata": {
    "tags": []
   },
   "outputs": [],
   "source": []
  },
  {
   "cell_type": "markdown",
   "id": "4aac6176",
   "metadata": {},
   "source": [
    "Обучем на этом количестве итераций модель на всей обучающей выборке"
   ]
  },
  {
   "cell_type": "code",
   "execution_count": 14,
   "id": "5e2edd44",
   "metadata": {
    "collapsed": false,
    "jupyter": {
     "outputs_hidden": false
    }
   },
   "outputs": [
    {
     "name": "stdout",
     "output_type": "stream",
     "text": [
      "Learning rate set to 0.105693\n",
      "0:\tlearn: 1.6205627\ttotal: 1.68ms\tremaining: 461ms\n",
      "100:\tlearn: 0.4318889\ttotal: 79.2ms\tremaining: 136ms\n",
      "200:\tlearn: 0.3468650\ttotal: 126ms\tremaining: 46.5ms\n",
      "274:\tlearn: 0.3055727\ttotal: 162ms\tremaining: 0us\n",
      "CPU times: user 810 ms, sys: 315 ms, total: 1.12 s\n",
      "Wall time: 404 ms\n"
     ]
    },
    {
     "data": {
      "text/plain": [
       "<catboost.core.CatBoostRegressor at 0x7fbb7bc84610>"
      ]
     },
     "execution_count": 14,
     "metadata": {},
     "output_type": "execute_result"
    }
   ],
   "source": [
    "%%time\n",
    "\n",
    "model_cb = CatBoostRegressor(iterations = niter, verbose = 100)\n",
    "# Fit model\n",
    "model_cb.fit(train_df[features], train_df[['distance']].values)"
   ]
  },
  {
   "cell_type": "raw",
   "id": "2676d2ad",
   "metadata": {},
   "source": [
    "999:\tlearn: 0.2699253\ttotal: 1.49s\tremaining: 0us       x/y/conf\n",
    "999:\tlearn: 0.2365099\ttotal: 1.23s\tremaining: 0us       x/y/conf/h/w with nulls\n",
    "999:\tlearn: 0.2223038\ttotal: 1.57s\tremaining: 0us       x/y/conf/h/w with nulls yolov5x6\n",
    "999:\tlearn: 0.1702023\ttotal: 1.19s\tremaining: 0us       x/y/conf/h/w with nulls yolo5l cntr\n",
    "312:\tlearn: 0.1999264\ttotal: 440ms\tremaining: 0us       x/y/conf/h/w with nulls yolo5l cntr niter\n",
    "307:\tlearn: 0.1878093\ttotal: 352ms\tremaining: 0us       x/y/conf/h/w with nulls yolov5l cntr niter minhw200 log\n",
    "\n",
    "linux + env\n",
    "717:\tlearn: 0.1719744\ttotal: 439ms\tremaining: 0us       x/y/conf/h/w with nulls   yolov5l cntr niter minhw200"
   ]
  },
  {
   "cell_type": "markdown",
   "id": "55e648b8",
   "metadata": {},
   "source": [
    "Посмотрим на выжность признаков"
   ]
  },
  {
   "cell_type": "code",
   "execution_count": 15,
   "id": "91334b95",
   "metadata": {
    "collapsed": false,
    "jupyter": {
     "outputs_hidden": false
    }
   },
   "outputs": [
    {
     "data": {
      "image/png": "[encoded data removed]",
      "text/plain": [
       "<Figure size 1000x800 with 1 Axes>"
      ]
     },
     "metadata": {},
     "output_type": "display_data"
    }
   ],
   "source": [
    "#plot_feature_importance(model_cb.get_feature_importance(), train_df[features].get_feature_names(), 'CATBOOST')\n",
    "plot_feature_importance(model_cb.get_feature_importance(), features, 'CATBOOST')"
   ]
  },
  {
   "cell_type": "code",
   "execution_count": null,
   "id": "e15f0cdc",
   "metadata": {
    "tags": []
   },
   "outputs": [],
   "source": []
  },
  {
   "cell_type": "markdown",
   "id": "9cdc2c61",
   "metadata": {},
   "source": [
    "Сохраняем предсказания на трейне для анализа ошибок (в 5step)"
   ]
  },
  {
   "cell_type": "code",
   "execution_count": 16,
   "id": "951af2e0",
   "metadata": {},
   "outputs": [],
   "source": [
    "pred_train = model_cb.predict(train_df[features])\n",
    "train_df['pred'] = pred_train\n",
    "train_df.to_csv(os.path.join(DIR_SUBM_TRAIN, 'train_with_pred.csv'), index = False)"
   ]
  },
  {
   "cell_type": "code",
   "execution_count": null,
   "id": "f4c35ba9",
   "metadata": {
    "tags": []
   },
   "outputs": [],
   "source": []
  },
  {
   "cell_type": "code",
   "execution_count": null,
   "id": "c70de35e",
   "metadata": {
    "collapsed": false,
    "jupyter": {
     "outputs_hidden": false
    }
   },
   "outputs": [],
   "source": []
  },
  {
   "cell_type": "markdown",
   "id": "0d625470",
   "metadata": {},
   "source": [
    "# Создаем сабмит"
   ]
  },
  {
   "cell_type": "code",
   "execution_count": 17,
   "id": "02bb942e",
   "metadata": {},
   "outputs": [],
   "source": [
    "preds = model_cb.predict(test_df[features])\n",
    "test_df['distance'] = preds\n",
    "\n",
    "sample_solution_df = test_df[['image_name', 'distance']]"
   ]
  },
  {
   "cell_type": "code",
   "execution_count": 18,
   "id": "9a7f3e8d",
   "metadata": {},
   "outputs": [],
   "source": [
    "test_img_names = set(os.listdir(DIR_DATA_TEST))"
   ]
  },
  {
   "cell_type": "code",
   "execution_count": 19,
   "id": "eb8e8433",
   "metadata": {
    "tags": []
   },
   "outputs": [],
   "source": [
    "lost_test_items = []\n",
    "\n",
    "for file_name in test_img_names - set(sample_solution_df['image_name'].values):\n",
    "    lost_test_items.append([file_name, 0])\n",
    "    \n",
    "lost_test_items_df = pd.DataFrame(lost_test_items, columns=['image_name', 'distance'])\n",
    "sample_solution_df = pd.concat([sample_solution_df, lost_test_items_df])\n",
    "\n",
    "sample_solution_df.to_csv(os.path.join(DIR_SUBM, '18_repeat2.csv'), sep=';', index=False)"
   ]
  },
  {
   "cell_type": "code",
   "execution_count": null,
   "id": "f114a989",
   "metadata": {
    "tags": []
   },
   "outputs": [],
   "source": []
  },
  {
   "cell_type": "code",
   "execution_count": 20,
   "id": "daa7d3a3-e87b-4b2e-b0e9-92e8914348b5",
   "metadata": {},
   "outputs": [
    {
     "name": "stdout",
     "output_type": "stream",
     "text": [
      "Notebook Runtime: 0.17 Minutes\n"
     ]
    }
   ],
   "source": [
    "print(\"Notebook Runtime: %0.2f Minutes\"%((time.time() - notebookstart)/60))"
   ]
  },
  {
   "cell_type": "code",
   "execution_count": null,
   "id": "46d4a7b5-6f64-45e7-8d5c-293cbcc512f2",
   "metadata": {},
   "outputs": [],
   "source": []
  }
 ],
 "metadata": {
  "anaconda-cloud": {},
  "kernelspec": {
   "display_name": "Python 3 (ipykernel)",
   "language": "python",
   "name": "python3"
  },
  "language_info": {
   "codemirror_mode": {
    "name": "ipython",
    "version": 3
   },
   "file_extension": ".py",
   "mimetype": "text/x-python",
   "name": "python",
   "nbconvert_exporter": "python",
   "pygments_lexer": "ipython3",
   "version": "3.9.12"
  }
 },
 "nbformat": 4,
 "nbformat_minor": 5
}
