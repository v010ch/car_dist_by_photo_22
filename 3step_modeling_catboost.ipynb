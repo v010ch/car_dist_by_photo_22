{
 "cells": [
  {
   "cell_type": "code",
   "execution_count": null,
   "id": "b9ae5a51-c75c-483e-bef9-17ffe78b1bed",
   "metadata": {},
   "outputs": [],
   "source": []
  },
  {
   "cell_type": "code",
   "execution_count": 1,
   "id": "0480039b-54f6-447a-a943-0a1903359efe",
   "metadata": {},
   "outputs": [],
   "source": [
    "import time\n",
    "notebookstart= time.time()"
   ]
  },
  {
   "cell_type": "code",
   "execution_count": 2,
   "id": "915e390d-cd57-4921-bd82-451f30373202",
   "metadata": {},
   "outputs": [],
   "source": [
    "import os\n",
    "from typing import Tuple, Optional\n",
    "\n",
    "import pandas as pd\n",
    "import numpy as np\n",
    "\n",
    "import matplotlib.pyplot as plt\n",
    "import seaborn as sns"
   ]
  },
  {
   "cell_type": "code",
   "execution_count": null,
   "id": "4cd7afb9-74ed-48fc-ad0d-9d9483ebdc36",
   "metadata": {},
   "outputs": [],
   "source": []
  },
  {
   "cell_type": "code",
   "execution_count": 3,
   "id": "e02c4fe6-028b-48ca-80ed-919fa96cfe45",
   "metadata": {},
   "outputs": [],
   "source": [
    "DIR_SUBM = os.path.join(os.getcwd(), 'subm')\n",
    "DIR_DATA = os.path.join(os.getcwd(), 'data')\n",
    "DIR_DATA_TRAIN = os.path.join(DIR_DATA, 'train')\n",
    "DIR_DATA_TEST  = os.path.join(DIR_DATA, 'test')"
   ]
  },
  {
   "cell_type": "code",
   "execution_count": null,
   "id": "e8c71c37-0c14-4020-8e49-a8c0e8fca0c6",
   "metadata": {},
   "outputs": [],
   "source": []
  },
  {
   "cell_type": "code",
   "execution_count": 4,
   "id": "8ec93077-ce5e-4e9f-bd3a-4b8ba68bdd99",
   "metadata": {},
   "outputs": [
    {
     "name": "stdout",
     "output_type": "stream",
     "text": [
      "Requirement already satisfied: catboost in c:\\users\\_v010ch_\\anaconda3\\envs\\uly22\\lib\\site-packages (1.0.6)\n",
      "Requirement already satisfied: matplotlib in c:\\users\\_v010ch_\\anaconda3\\envs\\uly22\\lib\\site-packages (from catboost) (3.5.1)\n",
      "Requirement already satisfied: numpy>=1.16.0 in c:\\users\\_v010ch_\\anaconda3\\envs\\uly22\\lib\\site-packages (from catboost) (1.23.1)\n",
      "Requirement already satisfied: six in c:\\users\\_v010ch_\\anaconda3\\envs\\uly22\\lib\\site-packages (from catboost) (1.16.0)\n",
      "Requirement already satisfied: plotly in c:\\users\\_v010ch_\\anaconda3\\envs\\uly22\\lib\\site-packages (from catboost) (5.9.0)\n",
      "Requirement already satisfied: graphviz in c:\\users\\_v010ch_\\anaconda3\\envs\\uly22\\lib\\site-packages (from catboost) (0.20.1)\n",
      "Requirement already satisfied: scipy in c:\\users\\_v010ch_\\anaconda3\\envs\\uly22\\lib\\site-packages (from catboost) (1.9.0)\n",
      "Requirement already satisfied: pandas>=0.24.0 in c:\\users\\_v010ch_\\anaconda3\\envs\\uly22\\lib\\site-packages (from catboost) (1.4.3)\n",
      "Requirement already satisfied: pytz>=2020.1 in c:\\users\\_v010ch_\\anaconda3\\envs\\uly22\\lib\\site-packages (from pandas>=0.24.0->catboost) (2022.1)\n",
      "Requirement already satisfied: python-dateutil>=2.8.1 in c:\\users\\_v010ch_\\anaconda3\\envs\\uly22\\lib\\site-packages (from pandas>=0.24.0->catboost) (2.8.2)\n",
      "Requirement already satisfied: cycler>=0.10 in c:\\users\\_v010ch_\\anaconda3\\envs\\uly22\\lib\\site-packages (from matplotlib->catboost) (0.11.0)\n",
      "Requirement already satisfied: fonttools>=4.22.0 in c:\\users\\_v010ch_\\anaconda3\\envs\\uly22\\lib\\site-packages (from matplotlib->catboost) (4.25.0)\n",
      "Requirement already satisfied: packaging>=20.0 in c:\\users\\_v010ch_\\anaconda3\\envs\\uly22\\lib\\site-packages (from matplotlib->catboost) (21.3)\n",
      "Requirement already satisfied: pillow>=6.2.0 in c:\\users\\_v010ch_\\anaconda3\\envs\\uly22\\lib\\site-packages (from matplotlib->catboost) (9.2.0)\n",
      "Requirement already satisfied: kiwisolver>=1.0.1 in c:\\users\\_v010ch_\\anaconda3\\envs\\uly22\\lib\\site-packages (from matplotlib->catboost) (1.4.2)\n",
      "Requirement already satisfied: pyparsing>=2.2.1 in c:\\users\\_v010ch_\\anaconda3\\envs\\uly22\\lib\\site-packages (from matplotlib->catboost) (3.0.4)\n",
      "Requirement already satisfied: tenacity>=6.2.0 in c:\\users\\_v010ch_\\anaconda3\\envs\\uly22\\lib\\site-packages (from plotly->catboost) (8.0.1)\n"
     ]
    }
   ],
   "source": [
    "!pip install catboost"
   ]
  },
  {
   "cell_type": "code",
   "execution_count": null,
   "id": "80879855-4111-4ad8-94ff-75838f62a26e",
   "metadata": {},
   "outputs": [],
   "source": []
  },
  {
   "cell_type": "code",
   "execution_count": 5,
   "id": "274c2dd1-a47e-4be4-b25e-95cabacc32df",
   "metadata": {},
   "outputs": [],
   "source": [
    "from catboost import CatBoostRegressor\n",
    "from catboost import Pool, cv"
   ]
  },
  {
   "cell_type": "code",
   "execution_count": null,
   "id": "9de2d737-0c2b-4554-a722-13df72c8b9da",
   "metadata": {},
   "outputs": [],
   "source": []
  },
  {
   "cell_type": "code",
   "execution_count": null,
   "id": "2b62ad5d-79dc-4a85-947f-cbd6af6fb856",
   "metadata": {},
   "outputs": [],
   "source": []
  },
  {
   "cell_type": "code",
   "execution_count": 6,
   "id": "dd19d955-991d-421b-8ae3-783911dc2bed",
   "metadata": {},
   "outputs": [
    {
     "data": {
      "text/plain": [
       "((530, 10), (517, 9))"
      ]
     },
     "execution_count": 6,
     "metadata": {},
     "output_type": "execute_result"
    }
   ],
   "source": [
    "train_df = pd.read_csv(os.path.join(DIR_DATA, 'train_upd.csv'))\n",
    "test_df  = pd.read_csv(os.path.join(DIR_DATA, 'test_upd.csv'))\n",
    "train_df.shape, test_df.shape"
   ]
  },
  {
   "cell_type": "code",
   "execution_count": 7,
   "id": "e370fbc8-2866-4ca9-85d9-7ec99aa6f138",
   "metadata": {},
   "outputs": [
    {
     "data": {
      "text/html": [
       "<div>\n",
       "<style scoped>\n",
       "    .dataframe tbody tr th:only-of-type {\n",
       "        vertical-align: middle;\n",
       "    }\n",
       "\n",
       "    .dataframe tbody tr th {\n",
       "        vertical-align: top;\n",
       "    }\n",
       "\n",
       "    .dataframe thead th {\n",
       "        text-align: right;\n",
       "    }\n",
       "</style>\n",
       "<table border=\"1\" class=\"dataframe\">\n",
       "  <thead>\n",
       "    <tr style=\"text-align: right;\">\n",
       "      <th></th>\n",
       "      <th>image_name</th>\n",
       "      <th>distance</th>\n",
       "      <th>x_min</th>\n",
       "      <th>y_min</th>\n",
       "      <th>x_max</th>\n",
       "      <th>y_max</th>\n",
       "      <th>conf</th>\n",
       "      <th>class</th>\n",
       "      <th>h</th>\n",
       "      <th>w</th>\n",
       "    </tr>\n",
       "  </thead>\n",
       "  <tbody>\n",
       "    <tr>\n",
       "      <th>0</th>\n",
       "      <td>img_1596.jpg</td>\n",
       "      <td>4.88</td>\n",
       "      <td>1661.424072</td>\n",
       "      <td>1172.543701</td>\n",
       "      <td>2280.588135</td>\n",
       "      <td>1717.848145</td>\n",
       "      <td>0.860831</td>\n",
       "      <td>2.0</td>\n",
       "      <td>545.304443</td>\n",
       "      <td>619.164062</td>\n",
       "    </tr>\n",
       "    <tr>\n",
       "      <th>1</th>\n",
       "      <td>img_1600.jpg</td>\n",
       "      <td>1.54</td>\n",
       "      <td>1125.089722</td>\n",
       "      <td>1185.073486</td>\n",
       "      <td>3012.445312</td>\n",
       "      <td>2716.680420</td>\n",
       "      <td>0.853032</td>\n",
       "      <td>2.0</td>\n",
       "      <td>1531.606934</td>\n",
       "      <td>1887.355591</td>\n",
       "    </tr>\n",
       "    <tr>\n",
       "      <th>2</th>\n",
       "      <td>img_1601.jpg</td>\n",
       "      <td>3.68</td>\n",
       "      <td>1573.182739</td>\n",
       "      <td>1192.814087</td>\n",
       "      <td>2434.594727</td>\n",
       "      <td>2019.641357</td>\n",
       "      <td>0.639996</td>\n",
       "      <td>2.0</td>\n",
       "      <td>826.827271</td>\n",
       "      <td>861.411987</td>\n",
       "    </tr>\n",
       "    <tr>\n",
       "      <th>3</th>\n",
       "      <td>img_1603.jpg</td>\n",
       "      <td>2.22</td>\n",
       "      <td>2602.999512</td>\n",
       "      <td>1277.598389</td>\n",
       "      <td>3310.421875</td>\n",
       "      <td>1849.868042</td>\n",
       "      <td>0.779553</td>\n",
       "      <td>2.0</td>\n",
       "      <td>572.269653</td>\n",
       "      <td>707.422363</td>\n",
       "    </tr>\n",
       "    <tr>\n",
       "      <th>4</th>\n",
       "      <td>img_1605.jpg</td>\n",
       "      <td>3.73</td>\n",
       "      <td>1612.041016</td>\n",
       "      <td>1101.496704</td>\n",
       "      <td>2481.691650</td>\n",
       "      <td>1924.515015</td>\n",
       "      <td>0.764157</td>\n",
       "      <td>2.0</td>\n",
       "      <td>823.018311</td>\n",
       "      <td>869.650635</td>\n",
       "    </tr>\n",
       "  </tbody>\n",
       "</table>\n",
       "</div>"
      ],
      "text/plain": [
       "     image_name  distance        x_min        y_min        x_max        y_max  \\\n",
       "0  img_1596.jpg      4.88  1661.424072  1172.543701  2280.588135  1717.848145   \n",
       "1  img_1600.jpg      1.54  1125.089722  1185.073486  3012.445312  2716.680420   \n",
       "2  img_1601.jpg      3.68  1573.182739  1192.814087  2434.594727  2019.641357   \n",
       "3  img_1603.jpg      2.22  2602.999512  1277.598389  3310.421875  1849.868042   \n",
       "4  img_1605.jpg      3.73  1612.041016  1101.496704  2481.691650  1924.515015   \n",
       "\n",
       "       conf  class            h            w  \n",
       "0  0.860831    2.0   545.304443   619.164062  \n",
       "1  0.853032    2.0  1531.606934  1887.355591  \n",
       "2  0.639996    2.0   826.827271   861.411987  \n",
       "3  0.779553    2.0   572.269653   707.422363  \n",
       "4  0.764157    2.0   823.018311   869.650635  "
      ]
     },
     "execution_count": 7,
     "metadata": {},
     "output_type": "execute_result"
    }
   ],
   "source": [
    "train_df.head()"
   ]
  },
  {
   "cell_type": "code",
   "execution_count": 8,
   "id": "5f5ff036-6b94-4b21-927e-c2a7abcbd0e5",
   "metadata": {},
   "outputs": [
    {
     "data": {
      "text/plain": [
       "2.0    529\n",
       "Name: class, dtype: int64"
      ]
     },
     "execution_count": 8,
     "metadata": {},
     "output_type": "execute_result"
    }
   ],
   "source": [
    "train_df['class'].value_counts()"
   ]
  },
  {
   "cell_type": "raw",
   "id": "44e91937-d147-4ce4-9747-6851d307b503",
   "metadata": {},
   "source": []
  },
  {
   "cell_type": "code",
   "execution_count": 9,
   "id": "4b96c0ce-9675-42f3-9875-41f5e571eed7",
   "metadata": {},
   "outputs": [],
   "source": [
    "def plot_feature_importance(importance, names, model_type, imp_number: Optional[int] = 30):\n",
    "    \n",
    "    #Create arrays from feature importance and feature names\n",
    "    feature_importance = np.array(importance)\n",
    "    feature_names = np.array(names)\n",
    "    \n",
    "    #Create a DataFrame using a Dictionary\n",
    "    data={'feature_names':feature_names,'feature_importance':feature_importance}\n",
    "    fi_df = pd.DataFrame(data)\n",
    "    \n",
    "    #Sort the DataFrame in order decreasing feature importance\n",
    "    fi_df.sort_values(by=['feature_importance'], ascending=False,inplace=True)\n",
    "    \n",
    "    #Define size of bar plot\n",
    "    plt.figure(figsize=(10,8))\n",
    "    #Plot Searborn bar chart\n",
    "    sns.barplot(x=fi_df['feature_importance'][:imp_number], y=fi_df['feature_names'][:imp_number])\n",
    "    #Add chart labels\n",
    "    plt.title(model_type + 'FEATURE IMPORTANCE')\n",
    "    plt.xlabel('FEATURE IMPORTANCE')\n",
    "    plt.ylabel('FEATURE NAMES')"
   ]
  },
  {
   "cell_type": "code",
   "execution_count": null,
   "id": "977a41a0-4e00-4f6e-ae6c-cd899eebb73f",
   "metadata": {},
   "outputs": [],
   "source": []
  },
  {
   "cell_type": "code",
   "execution_count": null,
   "id": "26039f43-944e-49be-9c67-c78591013bdf",
   "metadata": {},
   "outputs": [],
   "source": []
  },
  {
   "cell_type": "code",
   "execution_count": 10,
   "id": "4ca8715b-093f-4128-9f62-a9bae28bc459",
   "metadata": {},
   "outputs": [
    {
     "name": "stdout",
     "output_type": "stream",
     "text": [
      "Training on fold [0/3]\n",
      "\n",
      "bestTest = 0.6805480769\n",
      "bestIteration = 234\n",
      "\n",
      "Training on fold [1/3]\n",
      "\n",
      "bestTest = 0.5019879331\n",
      "bestIteration = 313\n",
      "\n",
      "Training on fold [2/3]\n",
      "\n",
      "bestTest = 0.5951731216\n",
      "bestIteration = 302\n",
      "\n",
      "CPU times: total: 1min 27s\n",
      "Wall time: 16.3 s\n"
     ]
    }
   ],
   "source": [
    "%%time\n",
    "params = {\"iterations\": 3500,\n",
    "          \"loss_function\": 'RMSE',\n",
    "          #\"loss_function\": 'R2',\n",
    "         }\n",
    "\n",
    "train = Pool(data = train_df[['x_min', 'y_min', 'x_max', 'y_max', 'conf', 'h', 'w']],\n",
    "             label = train_df[['distance']],\n",
    "             #cat_features=cat_features\n",
    "            )\n",
    "\n",
    "scores = cv(train, params,\n",
    "            fold_count = 3,\n",
    "            verbose = False,\n",
    "           )"
   ]
  },
  {
   "cell_type": "code",
   "execution_count": 11,
   "id": "0a9048ad-e226-41f0-a9ba-0ef704d8c24e",
   "metadata": {},
   "outputs": [
    {
     "data": {
      "text/plain": [
       "(0.5937488485807697, 300, 313)"
      ]
     },
     "execution_count": 11,
     "metadata": {},
     "output_type": "execute_result"
    }
   ],
   "source": [
    "niter = scores['test-RMSE-mean'].argmin() + 13\n",
    "scores['test-RMSE-mean'].min(), scores['test-RMSE-mean'].argmin(), niter"
   ]
  },
  {
   "cell_type": "raw",
   "id": "a896a20f-2c2e-4564-9cc9-109f3f2fc7e6",
   "metadata": {},
   "source": [
    "0.9254814620106862, 444    x/y/conf\n",
    "0.8717672874064516, 445    x/y/conf/h/w with 0\n",
    "0.8689944606627914, 608,   x/y/conf/h/w with nulls\n",
    "0.8423961974720088, 271    x/y/conf/h/w with nulls   yolov5x6\n",
    "0.6345816635973699, 221    x/y/conf/h/w with nulls   yolov5l cntr\n"
   ]
  },
  {
   "cell_type": "code",
   "execution_count": null,
   "id": "e2403c42-89f8-4645-b2e4-bac830a05bc5",
   "metadata": {},
   "outputs": [],
   "source": []
  },
  {
   "cell_type": "code",
   "execution_count": 12,
   "id": "2db78a3d-4b2e-4b85-9229-0b060ce61ac1",
   "metadata": {},
   "outputs": [
    {
     "name": "stdout",
     "output_type": "stream",
     "text": [
      "Learning rate set to 0.095222\n",
      "0:\tlearn: 1.6358987\ttotal: 13.4ms\tremaining: 4.18s\n",
      "100:\tlearn: 0.3700553\ttotal: 224ms\tremaining: 470ms\n",
      "200:\tlearn: 0.2698770\ttotal: 335ms\tremaining: 186ms\n",
      "300:\tlearn: 0.2063429\ttotal: 532ms\tremaining: 21.2ms\n",
      "312:\tlearn: 0.1999264\ttotal: 558ms\tremaining: 0us\n",
      "CPU times: total: 2.52 s\n",
      "Wall time: 898 ms\n"
     ]
    },
    {
     "data": {
      "text/plain": [
       "<catboost.core.CatBoostRegressor at 0x2045521a9b0>"
      ]
     },
     "execution_count": 12,
     "metadata": {},
     "output_type": "execute_result"
    }
   ],
   "source": [
    "%%time\n",
    "\n",
    "features = ['x_min', 'y_min', 'x_max', 'y_max', 'conf', 'h', 'w']\n",
    "\n",
    "model_cb = CatBoostRegressor(iterations = niter, verbose = 100)\n",
    "#model_cb = CatBoostRegressor(verbose = 100)\n",
    "\n",
    "# Fit model\n",
    "model_cb.fit(train_df[features], train_df[['distance']].values)"
   ]
  },
  {
   "cell_type": "raw",
   "id": "f9c3330a-76c2-4d52-abf3-9f58dbc6fe2a",
   "metadata": {},
   "source": [
    "999:\tlearn: 0.2699253\ttotal: 1.49s\tremaining: 0us       x/y/conf\n",
    "999:\tlearn: 0.2365099\ttotal: 1.23s\tremaining: 0us       x/y/conf/h/w with nulls\n",
    "999:\tlearn: 0.2223038\ttotal: 1.57s\tremaining: 0us       x/y/conf/h/w with nulls yolov5x6\n",
    "999:\tlearn: 0.1702023\ttotal: 1.19s\tremaining: 0us       x/y/conf/h/w with nulls yolo5l cntr\n"
   ]
  },
  {
   "cell_type": "code",
   "execution_count": 13,
   "id": "70484434-37b1-4ad4-be9c-3bf804788c65",
   "metadata": {},
   "outputs": [
    {
     "data": {
      "image/png": "[encoded data removed]",
      "text/plain": [
       "<Figure size 720x576 with 1 Axes>"
      ]
     },
     "metadata": {
      "needs_background": "light"
     },
     "output_type": "display_data"
    }
   ],
   "source": [
    "#plot_feature_importance(model_cb.get_feature_importance(), train_df[features].get_feature_names(), 'CATBOOST')\n",
    "plot_feature_importance(model_cb.get_feature_importance(), features, 'CATBOOST')"
   ]
  },
  {
   "cell_type": "code",
   "execution_count": null,
   "id": "5197f59f-e20f-4658-b438-3aebb49aa5c8",
   "metadata": {},
   "outputs": [],
   "source": []
  },
  {
   "cell_type": "code",
   "execution_count": null,
   "id": "41b4e03e-e7ca-4194-a06a-c5f7c78351ab",
   "metadata": {},
   "outputs": [],
   "source": []
  },
  {
   "cell_type": "code",
   "execution_count": null,
   "id": "0854f8bf-8c6f-481c-8318-d237df9502b7",
   "metadata": {},
   "outputs": [],
   "source": []
  },
  {
   "cell_type": "code",
   "execution_count": 14,
   "id": "3dcf2fba-b59c-4eb3-8dec-5f2a84f4e473",
   "metadata": {},
   "outputs": [],
   "source": [
    "preds = model_cb.predict(test_df[['x_min', 'y_min', 'x_max', 'y_max', 'conf', 'h', 'w']])\n",
    "test_df['distance'] = preds\n",
    "\n",
    "sample_solution_df = test_df[['image_name', 'distance']]"
   ]
  },
  {
   "cell_type": "code",
   "execution_count": 15,
   "id": "c268ddcc-23c1-4d8a-a8b9-25fa1e08bd71",
   "metadata": {},
   "outputs": [],
   "source": [
    "test_img_names = set(os.listdir(DIR_DATA_TEST))"
   ]
  },
  {
   "cell_type": "code",
   "execution_count": 16,
   "id": "64a85508-bc7c-472c-b062-70d5d3eeb05a",
   "metadata": {},
   "outputs": [],
   "source": [
    "lost_test_items = []\n",
    "\n",
    "for file_name in test_img_names - set(sample_solution_df['image_name'].values):\n",
    "    lost_test_items.append([file_name, 0])\n",
    "    \n",
    "lost_test_items_df = pd.DataFrame(lost_test_items, columns=['image_name', 'distance'])\n",
    "sample_solution_df = pd.concat([sample_solution_df, lost_test_items_df])\n",
    "\n",
    "sample_solution_df.to_csv(os.path.join(DIR_SUBM, '11_yolo5l_hw_wnulls_cntrv2_niter.csv'), sep=';', index=False)"
   ]
  },
  {
   "cell_type": "code",
   "execution_count": null,
   "id": "be954a92-ea9b-4a98-921f-926df3f72b76",
   "metadata": {},
   "outputs": [],
   "source": []
  }
 ],
 "metadata": {
  "kernelspec": {
   "display_name": "uly22",
   "language": "python",
   "name": "uly22"
  },
  "language_info": {
   "codemirror_mode": {
    "name": "ipython",
    "version": 3
   },
   "file_extension": ".py",
   "mimetype": "text/x-python",
   "name": "python",
   "nbconvert_exporter": "python",
   "pygments_lexer": "ipython3",
   "version": "3.10.4"
  }
 },
 "nbformat": 4,
 "nbformat_minor": 5
}
