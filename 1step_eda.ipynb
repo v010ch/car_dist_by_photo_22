{
 "cells": [
  {
   "cell_type": "code",
   "execution_count": 36,
   "id": "5d22b73a-5090-4493-85f8-05f3564458fa",
   "metadata": {},
   "outputs": [],
   "source": [
    "import cv2\n",
    "\n",
    "from PIL import Image\n",
    "from PIL.ExifTags import TAGS\n",
    "\n",
    "#import pillow_heif\n",
    "#from pillow_heif import register_heif_opener\n",
    "#register_heif_opener() # for using Image.open for .heic without changes"
   ]
  },
  {
   "cell_type": "code",
   "execution_count": 3,
   "id": "a545f3e3-d496-40de-af2f-35f168e80d35",
   "metadata": {},
   "outputs": [],
   "source": [
    "import os\n",
    "from collections import Counter\n",
    "from typing import Tuple, List, Optional\n",
    "\n",
    "import pandas as pd\n",
    "import numpy as np\n",
    "\n",
    "from tqdm.auto import tqdm\n",
    "tqdm.pandas()"
   ]
  },
  {
   "cell_type": "code",
   "execution_count": 4,
   "id": "d68ff608-8b5b-4b85-bcd7-fa21099a0b8d",
   "metadata": {},
   "outputs": [],
   "source": [
    "#import seaborn as sns"
   ]
  },
  {
   "cell_type": "code",
   "execution_count": 5,
   "id": "75ec6609-10b6-462d-813b-97acedd29657",
   "metadata": {},
   "outputs": [],
   "source": [
    "#import matplotlib\n",
    "from matplotlib import pyplot as plt\n",
    "import seaborn as sns"
   ]
  },
  {
   "cell_type": "code",
   "execution_count": 6,
   "id": "d4ebd910-9077-41f7-8ac8-f9a5261400ce",
   "metadata": {},
   "outputs": [],
   "source": [
    "%matplotlib inline"
   ]
  },
  {
   "cell_type": "code",
   "execution_count": 7,
   "id": "50cdcbd0-23d1-4634-b14e-4831d351ec89",
   "metadata": {},
   "outputs": [],
   "source": [
    "#!pip list"
   ]
  },
  {
   "cell_type": "code",
   "execution_count": null,
   "id": "101f22aa-740d-44be-9593-335a61b82ba7",
   "metadata": {},
   "outputs": [],
   "source": []
  },
  {
   "cell_type": "code",
   "execution_count": null,
   "id": "df7963e2-5f15-4174-bc83-cdc185ecb76c",
   "metadata": {},
   "outputs": [],
   "source": []
  },
  {
   "cell_type": "code",
   "execution_count": 8,
   "id": "a3caec19-bd2b-4a77-b2a4-eecd0d9c8bec",
   "metadata": {},
   "outputs": [],
   "source": [
    "DIR_DATA = os.path.join(os.getcwd(), 'data')\n",
    "DIR_DATA_TRAIN = os.path.join(DIR_DATA, 'train')\n",
    "DIR_DATA_TEST  = os.path.join(DIR_DATA, 'test')"
   ]
  },
  {
   "cell_type": "code",
   "execution_count": null,
   "id": "11de462b-34ad-4172-b2ca-ebd08149f690",
   "metadata": {},
   "outputs": [],
   "source": []
  },
  {
   "cell_type": "code",
   "execution_count": 35,
   "id": "a9b48601-bd0e-4458-b5a2-f12abd4e5180",
   "metadata": {},
   "outputs": [],
   "source": [
    "def open_img(inp_path: str) -> np.ndarray:\n",
    "    \n",
    "    #if inp_path.endswith('.jpg'):\n",
    "    ret_img = cv2.imread(inp_path)\n",
    "    #else:\n",
    "    #    if pillow_heif.is_supported(inp_path):\n",
    "    #        heif_file = pillow_heif.open_heif(inp_path, convert_hdr_to_8bit=False)\n",
    "            #print(\"image mode:\", heif_file.mode)\n",
    "            #print(\"image data length:\", len(heif_file.data))\n",
    "            #print(\"image data stride:\", heif_file.stride)\n",
    "    #        if heif_file.has_alpha:\n",
    "    #            heif_file.convert_to(\"BGRA;16\")\n",
    "    #        else:\n",
    "    #            heif_file.convert_to(\"BGR;16\")  # convert 10 bit image to RGB 16 bit.\n",
    "            #print(\"image mode:\", heif_file.mode)\n",
    "    #        ret_img = np.asarray(heif_file)\n",
    "    \n",
    "    return ret_img"
   ]
  },
  {
   "cell_type": "code",
   "execution_count": 10,
   "id": "17b31d4c-7aca-4cf0-9be8-0a2ae42b415b",
   "metadata": {},
   "outputs": [],
   "source": [
    "def plot_corrc(inp_df: pd.DataFrame, inp_cols: List[str], targ_cols: Optional[List[int]] = ['distance']):\n",
    "    f, ax = plt.subplots(1, 2, figsize=(24, 8))\n",
    "    sns.heatmap(inp_df[inp_cols + targ_cols].corr(),\n",
    "    #sns.heatmap(inp_df.query('c2 == 0')[inp_cols + targ_cols].corr(), \\n\",\n",
    "                annot = True, cmap= 'coolwarm', linewidths=3, linecolor='black', ax = ax[0])\n",
    "    sns.heatmap(inp_df[inp_cols + targ_cols].corr(method = 'spearman'),\n",
    "    #sns.heatmap(inp_df.query('c2 == 1')[inp_cols + targ_cols].corr(), \\n\",\n",
    "                annot = True, cmap= 'coolwarm', linewidths=3, linecolor='black', ax = ax[1])\n",
    "#    sns.heatmap(inp_df.query('c2 == 0')[inp_cols + targ_cols].corr(method = 'spearman'), \\n\",\n",
    "#                annot = True, cmap= 'coolwarm', linewidths=3, linecolor='black', ax = ax[1, 0])\\n\",\n",
    "#    sns.heatmap(inp_df.query('c2 == 1')[inp_cols + targ_cols].corr(method = 'spearman'), \\n\",\n",
    "#                annot = True, cmap= 'coolwarm', linewidths=3, linecolor='black', ax = ax[1, 1])\\n\",\n",
    "    if 'distrib_brdr' in inp_df.columns:\n",
    "        sns.pairplot(inp_df[inp_cols + targ_cols + ['distrib_brdr']], height = 16,\n",
    "                     hue = 'distrib_brdr', #palette = {\\\"A\\\": \\\"C0\\\", \\\"B\\\": \\\"C1\\\"}\\n\",\n",
    "                     #markers = ['x', 'o']\\n\",\n",
    "                    )\n",
    "    else:\n",
    "        sns.pairplot(inp_df[inp_cols + targ_cols], height = 16,\n",
    "                    )"
   ]
  },
  {
   "cell_type": "code",
   "execution_count": null,
   "id": "a5263d2d-fcf5-4fb4-8748-8ebab443fb92",
   "metadata": {},
   "outputs": [],
   "source": []
  },
  {
   "cell_type": "code",
   "execution_count": null,
   "id": "3293ff25-6991-41b8-bfa4-38d8ecf5fe82",
   "metadata": {},
   "outputs": [],
   "source": []
  },
  {
   "cell_type": "code",
   "execution_count": null,
   "id": "abf58f4d-f14d-4291-b365-ada8368cc78d",
   "metadata": {},
   "outputs": [],
   "source": []
  },
  {
   "cell_type": "markdown",
   "id": "a8fc0fa6-b7f4-4ac8-9aaa-b5e4394584ea",
   "metadata": {},
   "source": [
    "## Загрузка данных"
   ]
  },
  {
   "cell_type": "code",
   "execution_count": 11,
   "id": "2882a305-c1c1-46ec-a2ab-066fdee3cc06",
   "metadata": {},
   "outputs": [],
   "source": [
    "train_list = os.listdir(DIR_DATA_TRAIN)\n",
    "test_list  = os.listdir(DIR_DATA_TEST)\n",
    "\n",
    "train_heic = [el for el in train_list if el.endswith('.heic')]\n",
    "test_heic  = [el for el in test_list  if el.endswith('.heic')]\n",
    "\n",
    "train_jpg = [el for el in train_list if el.endswith('.jpg')]\n",
    "test_jpg  = [el for el in test_list if el.endswith('.jpg')]\n",
    "\n",
    "fnames_train = set([el.split('.')[0] for el in train_list])\n",
    "fnames_test  = set([el.split('.')[0] for el in test_list])"
   ]
  },
  {
   "cell_type": "code",
   "execution_count": 12,
   "id": "1be35cf1-1514-4101-b80a-e87d41794cf5",
   "metadata": {},
   "outputs": [],
   "source": [
    "#print(Counter([el.split('.')[1] for el in train_list]))\n",
    "#print(Counter([el.split('.')[1] for el in test_list]))"
   ]
  },
  {
   "cell_type": "code",
   "execution_count": null,
   "id": "f20d4f7c-d31c-435b-9e1f-bc58fe30bf59",
   "metadata": {},
   "outputs": [],
   "source": []
  },
  {
   "cell_type": "markdown",
   "id": "19454f03-6f10-49dd-b69b-339f52c35d0c",
   "metadata": {},
   "source": [
    "### Загружаем данные"
   ]
  },
  {
   "cell_type": "markdown",
   "id": "1fda5711-42e2-4c7a-99cb-dfcf0bb25e88",
   "metadata": {},
   "source": [
    "(train_upd загружается только после выполнения 2step_make_features)"
   ]
  },
  {
   "cell_type": "code",
   "execution_count": 13,
   "id": "bd9a9b8c-2846-4f1e-920d-305d424c65a7",
   "metadata": {},
   "outputs": [
    {
     "data": {
      "text/plain": [
       "((530, 24), (517, 22))"
      ]
     },
     "execution_count": 13,
     "metadata": {},
     "output_type": "execute_result"
    }
   ],
   "source": [
    "#train_df = pd.read_csv(os.path.join(DIR_DATA, 'train.csv'), delimiter = ';')\n",
    "train_df = pd.read_csv(os.path.join(DIR_DATA, 'train_upd.csv'))\n",
    "test_df  = pd.read_csv(os.path.join(DIR_DATA, 'test_upd.csv'))\n",
    "train_df.shape, test_df.shape"
   ]
  },
  {
   "cell_type": "code",
   "execution_count": 14,
   "id": "78e81bf5-1830-45f0-9147-81d003fbe9c5",
   "metadata": {},
   "outputs": [
    {
     "data": {
      "text/html": [
       "<div>\n",
       "<style scoped>\n",
       "    .dataframe tbody tr th:only-of-type {\n",
       "        vertical-align: middle;\n",
       "    }\n",
       "\n",
       "    .dataframe tbody tr th {\n",
       "        vertical-align: top;\n",
       "    }\n",
       "\n",
       "    .dataframe thead th {\n",
       "        text-align: right;\n",
       "    }\n",
       "</style>\n",
       "<table border=\"1\" class=\"dataframe\">\n",
       "  <thead>\n",
       "    <tr style=\"text-align: right;\">\n",
       "      <th></th>\n",
       "      <th>Unnamed: 0</th>\n",
       "      <th>image_name</th>\n",
       "      <th>distance</th>\n",
       "      <th>x_min</th>\n",
       "      <th>y_min</th>\n",
       "      <th>x_max</th>\n",
       "      <th>y_max</th>\n",
       "      <th>conf</th>\n",
       "      <th>class</th>\n",
       "      <th>h</th>\n",
       "      <th>...</th>\n",
       "      <th>log_y_max</th>\n",
       "      <th>log_h</th>\n",
       "      <th>log_w</th>\n",
       "      <th>tmp</th>\n",
       "      <th>plate_x_min</th>\n",
       "      <th>plate_y_min</th>\n",
       "      <th>plate_x_max</th>\n",
       "      <th>plate_y_max</th>\n",
       "      <th>plate_w</th>\n",
       "      <th>plate_h</th>\n",
       "    </tr>\n",
       "  </thead>\n",
       "  <tbody>\n",
       "    <tr>\n",
       "      <th>0</th>\n",
       "      <td>0</td>\n",
       "      <td>img_1596.jpg</td>\n",
       "      <td>4.88</td>\n",
       "      <td>1661.429565</td>\n",
       "      <td>1172.557251</td>\n",
       "      <td>2280.754883</td>\n",
       "      <td>1717.927490</td>\n",
       "      <td>0.860230</td>\n",
       "      <td>2.0</td>\n",
       "      <td>545.370239</td>\n",
       "      <td>...</td>\n",
       "      <td>7.448874</td>\n",
       "      <td>6.301465</td>\n",
       "      <td>6.428631</td>\n",
       "      <td>(399, 214, 449, 419)</td>\n",
       "      <td>399.0</td>\n",
       "      <td>214.0</td>\n",
       "      <td>449.0</td>\n",
       "      <td>419.0</td>\n",
       "      <td>50.0</td>\n",
       "      <td>205.0</td>\n",
       "    </tr>\n",
       "    <tr>\n",
       "      <th>1</th>\n",
       "      <td>1</td>\n",
       "      <td>img_1600.jpg</td>\n",
       "      <td>1.54</td>\n",
       "      <td>1125.149536</td>\n",
       "      <td>1184.862671</td>\n",
       "      <td>3012.469971</td>\n",
       "      <td>2716.756592</td>\n",
       "      <td>0.852567</td>\n",
       "      <td>2.0</td>\n",
       "      <td>1531.893921</td>\n",
       "      <td>...</td>\n",
       "      <td>7.907194</td>\n",
       "      <td>7.334260</td>\n",
       "      <td>7.542913</td>\n",
       "      <td>(1307, 608, 1504, 1324)</td>\n",
       "      <td>1307.0</td>\n",
       "      <td>608.0</td>\n",
       "      <td>1504.0</td>\n",
       "      <td>1324.0</td>\n",
       "      <td>197.0</td>\n",
       "      <td>716.0</td>\n",
       "    </tr>\n",
       "    <tr>\n",
       "      <th>2</th>\n",
       "      <td>2</td>\n",
       "      <td>img_1601.jpg</td>\n",
       "      <td>3.68</td>\n",
       "      <td>1573.088257</td>\n",
       "      <td>1192.642944</td>\n",
       "      <td>2434.746826</td>\n",
       "      <td>2020.067017</td>\n",
       "      <td>0.645506</td>\n",
       "      <td>2.0</td>\n",
       "      <td>827.424072</td>\n",
       "      <td>...</td>\n",
       "      <td>7.610886</td>\n",
       "      <td>6.718317</td>\n",
       "      <td>6.758859</td>\n",
       "      <td>(461, 292, 522, 578)</td>\n",
       "      <td>461.0</td>\n",
       "      <td>292.0</td>\n",
       "      <td>522.0</td>\n",
       "      <td>578.0</td>\n",
       "      <td>61.0</td>\n",
       "      <td>286.0</td>\n",
       "    </tr>\n",
       "    <tr>\n",
       "      <th>3</th>\n",
       "      <td>3</td>\n",
       "      <td>img_1603.jpg</td>\n",
       "      <td>2.22</td>\n",
       "      <td>2603.172363</td>\n",
       "      <td>1277.686401</td>\n",
       "      <td>3310.659912</td>\n",
       "      <td>1849.837769</td>\n",
       "      <td>0.782663</td>\n",
       "      <td>2.0</td>\n",
       "      <td>572.151367</td>\n",
       "      <td>...</td>\n",
       "      <td>7.522853</td>\n",
       "      <td>6.349404</td>\n",
       "      <td>6.561720</td>\n",
       "      <td>(258, 160, 507, 415)</td>\n",
       "      <td>258.0</td>\n",
       "      <td>160.0</td>\n",
       "      <td>507.0</td>\n",
       "      <td>415.0</td>\n",
       "      <td>249.0</td>\n",
       "      <td>255.0</td>\n",
       "    </tr>\n",
       "    <tr>\n",
       "      <th>4</th>\n",
       "      <td>4</td>\n",
       "      <td>img_1605.jpg</td>\n",
       "      <td>3.73</td>\n",
       "      <td>1612.237183</td>\n",
       "      <td>1101.504517</td>\n",
       "      <td>2481.318848</td>\n",
       "      <td>1924.509155</td>\n",
       "      <td>0.764224</td>\n",
       "      <td>2.0</td>\n",
       "      <td>823.004639</td>\n",
       "      <td>...</td>\n",
       "      <td>7.562426</td>\n",
       "      <td>6.712962</td>\n",
       "      <td>6.767437</td>\n",
       "      <td>(459, 289, 523, 575)</td>\n",
       "      <td>459.0</td>\n",
       "      <td>289.0</td>\n",
       "      <td>523.0</td>\n",
       "      <td>575.0</td>\n",
       "      <td>64.0</td>\n",
       "      <td>286.0</td>\n",
       "    </tr>\n",
       "  </tbody>\n",
       "</table>\n",
       "<p>5 rows × 24 columns</p>\n",
       "</div>"
      ],
      "text/plain": [
       "   Unnamed: 0    image_name  distance        x_min        y_min        x_max  \\\n",
       "0           0  img_1596.jpg      4.88  1661.429565  1172.557251  2280.754883   \n",
       "1           1  img_1600.jpg      1.54  1125.149536  1184.862671  3012.469971   \n",
       "2           2  img_1601.jpg      3.68  1573.088257  1192.642944  2434.746826   \n",
       "3           3  img_1603.jpg      2.22  2603.172363  1277.686401  3310.659912   \n",
       "4           4  img_1605.jpg      3.73  1612.237183  1101.504517  2481.318848   \n",
       "\n",
       "         y_max      conf  class            h  ...  log_y_max     log_h  \\\n",
       "0  1717.927490  0.860230    2.0   545.370239  ...   7.448874  6.301465   \n",
       "1  2716.756592  0.852567    2.0  1531.893921  ...   7.907194  7.334260   \n",
       "2  2020.067017  0.645506    2.0   827.424072  ...   7.610886  6.718317   \n",
       "3  1849.837769  0.782663    2.0   572.151367  ...   7.522853  6.349404   \n",
       "4  1924.509155  0.764224    2.0   823.004639  ...   7.562426  6.712962   \n",
       "\n",
       "      log_w                      tmp  plate_x_min  plate_y_min  plate_x_max  \\\n",
       "0  6.428631     (399, 214, 449, 419)        399.0        214.0        449.0   \n",
       "1  7.542913  (1307, 608, 1504, 1324)       1307.0        608.0       1504.0   \n",
       "2  6.758859     (461, 292, 522, 578)        461.0        292.0        522.0   \n",
       "3  6.561720     (258, 160, 507, 415)        258.0        160.0        507.0   \n",
       "4  6.767437     (459, 289, 523, 575)        459.0        289.0        523.0   \n",
       "\n",
       "  plate_y_max  plate_w  plate_h  \n",
       "0       419.0     50.0    205.0  \n",
       "1      1324.0    197.0    716.0  \n",
       "2       578.0     61.0    286.0  \n",
       "3       415.0    249.0    255.0  \n",
       "4       575.0     64.0    286.0  \n",
       "\n",
       "[5 rows x 24 columns]"
      ]
     },
     "execution_count": 14,
     "metadata": {},
     "output_type": "execute_result"
    }
   ],
   "source": [
    "train_df.head()"
   ]
  },
  {
   "cell_type": "code",
   "execution_count": 15,
   "id": "dbc59f08-1c20-4af5-b152-a67f3aebdd18",
   "metadata": {},
   "outputs": [
    {
     "data": {
      "text/plain": [
       "1    530\n",
       "dtype: int64"
      ]
     },
     "execution_count": 15,
     "metadata": {},
     "output_type": "execute_result"
    }
   ],
   "source": [
    "train_df.groupby('image_name').agg('size').value_counts()"
   ]
  },
  {
   "cell_type": "code",
   "execution_count": null,
   "id": "a9fa05c1-8a85-411a-b5b0-0fd6fb6391c4",
   "metadata": {},
   "outputs": [],
   "source": []
  },
  {
   "cell_type": "code",
   "execution_count": null,
   "id": "780bd232-48db-4d52-a464-3fdd9386ceed",
   "metadata": {},
   "outputs": [],
   "source": []
  },
  {
   "cell_type": "markdown",
   "id": "9ecaddbf-d748-4e36-aaac-177d344fedcd",
   "metadata": {},
   "source": [
    "Посмотрим на размеры"
   ]
  },
  {
   "cell_type": "raw",
   "id": "ff1d6f7f-381f-46cc-974b-56d8400f803d",
   "metadata": {},
   "source": [
    "%%time\n",
    "#tmp = [fl for fl in train_list if fl.endswith('.jpg')]\n",
    "#sizes = [cv2.imread(os.path.join(DIR_DATA_TRAIN, el )).shape \\\n",
    "sizes = [open_img(os.path.join(DIR_DATA_TRAIN, el )).shape \\\n",
    "         for el in tqdm(train_list)]\n",
    "Counter(sizes)"
   ]
  },
  {
   "cell_type": "raw",
   "id": "ba2392f1-fb13-4d6d-8ed4-ffe1f2eaaa11",
   "metadata": {},
   "source": [
    "Counter({(3024, 4032, 3): 529, (4032, 3024, 3): 1})"
   ]
  },
  {
   "cell_type": "raw",
   "id": "554f32d6-c7e0-4458-963d-878d5c3a12ad",
   "metadata": {},
   "source": [
    "%%time\n",
    "#tmp = [fl for fl in test_list if fl.endswith('.jpg')]\n",
    "#sizes = [cv2.imread(os.path.join(DIR_DATA_TEST, el )).shape \\\n",
    "sizes = [open_img(os.path.join(DIR_DATA_TEST, el )).shape \\\n",
    "         for el in tqdm(test_list)]\n",
    "Counter(sizes)"
   ]
  },
  {
   "cell_type": "raw",
   "id": "72e88c59-61f7-45bf-99bc-f138cb2ca55d",
   "metadata": {},
   "source": [
    "Counter({(3024, 4032, 3): 519, (4032, 3024, 3): 2})"
   ]
  },
  {
   "cell_type": "code",
   "execution_count": null,
   "id": "fc16c748-fb56-4d92-bc96-9637675dd87e",
   "metadata": {},
   "outputs": [],
   "source": []
  },
  {
   "cell_type": "markdown",
   "id": "4cae0d1f-ba1c-4076-bd7b-c46dbc8ec597",
   "metadata": {},
   "source": [
    "Посмотрим на мин и макс"
   ]
  },
  {
   "cell_type": "code",
   "execution_count": 16,
   "id": "c72e6f28-57e5-46a6-8be8-f497dcf01d9f",
   "metadata": {},
   "outputs": [
    {
     "data": {
      "text/plain": [
       "91     9.38\n",
       "260    9.06\n",
       "80     8.80\n",
       "90     8.78\n",
       "368    8.74\n",
       "Name: distance, dtype: float64"
      ]
     },
     "execution_count": 16,
     "metadata": {},
     "output_type": "execute_result"
    }
   ],
   "source": [
    "train_df.distance.nlargest(5)"
   ]
  },
  {
   "cell_type": "code",
   "execution_count": 17,
   "id": "2ac091e1-d1dc-48fa-82d2-f708f64414bc",
   "metadata": {},
   "outputs": [
    {
     "data": {
      "text/plain": [
       "480    0.85\n",
       "124    1.06\n",
       "479    1.09\n",
       "19     1.12\n",
       "199    1.16\n",
       "Name: distance, dtype: float64"
      ]
     },
     "execution_count": 17,
     "metadata": {},
     "output_type": "execute_result"
    }
   ],
   "source": [
    "train_df.distance.nsmallest(5)"
   ]
  },
  {
   "cell_type": "code",
   "execution_count": 18,
   "id": "f1d6a0a0-baa7-4501-8b25-e4e18ecea9e8",
   "metadata": {},
   "outputs": [
    {
     "name": "stdout",
     "output_type": "stream",
     "text": [
      "min  0.85    img_2858.jpg\n",
      "max  9.38    img_2724.heic\n"
     ]
    }
   ],
   "source": [
    "print('min ', train_df.distance[train_df.distance.argmin()], '  ', train_df.image_name[train_df.distance.argmin()])\n",
    "print('max ', train_df.distance[train_df.distance.argmax()], '  ', train_df.image_name[train_df.distance.argmax()])"
   ]
  },
  {
   "cell_type": "code",
   "execution_count": 19,
   "id": "311bcb34-60c0-446a-95b6-528edf840128",
   "metadata": {
    "tags": []
   },
   "outputs": [
    {
     "ename": "NameError",
     "evalue": "name 'pillow_heif' is not defined",
     "output_type": "error",
     "traceback": [
      "\u001b[1;31m---------------------------------------------------------------------------\u001b[0m",
      "\u001b[1;31mNameError\u001b[0m                                 Traceback (most recent call last)",
      "Input \u001b[1;32mIn [19]\u001b[0m, in \u001b[0;36m<cell line: 2>\u001b[1;34m()\u001b[0m\n\u001b[0;32m      1\u001b[0m \u001b[38;5;66;03m#img = open_img(os.path.join(DIR_DATA_TRAIN, train_df.image_name[train_df.distance.argmin()]))\u001b[39;00m\n\u001b[1;32m----> 2\u001b[0m img \u001b[38;5;241m=\u001b[39m \u001b[43mopen_img\u001b[49m\u001b[43m(\u001b[49m\u001b[43mos\u001b[49m\u001b[38;5;241;43m.\u001b[39;49m\u001b[43mpath\u001b[49m\u001b[38;5;241;43m.\u001b[39;49m\u001b[43mjoin\u001b[49m\u001b[43m(\u001b[49m\u001b[43mDIR_DATA_TRAIN\u001b[49m\u001b[43m,\u001b[49m\u001b[43m \u001b[49m\u001b[43mtrain_df\u001b[49m\u001b[38;5;241;43m.\u001b[39;49m\u001b[43mimage_name\u001b[49m\u001b[43m[\u001b[49m\u001b[43mtrain_df\u001b[49m\u001b[38;5;241;43m.\u001b[39;49m\u001b[43mdistance\u001b[49m\u001b[38;5;241;43m.\u001b[39;49m\u001b[43margmax\u001b[49m\u001b[43m(\u001b[49m\u001b[43m)\u001b[49m\u001b[43m]\u001b[49m\u001b[43m)\u001b[49m\u001b[43m)\u001b[49m\n\u001b[0;32m      3\u001b[0m \u001b[38;5;66;03m#img = cv2.resize(img, [504*4, 504*3])\u001b[39;00m\n\u001b[0;32m      4\u001b[0m img \u001b[38;5;241m=\u001b[39m cv2\u001b[38;5;241m.\u001b[39mresize(img, [\u001b[38;5;241m252\u001b[39m\u001b[38;5;241m*\u001b[39m\u001b[38;5;241m4\u001b[39m, \u001b[38;5;241m252\u001b[39m\u001b[38;5;241m*\u001b[39m\u001b[38;5;241m3\u001b[39m])\n",
      "Input \u001b[1;32mIn [9]\u001b[0m, in \u001b[0;36mopen_img\u001b[1;34m(inp_path)\u001b[0m\n\u001b[0;32m      4\u001b[0m     ret_img \u001b[38;5;241m=\u001b[39m cv2\u001b[38;5;241m.\u001b[39mimread(inp_path)\n\u001b[0;32m      5\u001b[0m \u001b[38;5;28;01melse\u001b[39;00m:\n\u001b[1;32m----> 6\u001b[0m     \u001b[38;5;28;01mif\u001b[39;00m \u001b[43mpillow_heif\u001b[49m\u001b[38;5;241m.\u001b[39mis_supported(inp_path):\n\u001b[0;32m      7\u001b[0m         heif_file \u001b[38;5;241m=\u001b[39m pillow_heif\u001b[38;5;241m.\u001b[39mopen_heif(inp_path, convert_hdr_to_8bit\u001b[38;5;241m=\u001b[39m\u001b[38;5;28;01mFalse\u001b[39;00m)\n\u001b[0;32m      8\u001b[0m         \u001b[38;5;66;03m#print(\"image mode:\", heif_file.mode)\u001b[39;00m\n\u001b[0;32m      9\u001b[0m         \u001b[38;5;66;03m#print(\"image data length:\", len(heif_file.data))\u001b[39;00m\n\u001b[0;32m     10\u001b[0m         \u001b[38;5;66;03m#print(\"image data stride:\", heif_file.stride)\u001b[39;00m\n",
      "\u001b[1;31mNameError\u001b[0m: name 'pillow_heif' is not defined"
     ]
    }
   ],
   "source": [
    "#img = open_img(os.path.join(DIR_DATA_TRAIN, train_df.image_name[train_df.distance.argmin()]))\n",
    "img = open_img(os.path.join(DIR_DATA_TRAIN, train_df.image_name[train_df.distance.argmax()]))\n",
    "#img = cv2.resize(img, [504*4, 504*3])\n",
    "img = cv2.resize(img, [252*4, 252*3])\n",
    "cv2.imshow('random', img)\n",
    "cv2.waitKey(0)\n",
    "cv2.destroyAllWindows() "
   ]
  },
  {
   "cell_type": "code",
   "execution_count": null,
   "id": "82d742f0-c5cd-4fb9-9786-a231470aa4dd",
   "metadata": {},
   "outputs": [],
   "source": []
  },
  {
   "cell_type": "code",
   "execution_count": null,
   "id": "561f4cb8-9079-4b07-b77d-a33851fdeaa1",
   "metadata": {},
   "outputs": [],
   "source": []
  },
  {
   "cell_type": "code",
   "execution_count": null,
   "id": "674cd99e-5ec9-4406-a679-a647ca7fb3f4",
   "metadata": {},
   "outputs": [],
   "source": []
  },
  {
   "cell_type": "code",
   "execution_count": 20,
   "id": "eea60e3b-9175-44ca-a7a2-9a952186673b",
   "metadata": {},
   "outputs": [],
   "source": [
    "train_df['ext'] = train_df.image_name.apply(lambda x: x.split('.')[1])"
   ]
  },
  {
   "cell_type": "code",
   "execution_count": 21,
   "id": "4990adbb-f6f1-4a9b-a3af-19c107e7273f",
   "metadata": {},
   "outputs": [
    {
     "data": {
      "text/plain": [
       "<AxesSubplot:>"
      ]
     },
     "execution_count": 21,
     "metadata": {},
     "output_type": "execute_result"
    },
    {
     "data": {
      "image/png": "[encoded data removed]",
      "text/plain": [
       "<Figure size 432x288 with 1 Axes>"
      ]
     },
     "metadata": {
      "needs_background": "light"
     },
     "output_type": "display_data"
    }
   ],
   "source": [
    "train_df.distance.hist(bins = 15)"
   ]
  },
  {
   "cell_type": "code",
   "execution_count": 22,
   "id": "4ca4aeec-a81d-47cb-93d4-e12734141a8f",
   "metadata": {},
   "outputs": [],
   "source": [
    "# 520 x 112\n",
    "# 245 x 160\n",
    "# 290 х 170"
   ]
  },
  {
   "cell_type": "code",
   "execution_count": null,
   "id": "4756550f-2ae1-43bb-acf3-d9e53a99afc1",
   "metadata": {},
   "outputs": [],
   "source": []
  },
  {
   "cell_type": "markdown",
   "id": "6e1a82d9-c786-44f1-afa1-3a15737ebda2",
   "metadata": {},
   "source": [
    "Посмотрим пересечение датасетов"
   ]
  },
  {
   "cell_type": "code",
   "execution_count": 23,
   "id": "e64adaf4-933b-4b42-ab07-4f3f83677ec8",
   "metadata": {},
   "outputs": [
    {
     "data": {
      "text/plain": [
       "44"
      ]
     },
     "execution_count": 23,
     "metadata": {},
     "output_type": "execute_result"
    }
   ],
   "source": [
    "tmp = list(fnames_train.intersection(fnames_test))\n",
    "len(tmp)"
   ]
  },
  {
   "cell_type": "raw",
   "id": "654eb34f-2672-48ff-8650-0cb91c27861a",
   "metadata": {},
   "source": [
    "for idx, el in enumerate(tmp):\n",
    "    if os.path.exists(os.path.join(DIR_DATA_TRAIN, f'{el}.jpg')):\n",
    "        img_train = open_img(os.path.join(DIR_DATA_TRAIN, f'{el}.jpg'))\n",
    "    else:\n",
    "        img_train = open_img(os.path.join(DIR_DATA_TRAIN, f'{el}.heic'))\n",
    "        \n",
    "    if os.path.exists(os.path.join(DIR_DATA_TEST, f'{el}.jpg')):\n",
    "        img_test = open_img(os.path.join(DIR_DATA_TEST, f'{el}.jpg'))\n",
    "    else:\n",
    "        img_test = open_img(os.path.join(DIR_DATA_TEST, f'{el}.heic'))\n",
    "        \n",
    "    img_train = cv2.resize(img_train, [252*4, 252*3])\n",
    "    img_test  = cv2.resize(img_test, [252*4, 252*3])\n",
    "\n",
    "    img = np.concatenate((img_train, img_test), axis = 1)\n",
    "    \n",
    "    cv2.imshow(f'{idx}   {el}', img)\n",
    "    cv2.waitKey(0)\n",
    "    cv2.destroyAllWindows()     \n",
    "    "
   ]
  },
  {
   "cell_type": "code",
   "execution_count": null,
   "id": "d8be3b63-bdce-4c6e-bae7-d6f2e4059d49",
   "metadata": {},
   "outputs": [],
   "source": []
  },
  {
   "cell_type": "markdown",
   "id": "d1caeb62-e7d3-411b-a689-536e51c96082",
   "metadata": {},
   "source": [
    "Смазанные фото"
   ]
  },
  {
   "cell_type": "raw",
   "id": "90b1b676-bb17-4661-a050-bab135cda209",
   "metadata": {},
   "source": [
    "#for el in train_heic:\n",
    "for el in test_heic:\n",
    "    #img = open_img(os.path.join(DIR_DATA_TRAIN, el))\n",
    "    img = open_img(os.path.join(DIR_DATA_TEST, el))\n",
    "    img = cv2.resize(img, [252*4, 252*3])\n",
    "\n",
    "    cv2.imshow(f'motion blur {el}', img)\n",
    "    cv2.waitKey(0)\n",
    "    cv2.destroyAllWindows() "
   ]
  },
  {
   "cell_type": "code",
   "execution_count": 24,
   "id": "fe558652-146b-46eb-8f07-1b9ce54ab050",
   "metadata": {},
   "outputs": [],
   "source": [
    "motion_blur_train = ['img_2709.heic', 'img_2733.heic', 'img_2734.heic']    # 'img_2734.heic' возможно рабочий \n",
    "motion_blur_test  = ['img_2674.heic']"
   ]
  },
  {
   "cell_type": "code",
   "execution_count": 25,
   "id": "6777d34d-0848-4174-ae8f-b64d8dffdfed",
   "metadata": {
    "tags": []
   },
   "outputs": [
    {
     "ename": "NameError",
     "evalue": "name 'pillow_heif' is not defined",
     "output_type": "error",
     "traceback": [
      "\u001b[1;31m---------------------------------------------------------------------------\u001b[0m",
      "\u001b[1;31mNameError\u001b[0m                                 Traceback (most recent call last)",
      "Input \u001b[1;32mIn [25]\u001b[0m, in \u001b[0;36m<cell line: 1>\u001b[1;34m()\u001b[0m\n\u001b[1;32m----> 1\u001b[0m img \u001b[38;5;241m=\u001b[39m \u001b[43mopen_img\u001b[49m\u001b[43m(\u001b[49m\u001b[43mos\u001b[49m\u001b[38;5;241;43m.\u001b[39;49m\u001b[43mpath\u001b[49m\u001b[38;5;241;43m.\u001b[39;49m\u001b[43mjoin\u001b[49m\u001b[43m(\u001b[49m\u001b[43mDIR_DATA_TRAIN\u001b[49m\u001b[43m,\u001b[49m\u001b[43m \u001b[49m\u001b[38;5;124;43m'\u001b[39;49m\u001b[38;5;124;43mimg_2745.heic\u001b[39;49m\u001b[38;5;124;43m'\u001b[39;49m\u001b[43m)\u001b[49m\u001b[43m)\u001b[49m\n\u001b[0;32m      2\u001b[0m \u001b[38;5;66;03m#img = open_img(os.path.join(DIR_DATA_TEST, motion_blur_test[0]))\u001b[39;00m\n\u001b[0;32m      3\u001b[0m img \u001b[38;5;241m=\u001b[39m cv2\u001b[38;5;241m.\u001b[39mresize(img, [\u001b[38;5;241m252\u001b[39m\u001b[38;5;241m*\u001b[39m\u001b[38;5;241m4\u001b[39m, \u001b[38;5;241m252\u001b[39m\u001b[38;5;241m*\u001b[39m\u001b[38;5;241m3\u001b[39m])\n",
      "Input \u001b[1;32mIn [9]\u001b[0m, in \u001b[0;36mopen_img\u001b[1;34m(inp_path)\u001b[0m\n\u001b[0;32m      4\u001b[0m     ret_img \u001b[38;5;241m=\u001b[39m cv2\u001b[38;5;241m.\u001b[39mimread(inp_path)\n\u001b[0;32m      5\u001b[0m \u001b[38;5;28;01melse\u001b[39;00m:\n\u001b[1;32m----> 6\u001b[0m     \u001b[38;5;28;01mif\u001b[39;00m \u001b[43mpillow_heif\u001b[49m\u001b[38;5;241m.\u001b[39mis_supported(inp_path):\n\u001b[0;32m      7\u001b[0m         heif_file \u001b[38;5;241m=\u001b[39m pillow_heif\u001b[38;5;241m.\u001b[39mopen_heif(inp_path, convert_hdr_to_8bit\u001b[38;5;241m=\u001b[39m\u001b[38;5;28;01mFalse\u001b[39;00m)\n\u001b[0;32m      8\u001b[0m         \u001b[38;5;66;03m#print(\"image mode:\", heif_file.mode)\u001b[39;00m\n\u001b[0;32m      9\u001b[0m         \u001b[38;5;66;03m#print(\"image data length:\", len(heif_file.data))\u001b[39;00m\n\u001b[0;32m     10\u001b[0m         \u001b[38;5;66;03m#print(\"image data stride:\", heif_file.stride)\u001b[39;00m\n",
      "\u001b[1;31mNameError\u001b[0m: name 'pillow_heif' is not defined"
     ]
    }
   ],
   "source": [
    "img = open_img(os.path.join(DIR_DATA_TRAIN, 'img_2745.heic'))\n",
    "#img = open_img(os.path.join(DIR_DATA_TEST, motion_blur_test[0]))\n",
    "img = cv2.resize(img, [252*4, 252*3])\n",
    "               \n",
    "cv2.imshow('motion blur', img)\n",
    "cv2.waitKey(0)\n",
    "cv2.destroyAllWindows() "
   ]
  },
  {
   "cell_type": "code",
   "execution_count": null,
   "id": "4cd421dd-7889-40ee-b988-2b0105ed11b2",
   "metadata": {},
   "outputs": [],
   "source": []
  },
  {
   "cell_type": "code",
   "execution_count": 26,
   "id": "09002fcc-47cb-4812-b823-826d71686285",
   "metadata": {},
   "outputs": [
    {
     "data": {
      "text/plain": [
       "Index(['Unnamed: 0', 'image_name', 'distance', 'x_min', 'y_min', 'x_max',\n",
       "       'y_max', 'conf', 'class', 'h', 'w', 'log_x_min', 'log_y_min',\n",
       "       'log_x_max', 'log_y_max', 'log_h', 'log_w', 'tmp', 'plate_x_min',\n",
       "       'plate_y_min', 'plate_x_max', 'plate_y_max', 'plate_w', 'plate_h',\n",
       "       'ext'],\n",
       "      dtype='object')"
      ]
     },
     "execution_count": 26,
     "metadata": {},
     "output_type": "execute_result"
    }
   ],
   "source": [
    "train_df.columns"
   ]
  },
  {
   "cell_type": "code",
   "execution_count": 27,
   "id": "79780de1-64f5-474e-bea4-c3691d0c477e",
   "metadata": {},
   "outputs": [],
   "source": [
    "#train_df['exp_w'] = train_df.w.apply(lambda x: np.exp(x))\n",
    "train_df['log_w'] = train_df.w.apply(lambda x: np.log(x))"
   ]
  },
  {
   "cell_type": "code",
   "execution_count": null,
   "id": "341d659b-9aa0-4f33-a55f-9dba39709ade",
   "metadata": {},
   "outputs": [],
   "source": []
  },
  {
   "cell_type": "markdown",
   "id": "9d6bc357-7fe9-4fc7-b607-5925809a57fa",
   "metadata": {},
   "source": [
    "Посмотрим на корреляцию с признаками из train_upd"
   ]
  },
  {
   "cell_type": "code",
   "execution_count": 31,
   "id": "5ac18fa5-adb8-4e8e-bb29-96c5c6c73b25",
   "metadata": {},
   "outputs": [
    {
     "data": {
      "image/png": "[encoded data removed]",
      "text/plain": [
       "<Figure size 1728x576 with 4 Axes>"
      ]
     },
     "metadata": {
      "needs_background": "light"
     },
     "output_type": "display_data"
    },
    {
     "data": {
      "image/png": "[encoded data removed]",
      "text/plain": [
       "<Figure size 2304x2304 with 6 Axes>"
      ]
     },
     "metadata": {
      "needs_background": "light"
     },
     "output_type": "display_data"
    }
   ],
   "source": [
    "#plot_corrc(train_df, ['x_min', 'y_min', 'x_max', 'y_max', 'h', 'w']) #'conf', \n",
    "plot_corrc(train_df, ['w'])"
   ]
  },
  {
   "cell_type": "code",
   "execution_count": null,
   "id": "2de62239-2a19-422c-9dac-f149cca51b38",
   "metadata": {},
   "outputs": [],
   "source": []
  },
  {
   "cell_type": "code",
   "execution_count": 29,
   "id": "a204f7c7-f8e7-4f9e-8dbc-c6b75132d956",
   "metadata": {},
   "outputs": [
    {
     "data": {
      "text/html": [
       "<div>\n",
       "<style scoped>\n",
       "    .dataframe tbody tr th:only-of-type {\n",
       "        vertical-align: middle;\n",
       "    }\n",
       "\n",
       "    .dataframe tbody tr th {\n",
       "        vertical-align: top;\n",
       "    }\n",
       "\n",
       "    .dataframe thead th {\n",
       "        text-align: right;\n",
       "    }\n",
       "</style>\n",
       "<table border=\"1\" class=\"dataframe\">\n",
       "  <thead>\n",
       "    <tr style=\"text-align: right;\">\n",
       "      <th></th>\n",
       "      <th>Unnamed: 0</th>\n",
       "      <th>image_name</th>\n",
       "      <th>distance</th>\n",
       "      <th>x_min</th>\n",
       "      <th>y_min</th>\n",
       "      <th>x_max</th>\n",
       "      <th>y_max</th>\n",
       "      <th>conf</th>\n",
       "      <th>class</th>\n",
       "      <th>h</th>\n",
       "      <th>...</th>\n",
       "      <th>log_h</th>\n",
       "      <th>log_w</th>\n",
       "      <th>tmp</th>\n",
       "      <th>plate_x_min</th>\n",
       "      <th>plate_y_min</th>\n",
       "      <th>plate_x_max</th>\n",
       "      <th>plate_y_max</th>\n",
       "      <th>plate_w</th>\n",
       "      <th>plate_h</th>\n",
       "      <th>ext</th>\n",
       "    </tr>\n",
       "  </thead>\n",
       "  <tbody>\n",
       "    <tr>\n",
       "      <th>92</th>\n",
       "      <td>92</td>\n",
       "      <td>img_2726.heic</td>\n",
       "      <td>8.44</td>\n",
       "      <td>1835.837769</td>\n",
       "      <td>1418.255981</td>\n",
       "      <td>2112.787109</td>\n",
       "      <td>1653.007446</td>\n",
       "      <td>0.897338</td>\n",
       "      <td>2.0</td>\n",
       "      <td>234.751465</td>\n",
       "      <td>...</td>\n",
       "      <td>5.458527</td>\n",
       "      <td>5.623835</td>\n",
       "      <td>(152, 95, 174, 183)</td>\n",
       "      <td>152.0</td>\n",
       "      <td>95.0</td>\n",
       "      <td>174.0</td>\n",
       "      <td>183.0</td>\n",
       "      <td>22.0</td>\n",
       "      <td>88.0</td>\n",
       "      <td>heic</td>\n",
       "    </tr>\n",
       "    <tr>\n",
       "      <th>80</th>\n",
       "      <td>80</td>\n",
       "      <td>img_2696.heic</td>\n",
       "      <td>8.80</td>\n",
       "      <td>1824.759521</td>\n",
       "      <td>1369.581787</td>\n",
       "      <td>2123.758057</td>\n",
       "      <td>1620.478638</td>\n",
       "      <td>0.884633</td>\n",
       "      <td>2.0</td>\n",
       "      <td>250.896851</td>\n",
       "      <td>...</td>\n",
       "      <td>5.525042</td>\n",
       "      <td>5.700439</td>\n",
       "      <td>(169, 97, 192, 195)</td>\n",
       "      <td>169.0</td>\n",
       "      <td>97.0</td>\n",
       "      <td>192.0</td>\n",
       "      <td>195.0</td>\n",
       "      <td>23.0</td>\n",
       "      <td>98.0</td>\n",
       "      <td>heic</td>\n",
       "    </tr>\n",
       "    <tr>\n",
       "      <th>91</th>\n",
       "      <td>91</td>\n",
       "      <td>img_2724.heic</td>\n",
       "      <td>9.38</td>\n",
       "      <td>1784.518921</td>\n",
       "      <td>1340.706787</td>\n",
       "      <td>2092.518066</td>\n",
       "      <td>1598.900635</td>\n",
       "      <td>0.910434</td>\n",
       "      <td>2.0</td>\n",
       "      <td>258.193848</td>\n",
       "      <td>...</td>\n",
       "      <td>5.553711</td>\n",
       "      <td>5.730097</td>\n",
       "      <td>(174, 105, 199, 205)</td>\n",
       "      <td>174.0</td>\n",
       "      <td>105.0</td>\n",
       "      <td>199.0</td>\n",
       "      <td>205.0</td>\n",
       "      <td>25.0</td>\n",
       "      <td>100.0</td>\n",
       "      <td>heic</td>\n",
       "    </tr>\n",
       "    <tr>\n",
       "      <th>260</th>\n",
       "      <td>260</td>\n",
       "      <td>img_2333.jpg</td>\n",
       "      <td>9.06</td>\n",
       "      <td>1701.218384</td>\n",
       "      <td>1323.682495</td>\n",
       "      <td>2010.513916</td>\n",
       "      <td>1619.299561</td>\n",
       "      <td>0.916093</td>\n",
       "      <td>2.0</td>\n",
       "      <td>295.617065</td>\n",
       "      <td>...</td>\n",
       "      <td>5.689065</td>\n",
       "      <td>5.734297</td>\n",
       "      <td>(171, 33, 192, 128)</td>\n",
       "      <td>171.0</td>\n",
       "      <td>33.0</td>\n",
       "      <td>192.0</td>\n",
       "      <td>128.0</td>\n",
       "      <td>21.0</td>\n",
       "      <td>95.0</td>\n",
       "      <td>jpg</td>\n",
       "    </tr>\n",
       "    <tr>\n",
       "      <th>228</th>\n",
       "      <td>228</td>\n",
       "      <td>img_2277.jpg</td>\n",
       "      <td>7.70</td>\n",
       "      <td>1731.684326</td>\n",
       "      <td>1231.807251</td>\n",
       "      <td>2042.053955</td>\n",
       "      <td>1532.500488</td>\n",
       "      <td>0.920233</td>\n",
       "      <td>2.0</td>\n",
       "      <td>300.693237</td>\n",
       "      <td>...</td>\n",
       "      <td>5.706091</td>\n",
       "      <td>5.737764</td>\n",
       "      <td>(206, 105, 235, 217)</td>\n",
       "      <td>206.0</td>\n",
       "      <td>105.0</td>\n",
       "      <td>235.0</td>\n",
       "      <td>217.0</td>\n",
       "      <td>29.0</td>\n",
       "      <td>112.0</td>\n",
       "      <td>jpg</td>\n",
       "    </tr>\n",
       "  </tbody>\n",
       "</table>\n",
       "<p>5 rows × 25 columns</p>\n",
       "</div>"
      ],
      "text/plain": [
       "     Unnamed: 0     image_name  distance        x_min        y_min  \\\n",
       "92           92  img_2726.heic      8.44  1835.837769  1418.255981   \n",
       "80           80  img_2696.heic      8.80  1824.759521  1369.581787   \n",
       "91           91  img_2724.heic      9.38  1784.518921  1340.706787   \n",
       "260         260   img_2333.jpg      9.06  1701.218384  1323.682495   \n",
       "228         228   img_2277.jpg      7.70  1731.684326  1231.807251   \n",
       "\n",
       "           x_max        y_max      conf  class           h  ...     log_h  \\\n",
       "92   2112.787109  1653.007446  0.897338    2.0  234.751465  ...  5.458527   \n",
       "80   2123.758057  1620.478638  0.884633    2.0  250.896851  ...  5.525042   \n",
       "91   2092.518066  1598.900635  0.910434    2.0  258.193848  ...  5.553711   \n",
       "260  2010.513916  1619.299561  0.916093    2.0  295.617065  ...  5.689065   \n",
       "228  2042.053955  1532.500488  0.920233    2.0  300.693237  ...  5.706091   \n",
       "\n",
       "        log_w                   tmp  plate_x_min  plate_y_min  plate_x_max  \\\n",
       "92   5.623835   (152, 95, 174, 183)        152.0         95.0        174.0   \n",
       "80   5.700439   (169, 97, 192, 195)        169.0         97.0        192.0   \n",
       "91   5.730097  (174, 105, 199, 205)        174.0        105.0        199.0   \n",
       "260  5.734297   (171, 33, 192, 128)        171.0         33.0        192.0   \n",
       "228  5.737764  (206, 105, 235, 217)        206.0        105.0        235.0   \n",
       "\n",
       "     plate_y_max plate_w  plate_h   ext  \n",
       "92         183.0    22.0     88.0  heic  \n",
       "80         195.0    23.0     98.0  heic  \n",
       "91         205.0    25.0    100.0  heic  \n",
       "260        128.0    21.0     95.0   jpg  \n",
       "228        217.0    29.0    112.0   jpg  \n",
       "\n",
       "[5 rows x 25 columns]"
      ]
     },
     "execution_count": 29,
     "metadata": {},
     "output_type": "execute_result"
    }
   ],
   "source": [
    "train_df.sort_values('w').head(5)"
   ]
  },
  {
   "cell_type": "code",
   "execution_count": 30,
   "id": "2bc70ffc-3fea-4a38-b44a-121d78a35081",
   "metadata": {},
   "outputs": [
    {
     "data": {
      "text/html": [
       "<div>\n",
       "<style scoped>\n",
       "    .dataframe tbody tr th:only-of-type {\n",
       "        vertical-align: middle;\n",
       "    }\n",
       "\n",
       "    .dataframe tbody tr th {\n",
       "        vertical-align: top;\n",
       "    }\n",
       "\n",
       "    .dataframe thead th {\n",
       "        text-align: right;\n",
       "    }\n",
       "</style>\n",
       "<table border=\"1\" class=\"dataframe\">\n",
       "  <thead>\n",
       "    <tr style=\"text-align: right;\">\n",
       "      <th></th>\n",
       "      <th>image_name</th>\n",
       "      <th>x_min</th>\n",
       "      <th>y_min</th>\n",
       "      <th>x_max</th>\n",
       "      <th>y_max</th>\n",
       "      <th>conf</th>\n",
       "      <th>class</th>\n",
       "      <th>h</th>\n",
       "      <th>w</th>\n",
       "      <th>log_x_min</th>\n",
       "      <th>...</th>\n",
       "      <th>log_y_max</th>\n",
       "      <th>log_h</th>\n",
       "      <th>log_w</th>\n",
       "      <th>tmp</th>\n",
       "      <th>plate_x_min</th>\n",
       "      <th>plate_y_min</th>\n",
       "      <th>plate_x_max</th>\n",
       "      <th>plate_y_max</th>\n",
       "      <th>plate_w</th>\n",
       "      <th>plate_h</th>\n",
       "    </tr>\n",
       "  </thead>\n",
       "  <tbody>\n",
       "    <tr>\n",
       "      <th>20</th>\n",
       "      <td>img_1880.jpg</td>\n",
       "      <td>1752.908569</td>\n",
       "      <td>1384.831055</td>\n",
       "      <td>2008.372803</td>\n",
       "      <td>1612.750488</td>\n",
       "      <td>0.726267</td>\n",
       "      <td>2.0</td>\n",
       "      <td>227.919434</td>\n",
       "      <td>255.464233</td>\n",
       "      <td>7.469032</td>\n",
       "      <td>...</td>\n",
       "      <td>7.385696</td>\n",
       "      <td>5.428992</td>\n",
       "      <td>5.543082</td>\n",
       "      <td>(126, 82, 147, 173)</td>\n",
       "      <td>126.0</td>\n",
       "      <td>82.0</td>\n",
       "      <td>147.0</td>\n",
       "      <td>173.0</td>\n",
       "      <td>21.0</td>\n",
       "      <td>91.0</td>\n",
       "    </tr>\n",
       "    <tr>\n",
       "      <th>423</th>\n",
       "      <td>img_1905.jpg</td>\n",
       "      <td>1982.508057</td>\n",
       "      <td>1276.362549</td>\n",
       "      <td>2253.098145</td>\n",
       "      <td>1504.149780</td>\n",
       "      <td>0.740427</td>\n",
       "      <td>2.0</td>\n",
       "      <td>227.787231</td>\n",
       "      <td>270.590088</td>\n",
       "      <td>7.592118</td>\n",
       "      <td>...</td>\n",
       "      <td>7.315983</td>\n",
       "      <td>5.428412</td>\n",
       "      <td>5.600605</td>\n",
       "      <td>(131, 132, 147, 196)</td>\n",
       "      <td>131.0</td>\n",
       "      <td>132.0</td>\n",
       "      <td>147.0</td>\n",
       "      <td>196.0</td>\n",
       "      <td>16.0</td>\n",
       "      <td>64.0</td>\n",
       "    </tr>\n",
       "    <tr>\n",
       "      <th>179</th>\n",
       "      <td>img_1879.jpg</td>\n",
       "      <td>1713.232666</td>\n",
       "      <td>1377.652100</td>\n",
       "      <td>1987.999878</td>\n",
       "      <td>1620.031494</td>\n",
       "      <td>0.700419</td>\n",
       "      <td>2.0</td>\n",
       "      <td>242.379395</td>\n",
       "      <td>274.767212</td>\n",
       "      <td>7.446137</td>\n",
       "      <td>...</td>\n",
       "      <td>7.390201</td>\n",
       "      <td>5.490504</td>\n",
       "      <td>5.615924</td>\n",
       "      <td>(130, 88, 153, 184)</td>\n",
       "      <td>130.0</td>\n",
       "      <td>88.0</td>\n",
       "      <td>153.0</td>\n",
       "      <td>184.0</td>\n",
       "      <td>23.0</td>\n",
       "      <td>96.0</td>\n",
       "    </tr>\n",
       "    <tr>\n",
       "      <th>44</th>\n",
       "      <td>img_2725.heic</td>\n",
       "      <td>1815.390503</td>\n",
       "      <td>1399.077637</td>\n",
       "      <td>2099.392578</td>\n",
       "      <td>1641.808838</td>\n",
       "      <td>0.886873</td>\n",
       "      <td>2.0</td>\n",
       "      <td>242.731201</td>\n",
       "      <td>284.002075</td>\n",
       "      <td>7.504056</td>\n",
       "      <td>...</td>\n",
       "      <td>7.403554</td>\n",
       "      <td>5.491955</td>\n",
       "      <td>5.648982</td>\n",
       "      <td>(162, 97, 185, 190)</td>\n",
       "      <td>162.0</td>\n",
       "      <td>97.0</td>\n",
       "      <td>185.0</td>\n",
       "      <td>190.0</td>\n",
       "      <td>23.0</td>\n",
       "      <td>93.0</td>\n",
       "    </tr>\n",
       "    <tr>\n",
       "      <th>511</th>\n",
       "      <td>img_2693.jpg</td>\n",
       "      <td>1740.548218</td>\n",
       "      <td>1383.143921</td>\n",
       "      <td>2042.839355</td>\n",
       "      <td>1647.748657</td>\n",
       "      <td>0.832143</td>\n",
       "      <td>2.0</td>\n",
       "      <td>264.604736</td>\n",
       "      <td>302.291138</td>\n",
       "      <td>7.461955</td>\n",
       "      <td>...</td>\n",
       "      <td>7.407165</td>\n",
       "      <td>5.578237</td>\n",
       "      <td>5.711391</td>\n",
       "      <td>(137, 96, 164, 204)</td>\n",
       "      <td>137.0</td>\n",
       "      <td>96.0</td>\n",
       "      <td>164.0</td>\n",
       "      <td>204.0</td>\n",
       "      <td>27.0</td>\n",
       "      <td>108.0</td>\n",
       "    </tr>\n",
       "  </tbody>\n",
       "</table>\n",
       "<p>5 rows × 22 columns</p>\n",
       "</div>"
      ],
      "text/plain": [
       "        image_name        x_min        y_min        x_max        y_max  \\\n",
       "20    img_1880.jpg  1752.908569  1384.831055  2008.372803  1612.750488   \n",
       "423   img_1905.jpg  1982.508057  1276.362549  2253.098145  1504.149780   \n",
       "179   img_1879.jpg  1713.232666  1377.652100  1987.999878  1620.031494   \n",
       "44   img_2725.heic  1815.390503  1399.077637  2099.392578  1641.808838   \n",
       "511   img_2693.jpg  1740.548218  1383.143921  2042.839355  1647.748657   \n",
       "\n",
       "         conf  class           h           w  log_x_min  ...  log_y_max  \\\n",
       "20   0.726267    2.0  227.919434  255.464233   7.469032  ...   7.385696   \n",
       "423  0.740427    2.0  227.787231  270.590088   7.592118  ...   7.315983   \n",
       "179  0.700419    2.0  242.379395  274.767212   7.446137  ...   7.390201   \n",
       "44   0.886873    2.0  242.731201  284.002075   7.504056  ...   7.403554   \n",
       "511  0.832143    2.0  264.604736  302.291138   7.461955  ...   7.407165   \n",
       "\n",
       "        log_h     log_w                   tmp  plate_x_min plate_y_min  \\\n",
       "20   5.428992  5.543082   (126, 82, 147, 173)        126.0        82.0   \n",
       "423  5.428412  5.600605  (131, 132, 147, 196)        131.0       132.0   \n",
       "179  5.490504  5.615924   (130, 88, 153, 184)        130.0        88.0   \n",
       "44   5.491955  5.648982   (162, 97, 185, 190)        162.0        97.0   \n",
       "511  5.578237  5.711391   (137, 96, 164, 204)        137.0        96.0   \n",
       "\n",
       "     plate_x_max  plate_y_max  plate_w  plate_h  \n",
       "20         147.0        173.0     21.0     91.0  \n",
       "423        147.0        196.0     16.0     64.0  \n",
       "179        153.0        184.0     23.0     96.0  \n",
       "44         185.0        190.0     23.0     93.0  \n",
       "511        164.0        204.0     27.0    108.0  \n",
       "\n",
       "[5 rows x 22 columns]"
      ]
     },
     "execution_count": 30,
     "metadata": {},
     "output_type": "execute_result"
    }
   ],
   "source": [
    "test_df.sort_values('w').head(5)"
   ]
  },
  {
   "cell_type": "code",
   "execution_count": 30,
   "id": "0f220965-b94e-4504-a2b9-e4c8baef0f95",
   "metadata": {
    "tags": []
   },
   "outputs": [],
   "source": [
    "#el = 92 # 394, 313, 314\n",
    "#name, x_min, y_min, x_max, y_max, dist = train_df.loc[el, ['image_name', 'x_min', 'y_min', 'x_max', 'y_max', 'distance']].values\n",
    "\n",
    "el = 122 # 143, 122, 32, 406\n",
    "name, x_min, y_min, x_max, y_max = test_df.loc[el, ['image_name', 'x_min', 'y_min', 'x_max', 'y_max']].values\n",
    "\n",
    "img = open_img(os.path.join(DIR_DATA_TEST, name))\n",
    "\n",
    "cv2.rectangle(img, \n",
    "              (int(x_min), int(y_min)), \n",
    "              (int(x_max), int(y_max)),\n",
    "              (255, 0, 0), \n",
    "              6,\n",
    "              #cv2.FILLED\n",
    "             )\n",
    "\n",
    "\n",
    "img = cv2.resize(img, [252*4, 252*3])\n",
    "\n",
    "cv2.imshow('bir error', img)\n",
    "cv2.waitKey(0)\n",
    "cv2.destroyAllWindows()"
   ]
  },
  {
   "cell_type": "code",
   "execution_count": null,
   "id": "7aca0b4a-956a-453b-9245-42097b2a00fc",
   "metadata": {},
   "outputs": [],
   "source": []
  },
  {
   "cell_type": "code",
   "execution_count": null,
   "id": "87d1dcc3-e804-4c10-b159-c20a7ea23f59",
   "metadata": {},
   "outputs": [],
   "source": []
  },
  {
   "cell_type": "code",
   "execution_count": null,
   "id": "5b59a1e1-ff65-48e1-868a-fe2241f77dcb",
   "metadata": {},
   "outputs": [],
   "source": []
  },
  {
   "cell_type": "markdown",
   "id": "40c64cd0-a0ef-41df-ada4-df2acd2eb6f4",
   "metadata": {},
   "source": [
    "Проверим метеданные фотографий"
   ]
  },
  {
   "cell_type": "code",
   "execution_count": null,
   "id": "58eb5b8c-4150-4b96-a310-8d5032633785",
   "metadata": {},
   "outputs": [],
   "source": []
  },
  {
   "cell_type": "code",
   "execution_count": 31,
   "id": "be95485a-b390-4fc6-bb61-06948c3a342a",
   "metadata": {},
   "outputs": [
    {
     "name": "stdout",
     "output_type": "stream",
     "text": [
      "GPSInfo                  : 2192\n",
      "ResolutionUnit           : 2\n",
      "ExifOffset               : 226\n",
      "Make                     : Apple\n",
      "Model                    : iPhone 11\n",
      "Software                 : 15.5\n",
      "Orientation              : 1\n",
      "DateTime                 : 2022:07:07 11:47:31\n",
      "YCbCrPositioning         : 1\n",
      "XResolution              : 72.0\n",
      "YResolution              : 72.0\n",
      "HostComputer             : iPhone 11\n"
     ]
    }
   ],
   "source": [
    "# open the image\n",
    "image = Image.open(os.path.join(DIR_DATA_TRAIN, train_jpg[0]))\n",
    "  \n",
    "# extracting the exif metadata\n",
    "exifdata = image.getexif()\n",
    "  \n",
    "# looping through all the tags present in exifdata\n",
    "for tagid in exifdata:\n",
    "      \n",
    "    # getting the tag name instead of tag id\n",
    "    tagname = TAGS.get(tagid, tagid)\n",
    "  \n",
    "    # passing the tagid to get its respective value\n",
    "    value = exifdata.get(tagid)\n",
    "    \n",
    "    # printing the final result\n",
    "    print(f\"{tagname:25}: {value}\")"
   ]
  },
  {
   "cell_type": "code",
   "execution_count": null,
   "id": "2983871f-2ea8-4819-9593-bb7591a1b5d4",
   "metadata": {},
   "outputs": [],
   "source": []
  },
  {
   "cell_type": "code",
   "execution_count": null,
   "id": "c3e63022-64ab-4610-9e6a-6bf88d86cb59",
   "metadata": {},
   "outputs": [],
   "source": []
  },
  {
   "cell_type": "code",
   "execution_count": null,
   "id": "9133aad8-341f-4fce-858d-6a260eb81618",
   "metadata": {},
   "outputs": [],
   "source": []
  },
  {
   "cell_type": "code",
   "execution_count": null,
   "id": "ed1b56d3-5beb-4452-951f-81c9e8859e00",
   "metadata": {},
   "outputs": [],
   "source": []
  },
  {
   "cell_type": "code",
   "execution_count": 33,
   "id": "54b95d6a-828c-42bd-bdf2-d2009b47a264",
   "metadata": {},
   "outputs": [],
   "source": [
    "colors = {0: (0, 0, 255), 1: (255, 0, 0), 2: (0, 255, 0), }"
   ]
  },
  {
   "cell_type": "code",
   "execution_count": 37,
   "id": "9cd54d25-dc82-4e29-a1b4-5f4c8698d4b5",
   "metadata": {},
   "outputs": [
    {
     "name": "stderr",
     "output_type": "stream",
     "text": [
      "Using cache found in C:\\Users\\_v010ch_/.cache\\torch\\hub\\ultralytics_yolov5_master\n",
      "YOLOv5  2022-8-3 Python-3.9.12 torch-1.12.1 CUDA:0 (GeForce GTX 1050 Ti, 4096MiB)\n",
      "\n",
      "Fusing layers... \n",
      "YOLOv5s summary: 213 layers, 7225885 parameters, 0 gradients\n",
      "Adding AutoShape... \n"
     ]
    }
   ],
   "source": [
    "import torch\n",
    "\n",
    "model = torch.hub.load('ultralytics/yolov5', 'yolov5s')\n",
    "model.classes = [0, 2]  # person and car\n",
    "\n",
    "_ = model.cpu()"
   ]
  },
  {
   "cell_type": "code",
   "execution_count": 38,
   "id": "54f31e5a-26bd-4a58-8303-274eeaabe43c",
   "metadata": {},
   "outputs": [],
   "source": [
    "# motion blur img_2733.heic, img_2734.heic\n",
    "# nearest img_2858.jpg\n",
    "# several cars img_2896.jpg, img_2885.jpg, !! img_2674.jpg, img_2660.jpg\n",
    "# part closed img_2723.jpg\n",
    "# left first img_2694.jpg\n",
    "# car by side img_2418.jpg, \n",
    "# construction on the roof img_1832.jpg\n",
    "# double car img_1621.jpg\n",
    "\n",
    "\n",
    "# !!!TEST with strange number\n",
    "\n",
    "# 'x_min', 'y_min', 'x_max', 'y_max', 'conf', 'class'"
   ]
  },
  {
   "cell_type": "code",
   "execution_count": 39,
   "id": "c4ed1524-5340-4d54-bbce-f380cf2447fb",
   "metadata": {},
   "outputs": [],
   "source": [
    "#img = open_img(os.path.join(DIR_DATA_TRAIN, 'img_2733.heic'))\n",
    "img = open_img(os.path.join(DIR_DATA_TRAIN, 'img_2674.jpg'))\n",
    "#results = model(np.array(img))\n",
    "results = model(img)"
   ]
  },
  {
   "cell_type": "code",
   "execution_count": 40,
   "id": "cc9cdb39-964f-4bd4-a478-ec8f70e7dc76",
   "metadata": {},
   "outputs": [
    {
     "data": {
      "text/plain": [
       "(0, 255, 0)"
      ]
     },
     "execution_count": 40,
     "metadata": {},
     "output_type": "execute_result"
    }
   ],
   "source": [
    "colors[results.xyxy[0][0][-1].int().item()]"
   ]
  },
  {
   "cell_type": "code",
   "execution_count": 41,
   "id": "4014f14b-55da-43a2-9d08-bd7fe5e20bba",
   "metadata": {},
   "outputs": [],
   "source": [
    "def get_car_center(inp_tensor: torch.Tensor) -> Tuple[int, int]:\n",
    "\n",
    "    car_cntr = (int((inp_tensor[2].int().item() - inp_tensor[0].int().item())/2 + inp_tensor[0].int().item()),\n",
    "                int((inp_tensor[3].int().item() - inp_tensor[1].int().item())/2 + inp_tensor[1].int().item())\n",
    "        )\n",
    "    \n",
    "    return car_cntr"
   ]
  },
  {
   "cell_type": "code",
   "execution_count": 42,
   "id": "2952f2dc-f00d-4baf-aa45-d039fc16c26e",
   "metadata": {},
   "outputs": [],
   "source": [
    "def get_center_dist(inp_center: Tuple[int, int], inp_point: Tuple[int, int]) -> float:\n",
    "    \n",
    "    return np.sqrt((inp_center[0] - inp_point[0])**2 + \\\n",
    "                   (inp_center[1] - inp_point[1])**2)"
   ]
  },
  {
   "cell_type": "code",
   "execution_count": 43,
   "id": "9bcaa366-9ad6-489e-bbab-acc78b12f20e",
   "metadata": {},
   "outputs": [],
   "source": [
    "def determine_targ_car(inp_results, inp_img_cntr: Tuple[int, int]) -> int:\n",
    "    \n",
    "    min_dist = 1000000\n",
    "    min_idx  = -1\n",
    "    \n",
    "    for el in range(inp_results.xyxy[0].shape[0]):\n",
    "        # учитываем только машины\n",
    "        if inp_results.xyxy[0][el][5].int().item() != 2:\n",
    "            continue\n",
    "            \n",
    "        # минимальные габариты учитываемых машин\n",
    "        # в противном случае иногда ближе к центру оказываются машины например 27х54\n",
    "        h = inp_results.xyxy[0][el][3] - inp_results.xyxy[0][el][1]\n",
    "        w = inp_results.xyxy[0][el][2] - inp_results.xyxy[0][el][0]\n",
    "        if w < 200 or h < 200:\n",
    "            continue\n",
    "            \n",
    "            \n",
    "        car_cntr = get_car_center(inp_results.xyxy[0][el])\n",
    "        cur_dist = get_center_dist(inp_img_cntr, car_cntr)\n",
    "        if cur_dist < min_dist:\n",
    "            min_dist = cur_dist\n",
    "            min_idx = el\n",
    "\n",
    "    return min_idx"
   ]
  },
  {
   "cell_type": "code",
   "execution_count": 44,
   "id": "3f4fcf3b-da93-4b01-b51a-5cb962f85886",
   "metadata": {},
   "outputs": [],
   "source": [
    "def get_aspect_ratio(inp_points: np.ndarray) -> float:\n",
    "    upper_len  = inp_points[1, 0, 0] - inp_points[0, 0, 0] \n",
    "    bottom_len = inp_points[2, 0, 0] - inp_points[3, 0, 0] \n",
    "    aver_len   = (upper_len + bottom_len)/2\n",
    "    \n",
    "    upper_hi  = inp_points[3, 0, 1] - inp_points[0, 0, 1] \n",
    "    bottom_hi = inp_points[2, 0, 1] - inp_points[1, 0, 1] \n",
    "    aver_hi   = (upper_hi + bottom_hi)/2\n",
    "    \n",
    "    return aver_hi / aver_len"
   ]
  },
  {
   "cell_type": "code",
   "execution_count": 45,
   "id": "b98ede8d-26c8-4ab6-9481-9238bc595ddc",
   "metadata": {},
   "outputs": [],
   "source": [
    "#def get_label_plate_features(inp_img: np.ndarray, inp_coords: np.ndarray) -> Tuple[np.ndarray, np.ndarray]:\n",
    "def get_label_plate_features(inp_img: np.ndarray, inp_coords: np.ndarray) -> List[float]:\n",
    "    \n",
    "    ret_lp_region   = np.zeros((4, 1, 2), dtype = np.int32)\n",
    "    ret_legal_plate = np.zeros((4, 1, 2), dtype = np.int32)\n",
    "    \n",
    "    #x_min, y_min, x_max, y_max, conf, class, \n",
    "    #sub_img = inp_img[int(inp_coords.y_min) : int(inp_coords.y_max),\n",
    "    #                  int(inp_coords.x_min) : int(inp_coords.x_max)\n",
    "    #                 ]\n",
    "    sub_img = inp_img[int(inp_coords[1]) : int(inp_coords[3]),\n",
    "                      int(inp_coords[0]) : int(inp_coords[2])\n",
    "                     ]\n",
    "    \n",
    "    # немного размываем что бы убрать лишние грани\n",
    "    sub_img = cv2.bilateralFilter(sub_img, 11, 17, 17) \n",
    "    \n",
    "    # детекрируем грани / контуры\n",
    "    #edged = cv2.Canny(sub_img, 30, 200) \n",
    "    edged = cv2.Canny(sub_img, 15, 400) \n",
    "    cnts,new = cv2.findContours(edged.copy(), cv2.RETR_LIST, cv2.CHAIN_APPROX_SIMPLE)\n",
    "    \n",
    "    # находим примерный контур номерного знака среди 10 самых больших контуров\n",
    "    # \n",
    "    cnts = sorted(cnts, key = cv2.contourArea, reverse = True) [:10]   \n",
    "    for idx, c in enumerate(cnts):\n",
    "        # вычисляем периметр контура. True - контур замкнутый\n",
    "        perimeter = cv2.arcLength(c, True)                     \n",
    "        approx = cv2.approxPolyDP(c, 0.018 * perimeter, True)  # \n",
    "        \n",
    "        # предполагаем, что если контур из 4х точек, что это вероятно номер\n",
    "        # так же учитываем соотношение сторон\n",
    "        # ??? ограничить угол???\n",
    "        if len(approx) == 4:  \n",
    "            ar = get_aspect_ratio(approx) \n",
    "            #print(idx, ar)\n",
    "            if ar < 0.85 and ar > 0.65:\n",
    "                #print('region ', idx, ar)\n",
    "                ret_lp_region = approx\n",
    "\n",
    "            if ar < 0.25 and ar > 0.15:\n",
    "                #print('legal plate ', idx, ar)\n",
    "                ret_legal_plate = approx\n",
    "                \n",
    "    return (ret_legal_plate, ret_lp_region)\n",
    "    \n",
    "    # извлекаем признаки из координат\n",
    "    #ret_legal_plate = get_lp_features_by_coord(ret_legal_plate)\n",
    "    #ret_lp_region   = get_lp_features_by_coord(ret_lp_region)\n",
    "    \n",
    "    #return ret_legal_plate + ret_lp_region"
   ]
  },
  {
   "cell_type": "code",
   "execution_count": null,
   "id": "64c56bae-addb-4774-9f5b-1fe769a62f67",
   "metadata": {},
   "outputs": [],
   "source": []
  },
  {
   "cell_type": "raw",
   "id": "4305f3df-e6f9-4e07-82cd-9ad3e8e18eb2",
   "metadata": {},
   "source": [
    "min = 1000000\n",
    "#img_cntr = (int(img.shape[0]/2), int(img.shape[1]/2))\n",
    "img_cntr = (int(img.shape[1]/2), int(img.shape[0]/2))\n",
    "\n",
    "\n",
    "for el in range(results.xyxy[0].shape[0]):\n",
    "    car_cntr = get_car_center(results.xyxy[0][el])\n",
    "    cur_dist = get_center_dist(img_cntr, car_cntr)\n",
    "    if cur_dist < min:\n",
    "        min = cur_dist\n",
    "        min_idx = el\n",
    "        \n",
    "print(min_idx)"
   ]
  },
  {
   "cell_type": "code",
   "execution_count": 46,
   "id": "ec1574a0-fc08-427f-90b9-2a1a2beb3d2f",
   "metadata": {},
   "outputs": [],
   "source": [
    "img_cntr = (int(img.shape[1]/2), int(img.shape[0]/2))\n",
    "target_goal = determine_targ_car(results, img_cntr)"
   ]
  },
  {
   "cell_type": "code",
   "execution_count": 47,
   "id": "4684e2c0-67bc-43c3-8f7d-c29814b9bc8f",
   "metadata": {},
   "outputs": [],
   "source": [
    "cv2.circle(img, img_cntr, 10, (0, 0, 255), 20)\n",
    "cv2.rectangle(img, \n",
    "              (results.xyxy[0][target_goal][0].int().item(), results.xyxy[0][target_goal][1].int().item()), \n",
    "             (results.xyxy[0][target_goal][2].int().item(), results.xyxy[0][target_goal][3].int().item()), \n",
    "             colors[results.xyxy[0][target_goal][-1].int().item()], 2)\n",
    "#image = cv.circle(image, centerOfCircle, radius, color, thickness)\n",
    "car_cntr = get_car_center(results.xyxy[0][target_goal])\n",
    "_ = cv2.circle(img, car_cntr, 10, (255, 0, 0), 20)"
   ]
  },
  {
   "cell_type": "raw",
   "id": "77c181fd-450d-4810-865d-b878927698b8",
   "metadata": {},
   "source": [
    "for el in range(results.xyxy[0].shape[0]):\n",
    "    cv2.rectangle(img, \n",
    "                  (results.xyxy[0][el][0].int().item(), results.xyxy[0][el][1].int().item()), \n",
    "                  (results.xyxy[0][el][2].int().item(), results.xyxy[0][el][3].int().item()), \n",
    "                  (255,0,0), 2\n",
    "                 )\n",
    "    #image = cv.circle(image, centerOfCircle, radius, color, thickness)\n",
    "    car_cntr = get_car_center(results.xyxy[0][el])\n",
    "    cv2.circle(img, car_cntr, 10, (255, 0, 0), 20)\n",
    "    \n",
    "    text_point = (results.xyxy[0][el][1].int().item(),\n",
    "                  results.xyxy[0][el][3].int().item()\n",
    "                 )\n",
    "                  \n",
    "    cv2.putText(img, f'car{el}', text_point, cv2.FONT_HERSHEY_SIMPLEX, 3, (255, 0, 0), 5)\n",
    "    \n",
    "    #break"
   ]
  },
  {
   "cell_type": "code",
   "execution_count": 48,
   "id": "98ea4909-9d2e-4f2a-924c-b415fdb721d5",
   "metadata": {},
   "outputs": [],
   "source": [
    "img = cv2.resize(img, [252*4, 252*3])\n",
    "               \n",
    "cv2.imshow('motion blur', img)\n",
    "cv2.waitKey(0)\n",
    "cv2.destroyAllWindows() "
   ]
  },
  {
   "cell_type": "code",
   "execution_count": 53,
   "id": "c2ec61ea-6d48-45cc-a513-b5fe5935b3ad",
   "metadata": {},
   "outputs": [
    {
     "ename": "NameError",
     "evalue": "name 'train_Df' is not defined",
     "output_type": "error",
     "traceback": [
      "\u001b[1;31m---------------------------------------------------------------------------\u001b[0m",
      "\u001b[1;31mNameError\u001b[0m                                 Traceback (most recent call last)",
      "Input \u001b[1;32mIn [53]\u001b[0m, in \u001b[0;36m<cell line: 1>\u001b[1;34m()\u001b[0m\n\u001b[1;32m----> 1\u001b[0m train_df[\u001b[43mtrain_Df\u001b[49m\u001b[38;5;241m.\u001b[39mimage_name \u001b[38;5;241m==\u001b[39m \u001b[38;5;124m'\u001b[39m\u001b[38;5;124mimage_2321.jpg\u001b[39m\u001b[38;5;124m'\u001b[39m]\n",
      "\u001b[1;31mNameError\u001b[0m: name 'train_Df' is not defined"
     ]
    }
   ],
   "source": [
    "train_df[train_Df.image_name == 'image_2321.jpg']"
   ]
  },
  {
   "cell_type": "code",
   "execution_count": null,
   "id": "a325d4e4-1b6e-4c18-82a8-866a19069c1e",
   "metadata": {},
   "outputs": [],
   "source": []
  },
  {
   "cell_type": "code",
   "execution_count": 57,
   "id": "e824c25d-4516-499f-82bf-f1c8c6cc3672",
   "metadata": {},
   "outputs": [
    {
     "name": "stderr",
     "output_type": "stream",
     "text": [
      "C:\\Users\\_v010ch_\\AppData\\Local\\Temp\\ipykernel_9956\\2132199754.py:10: RuntimeWarning: invalid value encountered in double_scalars\n",
      "  return aver_hi / aver_len\n",
      "C:\\Users\\_v010ch_\\AppData\\Local\\Temp\\ipykernel_9956\\2132199754.py:10: RuntimeWarning: invalid value encountered in double_scalars\n",
      "  return aver_hi / aver_len\n"
     ]
    }
   ],
   "source": [
    "tt = ['img_1927.jpg', 'img_2321.jpg', 'img_2577.jpg','img_2578.jpg','img_2579.jpg','img_2583.jpg','img_2694.jpg',]\n",
    "#for idx, el in enumerate(train_list[:10]):\n",
    "#for idx, el in enumerate(train_list[100:120]):\n",
    "for idx, el in enumerate(tt):\n",
    "    #img = open_img(os.path.join(DIR_DATA_TRAIN, el))\n",
    "    img = Image.open(os.path.join(DIR_DATA_TRAIN, el))\n",
    "    img = np.array(img)\n",
    "    \n",
    "    results = model(img)\n",
    "    \n",
    "    if results.xyxy[0].shape != torch.Size([0, 6]):\n",
    "        #print(results.xyxy[0].shape)\n",
    "        for obj in range(results.xyxy[0].shape[0]):\n",
    "            cv2.rectangle(img, \n",
    "                          (results.xyxy[0][obj][0].int().item(), results.xyxy[0][obj][1].int().item()), \n",
    "                          (results.xyxy[0][obj][2].int().item(), results.xyxy[0][obj][3].int().item()), \n",
    "                          colors[results.xyxy[0][obj][-1].int().item()], \n",
    "                          6,\n",
    "                          #cv2.FILLED\n",
    "                         )\n",
    "            #_ = cv2.circle(img, car_cntr, 10, (255, 0, 0), 20)\n",
    "            #print(obj)\n",
    "\n",
    "        img_cntr = (int(img.shape[1]/2), int(img.shape[0]/2))\n",
    "        target_goal = determine_targ_car(results, img_cntr)\n",
    "        #print(target_goal)\n",
    "\n",
    "        plate, reg = get_label_plate_features(img, results.xyxy[0][target_goal].numpy().tolist())\n",
    "        sub_img = img[results.xyxy[0][target_goal][1].int().item() : results.xyxy[0][target_goal][3].int().item(), \n",
    "                  results.xyxy[0][target_goal][0].int().item() : results.xyxy[0][target_goal][2].int().item()\n",
    "                 ]\n",
    "        cv2.drawContours(sub_img, [plate], -1, (255, 0, 0), 6)        \n",
    "        cv2.drawContours(sub_img, [reg], -1, (0, 0, 255), 6) \n",
    "\n",
    "        img[results.xyxy[0][target_goal][1].int().item() : results.xyxy[0][target_goal][3].int().item(), \n",
    "            results.xyxy[0][target_goal][0].int().item() : results.xyxy[0][target_goal][2].int().item()\n",
    "          ] = sub_img\n",
    "    \n",
    "        \n",
    "        \n",
    "        \n",
    "        \n",
    "        sub_img = img[results.xyxy[0][target_goal][1].int().item() : results.xyxy[0][target_goal][3].int().item(), \n",
    "                      results.xyxy[0][target_goal][0].int().item() : results.xyxy[0][target_goal][2].int().item()\n",
    "                     ]\n",
    "        white_rect = np.ones(sub_img.shape, dtype=np.uint8) * 255\n",
    "        res = cv2.addWeighted(sub_img, 0.5, white_rect, 0.5, 1.0)\n",
    "        \n",
    "        img[results.xyxy[0][target_goal][1].int().item() : results.xyxy[0][target_goal][3].int().item(), \n",
    "            results.xyxy[0][target_goal][0].int().item() : results.xyxy[0][target_goal][2].int().item()\n",
    "          ] = res\n",
    "        \n",
    "    \n",
    "    \n",
    "    cv2.circle(img, img_cntr, 10, (0, 0, 255), 20)\n",
    "    \n",
    "    img = cv2.resize(img, [252*4, 252*3])\n",
    "    #img = cv2.resize(img, [504*4, 504*3])    \n",
    "               \n",
    "    cv2.imshow(f'{idx} {el}', img)\n",
    "    cv2.waitKey(0)\n",
    "    cv2.destroyAllWindows() \n",
    "    \n",
    "    #break"
   ]
  },
  {
   "cell_type": "code",
   "execution_count": 89,
   "id": "549d2642-08ec-486b-b3b9-799fcf2fe139",
   "metadata": {},
   "outputs": [
    {
     "data": {
      "text/plain": [
       "array([[[251, 289]],\n",
       "\n",
       "       [[434, 293]],\n",
       "\n",
       "       [[437, 338]],\n",
       "\n",
       "       [[253, 333]]], dtype=int32)"
      ]
     },
     "execution_count": 89,
     "metadata": {},
     "output_type": "execute_result"
    }
   ],
   "source": [
    "plate"
   ]
  },
  {
   "cell_type": "code",
   "execution_count": 50,
   "id": "2b588c6e-d9ee-4ccc-8dce-645a49506ecd",
   "metadata": {},
   "outputs": [
    {
     "name": "stdout",
     "output_type": "stream",
     "text": [
      "1183 1761\n",
      "1694 2283\n"
     ]
    }
   ],
   "source": [
    "print(results.xyxy[0][target_goal][1].int().item(), results.xyxy[0][target_goal][3].int().item(), )\n",
    "print(results.xyxy[0][target_goal][0].int().item(), results.xyxy[0][target_goal][2].int().item())"
   ]
  },
  {
   "cell_type": "code",
   "execution_count": 51,
   "id": "f7f3e334-afcf-4734-a903-082b79235d6d",
   "metadata": {},
   "outputs": [
    {
     "ename": "error",
     "evalue": "OpenCV(4.6.0) D:\\a\\opencv-python\\opencv-python\\opencv\\modules\\imgproc\\src\\resize.cpp:4052: error: (-215:Assertion failed) !ssize.empty() in function 'cv::resize'\n",
     "output_type": "error",
     "traceback": [
      "\u001b[1;31m---------------------------------------------------------------------------\u001b[0m",
      "\u001b[1;31merror\u001b[0m                                     Traceback (most recent call last)",
      "Input \u001b[1;32mIn [51]\u001b[0m, in \u001b[0;36m<cell line: 5>\u001b[1;34m()\u001b[0m\n\u001b[0;32m      1\u001b[0m sub_img \u001b[38;5;241m=\u001b[39m img[results\u001b[38;5;241m.\u001b[39mxyxy[\u001b[38;5;241m0\u001b[39m][target_goal][\u001b[38;5;241m1\u001b[39m]\u001b[38;5;241m.\u001b[39mint()\u001b[38;5;241m.\u001b[39mitem() : results\u001b[38;5;241m.\u001b[39mxyxy[\u001b[38;5;241m0\u001b[39m][target_goal][\u001b[38;5;241m3\u001b[39m]\u001b[38;5;241m.\u001b[39mint()\u001b[38;5;241m.\u001b[39mitem(), \n\u001b[0;32m      2\u001b[0m               results\u001b[38;5;241m.\u001b[39mxyxy[\u001b[38;5;241m0\u001b[39m][target_goal][\u001b[38;5;241m0\u001b[39m]\u001b[38;5;241m.\u001b[39mint()\u001b[38;5;241m.\u001b[39mitem() : results\u001b[38;5;241m.\u001b[39mxyxy[\u001b[38;5;241m0\u001b[39m][target_goal][\u001b[38;5;241m2\u001b[39m]\u001b[38;5;241m.\u001b[39mint()\u001b[38;5;241m.\u001b[39mitem()\n\u001b[0;32m      3\u001b[0m              ]\n\u001b[1;32m----> 5\u001b[0m sub_img \u001b[38;5;241m=\u001b[39m \u001b[43mcv2\u001b[49m\u001b[38;5;241;43m.\u001b[39;49m\u001b[43mresize\u001b[49m\u001b[43m(\u001b[49m\u001b[43msub_img\u001b[49m\u001b[43m,\u001b[49m\u001b[43m \u001b[49m\u001b[43m[\u001b[49m\u001b[38;5;241;43m252\u001b[39;49m\u001b[38;5;241;43m*\u001b[39;49m\u001b[38;5;241;43m4\u001b[39;49m\u001b[43m,\u001b[49m\u001b[43m \u001b[49m\u001b[38;5;241;43m252\u001b[39;49m\u001b[38;5;241;43m*\u001b[39;49m\u001b[38;5;241;43m3\u001b[39;49m\u001b[43m]\u001b[49m\u001b[43m)\u001b[49m\n\u001b[0;32m      6\u001b[0m \u001b[38;5;66;03m#img = cv2.resize(img, [504*4, 504*3])    \u001b[39;00m\n\u001b[0;32m      8\u001b[0m cv2\u001b[38;5;241m.\u001b[39mimshow(\u001b[38;5;124mf\u001b[39m\u001b[38;5;124m'\u001b[39m\u001b[38;5;124mtt\u001b[39m\u001b[38;5;124m'\u001b[39m, sub_img)\n",
      "\u001b[1;31merror\u001b[0m: OpenCV(4.6.0) D:\\a\\opencv-python\\opencv-python\\opencv\\modules\\imgproc\\src\\resize.cpp:4052: error: (-215:Assertion failed) !ssize.empty() in function 'cv::resize'\n"
     ]
    }
   ],
   "source": [
    "sub_img = img[results.xyxy[0][target_goal][1].int().item() : results.xyxy[0][target_goal][3].int().item(), \n",
    "              results.xyxy[0][target_goal][0].int().item() : results.xyxy[0][target_goal][2].int().item()\n",
    "             ]\n",
    "\n",
    "sub_img = cv2.resize(sub_img, [252*4, 252*3])\n",
    "#img = cv2.resize(img, [504*4, 504*3])    \n",
    "\n",
    "cv2.imshow(f'tt', sub_img)\n",
    "cv2.waitKey(0)\n",
    "cv2.destroyAllWindows() "
   ]
  },
  {
   "cell_type": "code",
   "execution_count": 47,
   "id": "16497d63-a9fb-4635-9c8d-cb7a3acd16ed",
   "metadata": {},
   "outputs": [
    {
     "data": {
      "text/plain": [
       "array([], shape=(0, 0, 3), dtype=uint8)"
      ]
     },
     "execution_count": 47,
     "metadata": {},
     "output_type": "execute_result"
    }
   ],
   "source": [
    "sub_img"
   ]
  },
  {
   "cell_type": "code",
   "execution_count": 59,
   "id": "6ac7e433-f180-49a9-8d5a-e0234c1c2122",
   "metadata": {},
   "outputs": [],
   "source": [
    "train_df = pd.read_csv(os.path.join(DIR_DATA, 'train_upd.csv'))"
   ]
  },
  {
   "cell_type": "code",
   "execution_count": 71,
   "id": "ba52ffd2-b122-4992-b113-6c79f7bc810a",
   "metadata": {},
   "outputs": [
    {
     "data": {
      "text/plain": [
       "array(['img_1927.jpg'], dtype=object)"
      ]
     },
     "execution_count": 71,
     "metadata": {},
     "output_type": "execute_result"
    }
   ],
   "source": [
    "tmp99.image_name.values[0]"
   ]
  },
  {
   "cell_type": "code",
   "execution_count": 72,
   "id": "71cb5cb8-eeb8-4f18-a9d0-8bcf0248ac61",
   "metadata": {},
   "outputs": [],
   "source": [
    "tt = ['img_1927.jpg', 'img_2321.jpg', 'img_2577.jpg','img_2578.jpg','img_2579.jpg','img_2583.jpg','img_2694.jpg',]\n",
    "for el in tt:\n",
    "    tmp99 = train_df[train_df.image_name == el]\n",
    "    \n",
    "    img = Image.open(os.path.join(DIR_DATA_TRAIN, tmp99.image_name.values[0]))\n",
    "    img = np.array(img)\n",
    "    \n",
    "    sub_img = img[int(tmp99.y_min) : int(tmp99.y_max),\n",
    "                  int(tmp99.x_min) : int(tmp99.x_max)\n",
    "                 ]\n",
    "\n",
    "    sub_img = cv2.resize(sub_img, [252*4, 252*3])\n",
    "    #img = cv2.resize(img, [504*4, 504*3])    \n",
    "\n",
    "    cv2.imshow(f'tt', sub_img)\n",
    "    cv2.waitKey(0)\n",
    "    cv2.destroyAllWindows() \n",
    "    \n",
    "    "
   ]
  },
  {
   "cell_type": "code",
   "execution_count": 67,
   "id": "7ba1ad0b-1aed-4070-8d9f-4b02c74a6466",
   "metadata": {},
   "outputs": [
    {
     "data": {
      "text/plain": [
       "165    1437.810425\n",
       "Name: y_min, dtype: float64"
      ]
     },
     "execution_count": 67,
     "metadata": {},
     "output_type": "execute_result"
    }
   ],
   "source": [
    "tmp99.y_min"
   ]
  },
  {
   "cell_type": "code",
   "execution_count": null,
   "id": "76ea89cd-40f4-4f3d-85c0-f756499fb5da",
   "metadata": {},
   "outputs": [],
   "source": []
  }
 ],
 "metadata": {
  "kernelspec": {
   "display_name": "Python 3 (ipykernel)",
   "language": "python",
   "name": "python3"
  },
  "language_info": {
   "codemirror_mode": {
    "name": "ipython",
    "version": 3
   },
   "file_extension": ".py",
   "mimetype": "text/x-python",
   "name": "python",
   "nbconvert_exporter": "python",
   "pygments_lexer": "ipython3",
   "version": "3.9.12"
  }
 },
 "nbformat": 4,
 "nbformat_minor": 5
}
