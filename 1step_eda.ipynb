{
 "cells": [
  {
   "cell_type": "code",
   "execution_count": 1,
   "id": "5d22b73a-5090-4493-85f8-05f3564458fa",
   "metadata": {},
   "outputs": [],
   "source": [
    "import cv2\n",
    "import pillow_heif\n",
    "\n",
    "from PIL import Image\n",
    "from PIL.ExifTags import TAGS"
   ]
  },
  {
   "cell_type": "code",
   "execution_count": 2,
   "id": "a545f3e3-d496-40de-af2f-35f168e80d35",
   "metadata": {},
   "outputs": [
    {
     "name": "stderr",
     "output_type": "stream",
     "text": [
      "C:\\Users\\_v010ch_\\Anaconda3\\envs\\uly22\\lib\\site-packages\\tqdm\\auto.py:22: TqdmWarning: IProgress not found. Please update jupyter and ipywidgets. See https://ipywidgets.readthedocs.io/en/stable/user_install.html\n",
      "  from .autonotebook import tqdm as notebook_tqdm\n"
     ]
    }
   ],
   "source": [
    "import os\n",
    "from collections import Counter\n",
    "from typing import Tuple\n",
    "\n",
    "import pandas as pd\n",
    "import numpy as np\n",
    "\n",
    "from tqdm.auto import tqdm\n",
    "tqdm.pandas()"
   ]
  },
  {
   "cell_type": "code",
   "execution_count": 3,
   "id": "d68ff608-8b5b-4b85-bcd7-fa21099a0b8d",
   "metadata": {},
   "outputs": [],
   "source": [
    "#import seaborn as sns"
   ]
  },
  {
   "cell_type": "code",
   "execution_count": 4,
   "id": "75ec6609-10b6-462d-813b-97acedd29657",
   "metadata": {},
   "outputs": [],
   "source": [
    "import matplotlib"
   ]
  },
  {
   "cell_type": "code",
   "execution_count": 5,
   "id": "50cdcbd0-23d1-4634-b14e-4831d351ec89",
   "metadata": {},
   "outputs": [],
   "source": [
    "#!pip list"
   ]
  },
  {
   "cell_type": "code",
   "execution_count": null,
   "id": "101f22aa-740d-44be-9593-335a61b82ba7",
   "metadata": {},
   "outputs": [],
   "source": []
  },
  {
   "cell_type": "code",
   "execution_count": null,
   "id": "df7963e2-5f15-4174-bc83-cdc185ecb76c",
   "metadata": {},
   "outputs": [],
   "source": []
  },
  {
   "cell_type": "code",
   "execution_count": 6,
   "id": "a3caec19-bd2b-4a77-b2a4-eecd0d9c8bec",
   "metadata": {},
   "outputs": [],
   "source": [
    "DIR_DATA = os.path.join(os.getcwd(), 'data')\n",
    "DIR_DATA_TRAIN = os.path.join(DIR_DATA, 'train')\n",
    "DIR_DATA_TEST  = os.path.join(DIR_DATA, 'test')"
   ]
  },
  {
   "cell_type": "code",
   "execution_count": null,
   "id": "11de462b-34ad-4172-b2ca-ebd08149f690",
   "metadata": {},
   "outputs": [],
   "source": []
  },
  {
   "cell_type": "code",
   "execution_count": 7,
   "id": "a9b48601-bd0e-4458-b5a2-f12abd4e5180",
   "metadata": {},
   "outputs": [],
   "source": [
    "def open_img(inp_path: str) -> np.ndarray:\n",
    "    \n",
    "    if inp_path.endswith('.jpg'):\n",
    "        ret_img = cv2.imread(inp_path)\n",
    "    else:\n",
    "        if pillow_heif.is_supported(inp_path):\n",
    "            heif_file = pillow_heif.open_heif(inp_path, convert_hdr_to_8bit=False)\n",
    "            #print(\"image mode:\", heif_file.mode)\n",
    "            #print(\"image data length:\", len(heif_file.data))\n",
    "            #print(\"image data stride:\", heif_file.stride)\n",
    "            if heif_file.has_alpha:\n",
    "                heif_file.convert_to(\"BGRA;16\")\n",
    "            else:\n",
    "                heif_file.convert_to(\"BGR;16\")  # convert 10 bit image to RGB 16 bit.\n",
    "            #print(\"image mode:\", heif_file.mode)\n",
    "            ret_img = np.asarray(heif_file)\n",
    "    \n",
    "    return ret_img"
   ]
  },
  {
   "cell_type": "code",
   "execution_count": null,
   "id": "17b31d4c-7aca-4cf0-9be8-0a2ae42b415b",
   "metadata": {},
   "outputs": [],
   "source": []
  },
  {
   "cell_type": "code",
   "execution_count": null,
   "id": "a5263d2d-fcf5-4fb4-8748-8ebab443fb92",
   "metadata": {},
   "outputs": [],
   "source": []
  },
  {
   "cell_type": "markdown",
   "id": "a8fc0fa6-b7f4-4ac8-9aaa-b5e4394584ea",
   "metadata": {},
   "source": [
    "## Загрузка данных"
   ]
  },
  {
   "cell_type": "code",
   "execution_count": 8,
   "id": "2882a305-c1c1-46ec-a2ab-066fdee3cc06",
   "metadata": {},
   "outputs": [],
   "source": [
    "train_list = os.listdir(DIR_DATA_TRAIN)\n",
    "test_list  = os.listdir(DIR_DATA_TEST)\n",
    "\n",
    "train_heic = [el for el in train_list if el.endswith('.heic')]\n",
    "test_heic  = [el for el in test_list  if el.endswith('.heic')]\n",
    "\n",
    "train_jpg = [el for el in train_list if el.endswith('.jpg')]\n",
    "test_jpg  = [el for el in test_list if el.endswith('.jpg')]\n",
    "\n",
    "fnames_train = set([el.split('.')[0] for el in train_list])\n",
    "fnames_test  = set([el.split('.')[0] for el in test_list])"
   ]
  },
  {
   "cell_type": "code",
   "execution_count": 9,
   "id": "1be35cf1-1514-4101-b80a-e87d41794cf5",
   "metadata": {},
   "outputs": [],
   "source": [
    "#print(Counter([el.split('.')[1] for el in train_list]))\n",
    "#print(Counter([el.split('.')[1] for el in test_list]))"
   ]
  },
  {
   "cell_type": "code",
   "execution_count": null,
   "id": "f20d4f7c-d31c-435b-9e1f-bc58fe30bf59",
   "metadata": {},
   "outputs": [],
   "source": []
  },
  {
   "cell_type": "code",
   "execution_count": 10,
   "id": "bd9a9b8c-2846-4f1e-920d-305d424c65a7",
   "metadata": {},
   "outputs": [
    {
     "data": {
      "text/plain": [
       "(530, 2)"
      ]
     },
     "execution_count": 10,
     "metadata": {},
     "output_type": "execute_result"
    }
   ],
   "source": [
    "train_df = pd.read_csv(os.path.join(DIR_DATA, 'train.csv'), delimiter = ';')\n",
    "train_df.shape"
   ]
  },
  {
   "cell_type": "code",
   "execution_count": 11,
   "id": "78e81bf5-1830-45f0-9147-81d003fbe9c5",
   "metadata": {},
   "outputs": [
    {
     "data": {
      "text/html": [
       "<div>\n",
       "<style scoped>\n",
       "    .dataframe tbody tr th:only-of-type {\n",
       "        vertical-align: middle;\n",
       "    }\n",
       "\n",
       "    .dataframe tbody tr th {\n",
       "        vertical-align: top;\n",
       "    }\n",
       "\n",
       "    .dataframe thead th {\n",
       "        text-align: right;\n",
       "    }\n",
       "</style>\n",
       "<table border=\"1\" class=\"dataframe\">\n",
       "  <thead>\n",
       "    <tr style=\"text-align: right;\">\n",
       "      <th></th>\n",
       "      <th>image_name</th>\n",
       "      <th>distance</th>\n",
       "    </tr>\n",
       "  </thead>\n",
       "  <tbody>\n",
       "    <tr>\n",
       "      <th>0</th>\n",
       "      <td>img_1596.jpg</td>\n",
       "      <td>4.88</td>\n",
       "    </tr>\n",
       "    <tr>\n",
       "      <th>1</th>\n",
       "      <td>img_1600.jpg</td>\n",
       "      <td>1.54</td>\n",
       "    </tr>\n",
       "    <tr>\n",
       "      <th>2</th>\n",
       "      <td>img_1601.jpg</td>\n",
       "      <td>3.68</td>\n",
       "    </tr>\n",
       "    <tr>\n",
       "      <th>3</th>\n",
       "      <td>img_1603.jpg</td>\n",
       "      <td>2.22</td>\n",
       "    </tr>\n",
       "    <tr>\n",
       "      <th>4</th>\n",
       "      <td>img_1605.jpg</td>\n",
       "      <td>3.73</td>\n",
       "    </tr>\n",
       "  </tbody>\n",
       "</table>\n",
       "</div>"
      ],
      "text/plain": [
       "     image_name  distance\n",
       "0  img_1596.jpg      4.88\n",
       "1  img_1600.jpg      1.54\n",
       "2  img_1601.jpg      3.68\n",
       "3  img_1603.jpg      2.22\n",
       "4  img_1605.jpg      3.73"
      ]
     },
     "execution_count": 11,
     "metadata": {},
     "output_type": "execute_result"
    }
   ],
   "source": [
    "train_df.head()"
   ]
  },
  {
   "cell_type": "code",
   "execution_count": 12,
   "id": "dbc59f08-1c20-4af5-b152-a67f3aebdd18",
   "metadata": {},
   "outputs": [
    {
     "data": {
      "text/plain": [
       "1    530\n",
       "dtype: int64"
      ]
     },
     "execution_count": 12,
     "metadata": {},
     "output_type": "execute_result"
    }
   ],
   "source": [
    "train_df.groupby('image_name').agg('size').value_counts()"
   ]
  },
  {
   "cell_type": "code",
   "execution_count": null,
   "id": "a9fa05c1-8a85-411a-b5b0-0fd6fb6391c4",
   "metadata": {},
   "outputs": [],
   "source": []
  },
  {
   "cell_type": "code",
   "execution_count": null,
   "id": "780bd232-48db-4d52-a464-3fdd9386ceed",
   "metadata": {},
   "outputs": [],
   "source": []
  },
  {
   "cell_type": "markdown",
   "id": "9ecaddbf-d748-4e36-aaac-177d344fedcd",
   "metadata": {},
   "source": [
    "Посмотрим на размеры"
   ]
  },
  {
   "cell_type": "raw",
   "id": "ff1d6f7f-381f-46cc-974b-56d8400f803d",
   "metadata": {},
   "source": [
    "%%time\n",
    "#tmp = [fl for fl in train_list if fl.endswith('.jpg')]\n",
    "#sizes = [cv2.imread(os.path.join(DIR_DATA_TRAIN, el )).shape \\\n",
    "sizes = [open_img(os.path.join(DIR_DATA_TRAIN, el )).shape \\\n",
    "         for el in tqdm(train_list)]\n",
    "Counter(sizes)"
   ]
  },
  {
   "cell_type": "raw",
   "id": "ba2392f1-fb13-4d6d-8ed4-ffe1f2eaaa11",
   "metadata": {},
   "source": [
    "Counter({(3024, 4032, 3): 529, (4032, 3024, 3): 1})"
   ]
  },
  {
   "cell_type": "raw",
   "id": "554f32d6-c7e0-4458-963d-878d5c3a12ad",
   "metadata": {},
   "source": [
    "%%time\n",
    "#tmp = [fl for fl in test_list if fl.endswith('.jpg')]\n",
    "#sizes = [cv2.imread(os.path.join(DIR_DATA_TEST, el )).shape \\\n",
    "sizes = [open_img(os.path.join(DIR_DATA_TEST, el )).shape \\\n",
    "         for el in tqdm(test_list)]\n",
    "Counter(sizes)"
   ]
  },
  {
   "cell_type": "raw",
   "id": "72e88c59-61f7-45bf-99bc-f138cb2ca55d",
   "metadata": {},
   "source": [
    "Counter({(3024, 4032, 3): 519, (4032, 3024, 3): 2})"
   ]
  },
  {
   "cell_type": "code",
   "execution_count": null,
   "id": "fc16c748-fb56-4d92-bc96-9637675dd87e",
   "metadata": {},
   "outputs": [],
   "source": []
  },
  {
   "cell_type": "markdown",
   "id": "4cae0d1f-ba1c-4076-bd7b-c46dbc8ec597",
   "metadata": {},
   "source": [
    "Посмотрим на мин и макс"
   ]
  },
  {
   "cell_type": "code",
   "execution_count": 15,
   "id": "c72e6f28-57e5-46a6-8be8-f497dcf01d9f",
   "metadata": {},
   "outputs": [
    {
     "data": {
      "text/plain": [
       "91     9.38\n",
       "260    9.06\n",
       "80     8.80\n",
       "90     8.78\n",
       "368    8.74\n",
       "Name: distance, dtype: float64"
      ]
     },
     "execution_count": 15,
     "metadata": {},
     "output_type": "execute_result"
    }
   ],
   "source": [
    "train_df.distance.nlargest(5)"
   ]
  },
  {
   "cell_type": "code",
   "execution_count": 16,
   "id": "2ac091e1-d1dc-48fa-82d2-f708f64414bc",
   "metadata": {},
   "outputs": [
    {
     "data": {
      "text/plain": [
       "480    0.85\n",
       "124    1.06\n",
       "479    1.09\n",
       "19     1.12\n",
       "199    1.16\n",
       "Name: distance, dtype: float64"
      ]
     },
     "execution_count": 16,
     "metadata": {},
     "output_type": "execute_result"
    }
   ],
   "source": [
    "train_df.distance.nsmallest(5)"
   ]
  },
  {
   "cell_type": "code",
   "execution_count": 17,
   "id": "f1d6a0a0-baa7-4501-8b25-e4e18ecea9e8",
   "metadata": {},
   "outputs": [
    {
     "name": "stdout",
     "output_type": "stream",
     "text": [
      "min  0.85    img_2858.jpg\n",
      "max  9.38    img_2724.heic\n"
     ]
    }
   ],
   "source": [
    "print('min ', train_df.distance[train_df.distance.argmin()], '  ', train_df.image_name[train_df.distance.argmin()])\n",
    "print('max ', train_df.distance[train_df.distance.argmax()], '  ', train_df.image_name[train_df.distance.argmax()])"
   ]
  },
  {
   "cell_type": "code",
   "execution_count": 18,
   "id": "311bcb34-60c0-446a-95b6-528edf840128",
   "metadata": {},
   "outputs": [],
   "source": [
    "#img = open_img(os.path.join(DIR_DATA_TRAIN, train_df.image_name[train_df.distance.argmin()]))\n",
    "img = open_img(os.path.join(DIR_DATA_TRAIN, train_df.image_name[train_df.distance.argmax()]))\n",
    "#img = cv2.resize(img, [504*4, 504*3])\n",
    "img = cv2.resize(img, [252*4, 252*3])\n",
    "cv2.imshow('random', img)\n",
    "cv2.waitKey(0)\n",
    "cv2.destroyAllWindows() "
   ]
  },
  {
   "cell_type": "code",
   "execution_count": null,
   "id": "82d742f0-c5cd-4fb9-9786-a231470aa4dd",
   "metadata": {},
   "outputs": [],
   "source": []
  },
  {
   "cell_type": "code",
   "execution_count": null,
   "id": "561f4cb8-9079-4b07-b77d-a33851fdeaa1",
   "metadata": {},
   "outputs": [],
   "source": []
  },
  {
   "cell_type": "code",
   "execution_count": null,
   "id": "674cd99e-5ec9-4406-a679-a647ca7fb3f4",
   "metadata": {},
   "outputs": [],
   "source": []
  },
  {
   "cell_type": "code",
   "execution_count": 19,
   "id": "eea60e3b-9175-44ca-a7a2-9a952186673b",
   "metadata": {},
   "outputs": [],
   "source": [
    "train_df['ext'] = train_df.image_name.apply(lambda x: x.split('.')[1])"
   ]
  },
  {
   "cell_type": "code",
   "execution_count": 20,
   "id": "4990adbb-f6f1-4a9b-a3af-19c107e7273f",
   "metadata": {},
   "outputs": [
    {
     "data": {
      "text/plain": [
       "<AxesSubplot:>"
      ]
     },
     "execution_count": 20,
     "metadata": {},
     "output_type": "execute_result"
    },
    {
     "data": {
      "image/png": "[encoded data removed]",
      "text/plain": [
       "<Figure size 432x288 with 1 Axes>"
      ]
     },
     "metadata": {
      "needs_background": "light"
     },
     "output_type": "display_data"
    }
   ],
   "source": [
    "train_df.distance.hist(bins = 15)"
   ]
  },
  {
   "cell_type": "code",
   "execution_count": 21,
   "id": "4ca4aeec-a81d-47cb-93d4-e12734141a8f",
   "metadata": {},
   "outputs": [],
   "source": [
    "# 520 x 112\n",
    "# 245 x 160\n",
    "# 290 х 170"
   ]
  },
  {
   "cell_type": "code",
   "execution_count": null,
   "id": "4756550f-2ae1-43bb-acf3-d9e53a99afc1",
   "metadata": {},
   "outputs": [],
   "source": []
  },
  {
   "cell_type": "markdown",
   "id": "6e1a82d9-c786-44f1-afa1-3a15737ebda2",
   "metadata": {},
   "source": [
    "Посмотрим пересечение датасетов"
   ]
  },
  {
   "cell_type": "code",
   "execution_count": 22,
   "id": "e64adaf4-933b-4b42-ab07-4f3f83677ec8",
   "metadata": {},
   "outputs": [
    {
     "data": {
      "text/plain": [
       "44"
      ]
     },
     "execution_count": 22,
     "metadata": {},
     "output_type": "execute_result"
    }
   ],
   "source": [
    "tmp = list(fnames_train.intersection(fnames_test))\n",
    "len(tmp)"
   ]
  },
  {
   "cell_type": "code",
   "execution_count": null,
   "id": "1f851155-720d-4e4c-944a-2de7884e942e",
   "metadata": {},
   "outputs": [],
   "source": [
    "for idx, el in enumerate(tmp):\n",
    "    if os.path.exists(os.path.join(DIR_DATA_TRAIN, f'{el}.jpg')):\n",
    "        img_train = open_img(os.path.join(DIR_DATA_TRAIN, f'{el}.jpg'))\n",
    "    else:\n",
    "        img_train = open_img(os.path.join(DIR_DATA_TRAIN, f'{el}.heic'))\n",
    "        \n",
    "    if os.path.exists(os.path.join(DIR_DATA_TEST, f'{el}.jpg')):\n",
    "        img_test = open_img(os.path.join(DIR_DATA_TEST, f'{el}.jpg'))\n",
    "    else:\n",
    "        img_test = open_img(os.path.join(DIR_DATA_TEST, f'{el}.heic'))\n",
    "        \n",
    "    img_train = cv2.resize(img_train, [252*4, 252*3])\n",
    "    img_test  = cv2.resize(img_test, [252*4, 252*3])\n",
    "\n",
    "    img = np.concatenate((img_train, img_test), axis = 1)\n",
    "    \n",
    "    cv2.imshow(f'{idx}   {el}', img)\n",
    "    cv2.waitKey(0)\n",
    "    cv2.destroyAllWindows()     \n",
    "    "
   ]
  },
  {
   "cell_type": "code",
   "execution_count": null,
   "id": "d8be3b63-bdce-4c6e-bae7-d6f2e4059d49",
   "metadata": {},
   "outputs": [],
   "source": []
  },
  {
   "cell_type": "markdown",
   "id": "d1caeb62-e7d3-411b-a689-536e51c96082",
   "metadata": {},
   "source": [
    "Смазанные фото"
   ]
  },
  {
   "cell_type": "code",
   "execution_count": null,
   "id": "47864082-102b-4921-8374-e134f561c5fd",
   "metadata": {},
   "outputs": [],
   "source": [
    "#for el in train_heic:\n",
    "for el in test_heic:\n",
    "    #img = open_img(os.path.join(DIR_DATA_TRAIN, el))\n",
    "    img = open_img(os.path.join(DIR_DATA_TEST, el))\n",
    "    img = cv2.resize(img, [252*4, 252*3])\n",
    "\n",
    "    cv2.imshow(f'motion blur {el}', img)\n",
    "    cv2.waitKey(0)\n",
    "    cv2.destroyAllWindows() "
   ]
  },
  {
   "cell_type": "code",
   "execution_count": null,
   "id": "fe558652-146b-46eb-8f07-1b9ce54ab050",
   "metadata": {},
   "outputs": [],
   "source": [
    "motion_blur_train = ['img_2709.heic', 'img_2733.heic', 'img_2734.heic']    # 'img_2734.heic' возможно рабочий \n",
    "motion_blur_test  = ['img_2674.heic']"
   ]
  },
  {
   "cell_type": "code",
   "execution_count": null,
   "id": "6777d34d-0848-4174-ae8f-b64d8dffdfed",
   "metadata": {},
   "outputs": [],
   "source": [
    "img = open_img(os.path.join(DIR_DATA_TRAIN, 'img_2745.heic'))\n",
    "#img = open_img(os.path.join(DIR_DATA_TEST, motion_blur_test[0]))\n",
    "img = cv2.resize(img, [252*4, 252*3])\n",
    "               \n",
    "cv2.imshow('motion blur', img)\n",
    "cv2.waitKey(0)\n",
    "cv2.destroyAllWindows() "
   ]
  },
  {
   "cell_type": "code",
   "execution_count": null,
   "id": "4cd421dd-7889-40ee-b988-2b0105ed11b2",
   "metadata": {},
   "outputs": [],
   "source": []
  },
  {
   "cell_type": "code",
   "execution_count": 37,
   "id": "09002fcc-47cb-4812-b823-826d71686285",
   "metadata": {},
   "outputs": [],
   "source": []
  },
  {
   "cell_type": "markdown",
   "id": "40c64cd0-a0ef-41df-ada4-df2acd2eb6f4",
   "metadata": {},
   "source": [
    "Проверим метеданные фотографий"
   ]
  },
  {
   "cell_type": "code",
   "execution_count": null,
   "id": "58eb5b8c-4150-4b96-a310-8d5032633785",
   "metadata": {},
   "outputs": [],
   "source": []
  },
  {
   "cell_type": "code",
   "execution_count": 44,
   "id": "be95485a-b390-4fc6-bb61-06948c3a342a",
   "metadata": {},
   "outputs": [
    {
     "name": "stdout",
     "output_type": "stream",
     "text": [
      "GPSInfo                  : 2192\n",
      "ResolutionUnit           : 2\n",
      "ExifOffset               : 226\n",
      "Make                     : Apple\n",
      "Model                    : iPhone 11\n",
      "Software                 : 15.5\n",
      "Orientation              : 1\n",
      "DateTime                 : 2022:07:07 11:02:48\n",
      "YCbCrPositioning         : 1\n",
      "XResolution              : 72.0\n",
      "YResolution              : 72.0\n",
      "HostComputer             : iPhone 11\n"
     ]
    }
   ],
   "source": [
    "# open the image\n",
    "image = Image.open(os.path.join(DIR_DATA_TRAIN, train_jpg[0]))\n",
    "  \n",
    "# extracting the exif metadata\n",
    "exifdata = image.getexif()\n",
    "  \n",
    "# looping through all the tags present in exifdata\n",
    "for tagid in exifdata:\n",
    "      \n",
    "    # getting the tag name instead of tag id\n",
    "    tagname = TAGS.get(tagid, tagid)\n",
    "  \n",
    "    # passing the tagid to get its respective value\n",
    "    value = exifdata.get(tagid)\n",
    "    \n",
    "    # printing the final result\n",
    "    print(f\"{tagname:25}: {value}\")"
   ]
  },
  {
   "cell_type": "code",
   "execution_count": null,
   "id": "2983871f-2ea8-4819-9593-bb7591a1b5d4",
   "metadata": {},
   "outputs": [],
   "source": []
  },
  {
   "cell_type": "code",
   "execution_count": null,
   "id": "c3e63022-64ab-4610-9e6a-6bf88d86cb59",
   "metadata": {},
   "outputs": [],
   "source": []
  },
  {
   "cell_type": "code",
   "execution_count": null,
   "id": "9133aad8-341f-4fce-858d-6a260eb81618",
   "metadata": {},
   "outputs": [],
   "source": []
  },
  {
   "cell_type": "code",
   "execution_count": null,
   "id": "ed1b56d3-5beb-4452-951f-81c9e8859e00",
   "metadata": {},
   "outputs": [],
   "source": []
  },
  {
   "cell_type": "code",
   "execution_count": null,
   "id": "54b95d6a-828c-42bd-bdf2-d2009b47a264",
   "metadata": {},
   "outputs": [],
   "source": []
  },
  {
   "cell_type": "code",
   "execution_count": 438,
   "id": "9cd54d25-dc82-4e29-a1b4-5f4c8698d4b5",
   "metadata": {},
   "outputs": [
    {
     "name": "stderr",
     "output_type": "stream",
     "text": [
      "Using cache found in C:\\Users\\_v010ch_/.cache\\torch\\hub\\ultralytics_yolov5_master\n",
      "YOLOv5  2022-8-3 Python-3.10.4 torch-1.12.0 CUDA:0 (GeForce GTX 1050 Ti, 4096MiB)\n",
      "\n",
      "Fusing layers... \n",
      "YOLOv5s summary: 213 layers, 7225885 parameters, 0 gradients\n",
      "Adding AutoShape... \n"
     ]
    }
   ],
   "source": [
    "import torch\n",
    "\n",
    "model = torch.hub.load('ultralytics/yolov5', 'yolov5s')\n",
    "model.classes = [0, 2]  # person and car\n",
    "\n",
    "_ = model.cpu()"
   ]
  },
  {
   "cell_type": "code",
   "execution_count": 439,
   "id": "54f31e5a-26bd-4a58-8303-274eeaabe43c",
   "metadata": {},
   "outputs": [],
   "source": [
    "# motion blur img_2733.heic, img_2734.heic\n",
    "# nearest img_2858.jpg\n",
    "# several cars img_2896.jpg, img_2885.jpg, !! img_2674.jpg, img_2660.jpg\n",
    "# part closed img_2723.jpg\n",
    "# left first img_2694.jpg\n",
    "# car by side img_2418.jpg, \n",
    "# construction on the roof img_1832.jpg\n",
    "# double car img_1621.jpg\n",
    "\n",
    "\n",
    "# !!!TEST with strange number\n",
    "\n",
    "# 'x_min', 'y_min', 'x_max', 'y_max', 'conf', 'class'"
   ]
  },
  {
   "cell_type": "code",
   "execution_count": 440,
   "id": "c4ed1524-5340-4d54-bbce-f380cf2447fb",
   "metadata": {},
   "outputs": [],
   "source": [
    "#img = open_img(os.path.join(DIR_DATA_TRAIN, 'img_2733.heic'))\n",
    "img = open_img(os.path.join(DIR_DATA_TRAIN, 'img_2674.jpg'))\n",
    "#results = model(np.array(img))\n",
    "results = model(img)"
   ]
  },
  {
   "cell_type": "code",
   "execution_count": 441,
   "id": "4014f14b-55da-43a2-9d08-bd7fe5e20bba",
   "metadata": {},
   "outputs": [],
   "source": [
    "def get_car_center(inp_tensor: torch.Tensor) -> Tuple[int, int]:\n",
    "    \n",
    "    #car_cntr = (int((inp_tensor.xyxy[0][el][2].int().item() - inp_tensor.xyxy[0][el][0].int().item())/2 + inp_tensor.xyxy[0][el][0].int().item()),\n",
    "    #            int((inp_tensor.xyxy[0][el][3].int().item() - inp_tensor.xyxy[0][el][1].int().item())/2 + inp_tensor.xyxy[0][el][1].int().item())\n",
    "    #    )\n",
    "\n",
    "    car_cntr = (int((inp_tensor[2].int().item() - inp_tensor[0].int().item())/2 + inp_tensor[0].int().item()),\n",
    "                int((inp_tensor[3].int().item() - inp_tensor[1].int().item())/2 + inp_tensor[1].int().item())\n",
    "        )\n",
    "    \n",
    "    return car_cntr"
   ]
  },
  {
   "cell_type": "code",
   "execution_count": 442,
   "id": "2952f2dc-f00d-4baf-aa45-d039fc16c26e",
   "metadata": {},
   "outputs": [],
   "source": [
    "def get_center_dist(inp_center: Tuple[int, int], inp_point: Tuple[int, int]) -> float:\n",
    "    \n",
    "    return np.sqrt((inp_center[0] - inp_point[0])**2 + \\\n",
    "                   (inp_center[1] - inp_point[1])**2)"
   ]
  },
  {
   "cell_type": "code",
   "execution_count": 443,
   "id": "9bcaa366-9ad6-489e-bbab-acc78b12f20e",
   "metadata": {},
   "outputs": [],
   "source": [
    "def determine_targ_car(inp_results, inp_img_cntr) -> int:\n",
    "    \n",
    "    min = 1000000\n",
    "\n",
    "    for el in range(inp_results.xyxy[0].shape[0]):\n",
    "        car_cntr = get_car_center(inp_results.xyxy[0][el])\n",
    "        cur_dist = get_center_dist(inp_img_cntr, car_cntr)\n",
    "        if cur_dist < min:\n",
    "            min = cur_dist\n",
    "            min_idx = el\n",
    "\n",
    "    #print(min_idx)\n",
    "    return min_idx"
   ]
  },
  {
   "cell_type": "raw",
   "id": "4305f3df-e6f9-4e07-82cd-9ad3e8e18eb2",
   "metadata": {},
   "source": [
    "min = 1000000\n",
    "#img_cntr = (int(img.shape[0]/2), int(img.shape[1]/2))\n",
    "img_cntr = (int(img.shape[1]/2), int(img.shape[0]/2))\n",
    "\n",
    "\n",
    "for el in range(results.xyxy[0].shape[0]):\n",
    "    car_cntr = get_car_center(results.xyxy[0][el])\n",
    "    cur_dist = get_center_dist(img_cntr, car_cntr)\n",
    "    if cur_dist < min:\n",
    "        min = cur_dist\n",
    "        min_idx = el\n",
    "        \n",
    "print(min_idx)"
   ]
  },
  {
   "cell_type": "code",
   "execution_count": 444,
   "id": "ec1574a0-fc08-427f-90b9-2a1a2beb3d2f",
   "metadata": {},
   "outputs": [
    {
     "name": "stdout",
     "output_type": "stream",
     "text": [
      "4\n"
     ]
    }
   ],
   "source": [
    "img_cntr = (int(img.shape[1]/2), int(img.shape[0]/2))\n",
    "target_goal = determine_targ_car(results, img_cntr)"
   ]
  },
  {
   "cell_type": "code",
   "execution_count": 445,
   "id": "4684e2c0-67bc-43c3-8f7d-c29814b9bc8f",
   "metadata": {},
   "outputs": [],
   "source": [
    "cv2.circle(img, img_cntr, 10, (0, 0, 255), 20)\n",
    "cv2.rectangle(img, \n",
    "              (results.xyxy[0][target_goal][0].int().item(), results.xyxy[0][target_goal][1].int().item()), \n",
    "             (results.xyxy[0][target_goal][2].int().item(), results.xyxy[0][target_goal][3].int().item()), \n",
    "             (255,0,0), 2)\n",
    "#image = cv.circle(image, centerOfCircle, radius, color, thickness)\n",
    "car_cntr = get_car_center(results.xyxy[0][target_goal])\n",
    "_ = cv2.circle(img, car_cntr, 10, (255, 0, 0), 20)"
   ]
  },
  {
   "cell_type": "raw",
   "id": "77c181fd-450d-4810-865d-b878927698b8",
   "metadata": {},
   "source": [
    "for el in range(results.xyxy[0].shape[0]):\n",
    "    cv2.rectangle(img, \n",
    "                  (results.xyxy[0][el][0].int().item(), results.xyxy[0][el][1].int().item()), \n",
    "                  (results.xyxy[0][el][2].int().item(), results.xyxy[0][el][3].int().item()), \n",
    "                  (255,0,0), 2\n",
    "                 )\n",
    "    #image = cv.circle(image, centerOfCircle, radius, color, thickness)\n",
    "    car_cntr = get_car_center(results.xyxy[0][el])\n",
    "    cv2.circle(img, car_cntr, 10, (255, 0, 0), 20)\n",
    "    \n",
    "    text_point = (results.xyxy[0][el][1].int().item(),\n",
    "                  results.xyxy[0][el][3].int().item()\n",
    "                 )\n",
    "                  \n",
    "    cv2.putText(img, f'car{el}', text_point, cv2.FONT_HERSHEY_SIMPLEX, 3, (255, 0, 0), 5)\n",
    "    \n",
    "    #break"
   ]
  },
  {
   "cell_type": "code",
   "execution_count": 446,
   "id": "98ea4909-9d2e-4f2a-924c-b415fdb721d5",
   "metadata": {},
   "outputs": [],
   "source": [
    "img = cv2.resize(img, [252*4, 252*3])\n",
    "               \n",
    "cv2.imshow('motion blur', img)\n",
    "cv2.waitKey(0)\n",
    "cv2.destroyAllWindows() "
   ]
  },
  {
   "cell_type": "code",
   "execution_count": null,
   "id": "c2ec61ea-6d48-45cc-a513-b5fe5935b3ad",
   "metadata": {},
   "outputs": [],
   "source": []
  },
  {
   "cell_type": "code",
   "execution_count": null,
   "id": "a325d4e4-1b6e-4c18-82a8-866a19069c1e",
   "metadata": {},
   "outputs": [],
   "source": []
  },
  {
   "cell_type": "code",
   "execution_count": null,
   "id": "e824c25d-4516-499f-82bf-f1c8c6cc3672",
   "metadata": {},
   "outputs": [],
   "source": []
  }
 ],
 "metadata": {
  "kernelspec": {
   "display_name": "uly22",
   "language": "python",
   "name": "uly22"
  },
  "language_info": {
   "codemirror_mode": {
    "name": "ipython",
    "version": 3
   },
   "file_extension": ".py",
   "mimetype": "text/x-python",
   "name": "python",
   "nbconvert_exporter": "python",
   "pygments_lexer": "ipython3",
   "version": "3.10.4"
  }
 },
 "nbformat": 4,
 "nbformat_minor": 5
}
