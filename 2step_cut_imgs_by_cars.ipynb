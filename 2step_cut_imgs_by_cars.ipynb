{
 "cells": [
  {
   "cell_type": "code",
   "execution_count": 1,
   "id": "b60ac80b-32da-465f-b2cd-d19ed76f9eb8",
   "metadata": {},
   "outputs": [
    {
     "name": "stdout",
     "output_type": "stream",
     "text": [
      "Last updated: 2022-08-25T16:24:27.374171+03:00\n",
      "\n",
      "Python implementation: CPython\n",
      "Python version       : 3.10.4\n",
      "IPython version      : 8.4.0\n",
      "\n",
      "Compiler    : GCC 7.5.0\n",
      "OS          : Linux\n",
      "Release     : 5.15.0-46-generic\n",
      "Machine     : x86_64\n",
      "Processor   : x86_64\n",
      "CPU cores   : 8\n",
      "Architecture: 64bit\n",
      "\n"
     ]
    }
   ],
   "source": [
    "%load_ext watermark\n",
    "%watermark"
   ]
  },
  {
   "cell_type": "code",
   "execution_count": 2,
   "id": "0370fe87-52ca-4923-aca2-e2e45ea4bb80",
   "metadata": {},
   "outputs": [],
   "source": [
    "import time\n",
    "notebookstart= time.time()"
   ]
  },
  {
   "cell_type": "code",
   "execution_count": null,
   "id": "1c21553d-faf0-46d7-92cd-7798980ba0b9",
   "metadata": {},
   "outputs": [],
   "source": []
  },
  {
   "cell_type": "code",
   "execution_count": 3,
   "id": "4009f40e-0ce1-4793-a7a2-97a8bbcac49f",
   "metadata": {},
   "outputs": [
    {
     "name": "stderr",
     "output_type": "stream",
     "text": [
      "/home/v010ch/anaconda3/envs/cardist22/lib/python3.10/site-packages/tqdm/auto.py:22: TqdmWarning: IProgress not found. Please update jupyter and ipywidgets. See https://ipywidgets.readthedocs.io/en/stable/user_install.html\n",
      "  from .autonotebook import tqdm as notebook_tqdm\n"
     ]
    }
   ],
   "source": [
    "import torch\n",
    "import os\n",
    "from typing import List, Tuple, Optional\n",
    "\n",
    "import pandas as pd\n",
    "import numpy as np\n",
    "\n",
    "from PIL import Image\n",
    "from pillow_heif import register_heif_opener\n",
    "register_heif_opener() # for using Image.open for .heic without changes\n",
    "\n",
    "from tqdm.auto import tqdm\n",
    "tqdm.pandas()"
   ]
  },
  {
   "cell_type": "code",
   "execution_count": 15,
   "id": "e5766936-d2ae-4a16-83ae-bd0bf05d95ea",
   "metadata": {},
   "outputs": [],
   "source": [
    "import cv2"
   ]
  },
  {
   "cell_type": "code",
   "execution_count": 4,
   "id": "a8733273-a8e3-47a3-bd5a-971a78a65148",
   "metadata": {},
   "outputs": [
    {
     "name": "stdout",
     "output_type": "stream",
     "text": [
      "pandas: 1.4.3\n",
      "PIL   : 9.2.0\n",
      "numpy : 1.23.2\n",
      "torch : 1.12.1\n",
      "\n"
     ]
    }
   ],
   "source": [
    "%watermark --iversions"
   ]
  },
  {
   "cell_type": "code",
   "execution_count": null,
   "id": "5732a971-024c-40bf-a611-708b78be8d51",
   "metadata": {},
   "outputs": [],
   "source": []
  },
  {
   "cell_type": "code",
   "execution_count": null,
   "id": "4c984a08-2ddb-44a5-8b15-6f65c0e0f70b",
   "metadata": {},
   "outputs": [],
   "source": []
  },
  {
   "cell_type": "code",
   "execution_count": 5,
   "id": "483813e4-3bae-4848-8d35-6906836388ad",
   "metadata": {},
   "outputs": [],
   "source": [
    "# seed the RNG for all devices (both CPU and CUDA)\n",
    "#torch.manual_seed(1984)\n",
    "\n",
    "#Disabling the benchmarking feature causes cuDNN to deterministically select an algorithm, \n",
    "#possibly at the cost of reduced performance.\n",
    "#torch.backends.cudnn.benchmark = False\n",
    "\n",
    "# for custom operators,\n",
    "import random\n",
    "random.seed(5986721)\n",
    "\n",
    "# \n",
    "np.random.seed(62185)\n",
    "\n",
    "#sklearn take seed from a line abowe\n",
    "\n",
    "CB_RANDOMSEED  = 309487\n",
    "XGB_RANDOMSEED = 56\n",
    "LGB_RANDOMSEED = 874256"
   ]
  },
  {
   "cell_type": "code",
   "execution_count": null,
   "id": "30def6e0-2c63-44f1-9174-e0ef447a8bd2",
   "metadata": {},
   "outputs": [],
   "source": []
  },
  {
   "cell_type": "code",
   "execution_count": 6,
   "id": "4e7f0eeb-36aa-4906-9fee-29943dabef41",
   "metadata": {},
   "outputs": [],
   "source": [
    "DIR_DATA = os.path.join(os.getcwd(), 'data')\n",
    "DIR_SUBM = os.path.join(os.getcwd(), 'subm')\n",
    "DIR_SUBM_TRAIN = os.path.join(os.getcwd(), 'subm', 'train')\n",
    "DIR_DATA_TRAIN = os.path.join(DIR_DATA, 'train')\n",
    "DIR_DATA_TEST  = os.path.join(DIR_DATA, 'test')\n",
    "\n",
    "\n",
    "DIR_DATA_TRAIN_LP = os.path.join(DIR_DATA, 'train', 'lp')"
   ]
  },
  {
   "cell_type": "code",
   "execution_count": null,
   "id": "aefe0276-e30f-4eb8-b0f0-26f0e81ecd81",
   "metadata": {},
   "outputs": [],
   "source": []
  },
  {
   "cell_type": "code",
   "execution_count": null,
   "id": "1ad8450c-d534-47e5-bbb9-89e16d13ddc6",
   "metadata": {},
   "outputs": [],
   "source": []
  },
  {
   "cell_type": "code",
   "execution_count": 7,
   "id": "39306e0f-b506-479d-af9f-444c7a5ac812",
   "metadata": {},
   "outputs": [],
   "source": [
    "def get_car_center(inp_tensor: torch.Tensor) -> Tuple[int, int]:\n",
    "\n",
    "    car_cntr = (int((inp_tensor[2].int().item() - inp_tensor[0].int().item())/2 + inp_tensor[0].int().item()),\n",
    "                int((inp_tensor[3].int().item() - inp_tensor[1].int().item())/2 + inp_tensor[1].int().item())\n",
    "        )\n",
    "    \n",
    "    return car_cntr"
   ]
  },
  {
   "cell_type": "code",
   "execution_count": 8,
   "id": "f79262eb-7d75-41ad-8b7d-31d87887b963",
   "metadata": {},
   "outputs": [],
   "source": [
    "def get_center_dist(inp_center: Tuple[int, int], inp_point: Tuple[int, int]) -> float:\n",
    "    \n",
    "    return np.sqrt((inp_center[0] - inp_point[0])**2 + \\\n",
    "                   (inp_center[1] - inp_point[1])**2)"
   ]
  },
  {
   "cell_type": "code",
   "execution_count": 9,
   "id": "dcb2716c-5ff8-4243-8c3d-486e6f1b681d",
   "metadata": {},
   "outputs": [],
   "source": [
    "def determine_targ_car(inp_results, inp_img_cntr: Tuple[int, int]) -> int:\n",
    "    \n",
    "    min_dist = 1000000\n",
    "    min_idx  = -1\n",
    "    \n",
    "    for el in range(inp_results.xyxy[0].shape[0]):\n",
    "        # учитываем только машины\n",
    "        if inp_results.xyxy[0][el][5].int().item() != 2:\n",
    "            continue\n",
    "            \n",
    "        # минимальные габариты учитываемых машин\n",
    "        # в противном случае иногда ближе к центру оказываются машины например 27х54\n",
    "        h = inp_results.xyxy[0][el][3] - inp_results.xyxy[0][el][1]\n",
    "        w = inp_results.xyxy[0][el][2] - inp_results.xyxy[0][el][0]\n",
    "        if w < 200 or h < 200:\n",
    "            continue\n",
    "            \n",
    "            \n",
    "        car_cntr = get_car_center(inp_results.xyxy[0][el])\n",
    "        cur_dist = get_center_dist(inp_img_cntr, car_cntr)\n",
    "        if cur_dist < min_dist:\n",
    "            min_dist = cur_dist\n",
    "            min_idx = el\n",
    "\n",
    "    return min_idx"
   ]
  },
  {
   "cell_type": "code",
   "execution_count": 17,
   "id": "63a22829-85f8-495a-8c66-c714f215b3d3",
   "metadata": {},
   "outputs": [],
   "source": [
    "colors = {0: (0, 0, 255), 1: (255, 0, 0), 2: (0, 255, 0), }"
   ]
  },
  {
   "cell_type": "code",
   "execution_count": null,
   "id": "765bee71-3bc6-4bd0-884a-086794d2d50b",
   "metadata": {},
   "outputs": [],
   "source": []
  },
  {
   "cell_type": "code",
   "execution_count": 11,
   "id": "6e22728b-ab4f-479a-a9ef-ce2f1876fbde",
   "metadata": {},
   "outputs": [],
   "source": [
    "train_list = os.listdir(DIR_DATA_TRAIN)\n",
    "test_list  = os.listdir(DIR_DATA_TEST)"
   ]
  },
  {
   "cell_type": "code",
   "execution_count": 13,
   "id": "532d4a30-8e30-4688-932b-7a3f6fa0cf63",
   "metadata": {},
   "outputs": [
    {
     "name": "stderr",
     "output_type": "stream",
     "text": [
      "Using cache found in /home/v010ch/.cache/torch/hub/ultralytics_yolov5_master\n",
      "YOLOv5 🚀 2022-8-25 Python-3.10.4 torch-1.12.1+cu102 CUDA:0 (NVIDIA GeForce GTX 1050 Ti, 4037MiB)\n",
      "\n",
      "Fusing layers... \n",
      "YOLOv5s summary: 213 layers, 7225885 parameters, 0 gradients\n",
      "Adding AutoShape... \n"
     ]
    }
   ],
   "source": [
    "model = torch.hub.load('ultralytics/yolov5', 'yolov5s')\n",
    "model.classes = [0, 2]  # person and car\n",
    "\n",
    "_ = model.cpu()"
   ]
  },
  {
   "cell_type": "code",
   "execution_count": 28,
   "id": "aeab0fe4-09c1-4f17-a38d-b6f391847972",
   "metadata": {},
   "outputs": [
    {
     "name": "stderr",
     "output_type": "stream",
     "text": [
      "521it [02:46,  3.12it/s]\n"
     ]
    }
   ],
   "source": [
    "#global_car_index = 0\n",
    "global_car_index = 1500\n",
    "\n",
    "#for (idx, el) in tqdm(enumerate(train_list[:10])):\n",
    "#for (idx, el) in tqdm(enumerate(train_list)):\n",
    "for (idx, el) in tqdm(enumerate(test_list)):\n",
    "    #img = open_img(os.path.join(DIR_DATA_TRAIN, el))\n",
    "    img = Image.open(os.path.join(DIR_DATA_TEST, el))\n",
    "    img = np.array(img)\n",
    "    \n",
    "    ims_to_save = img.copy()\n",
    "    \n",
    "    results = model(img)\n",
    "    \n",
    "    if results.xyxy[0].shape != torch.Size([0, 6]):\n",
    "        #print(results.xyxy[0].shape)\n",
    "        for obj in range(results.xyxy[0].shape[0]):\n",
    "            cv2.rectangle(img, \n",
    "                          (results.xyxy[0][obj][0].int().item(), results.xyxy[0][obj][1].int().item()), \n",
    "                          (results.xyxy[0][obj][2].int().item(), results.xyxy[0][obj][3].int().item()), \n",
    "                          colors[results.xyxy[0][obj][-1].int().item()], \n",
    "                          6,\n",
    "                          #cv2.FILLED\n",
    "                         )\n",
    "            #_ = cv2.circle(img, car_cntr, 10, (255, 0, 0), 20)\n",
    "            #print(obj)\n",
    "\n",
    "        img_cntr = (int(img.shape[1]/2), int(img.shape[0]/2))\n",
    "        target_goal = determine_targ_car(results, img_cntr)\n",
    "        #print(target_goal)\n",
    "        \n",
    "        \n",
    "        \n",
    "        for obj in range(results.xyxy[0].shape[0]):\n",
    "            if obj != target_goal:\n",
    "                sub_img = ims_to_save[results.xyxy[0][obj][1].int().item() : results.xyxy[0][obj][3].int().item(), \n",
    "                                      results.xyxy[0][obj][0].int().item() : results.xyxy[0][obj][2].int().item()\n",
    "                                     ]\n",
    "                Image.fromarray(sub_img).save(os.path.join(DIR_DATA_TRAIN_LP, f'car_{global_car_index}.jpg'))\n",
    "                global_car_index += 1\n",
    "                #np.save(sub_img, os.path.join(DIR_DATA_TRAIN_LP, f'car_{global_car_index}.jpg'))\n",
    "        \n",
    "tt = '''\n",
    "        sub_img = img[results.xyxy[0][target_goal][1].int().item() : results.xyxy[0][target_goal][3].int().item(), \n",
    "                      results.xyxy[0][target_goal][0].int().item() : results.xyxy[0][target_goal][2].int().item()\n",
    "                     ]\n",
    "        white_rect = np.ones(sub_img.shape, dtype=np.uint8) * 255\n",
    "        res = cv2.addWeighted(sub_img, 0.5, white_rect, 0.5, 1.0)\n",
    "        \n",
    "        img[results.xyxy[0][target_goal][1].int().item() : results.xyxy[0][target_goal][3].int().item(), \n",
    "            results.xyxy[0][target_goal][0].int().item() : results.xyxy[0][target_goal][2].int().item()\n",
    "          ] = res\n",
    "        \n",
    "    \n",
    "    \n",
    "    cv2.circle(img, img_cntr, 10, (0, 0, 255), 20)\n",
    "    \n",
    "    img = cv2.resize(img, [252*4, 252*3])\n",
    "    #img = cv2.resize(img, [504*4, 504*3])    \n",
    "               \n",
    "    cv2.imshow(f'{idx} {el}', img)\n",
    "    cv2.waitKey(0)\n",
    "    cv2.destroyAllWindows() \n",
    "    '''\n",
    "    #break"
   ]
  },
  {
   "cell_type": "code",
   "execution_count": null,
   "id": "45db06bf-3e1b-4156-ae3e-93621ebba551",
   "metadata": {},
   "outputs": [],
   "source": []
  }
 ],
 "metadata": {
  "kernelspec": {
   "display_name": "cardist22",
   "language": "python",
   "name": "cardist22"
  },
  "language_info": {
   "codemirror_mode": {
    "name": "ipython",
    "version": 3
   },
   "file_extension": ".py",
   "mimetype": "text/x-python",
   "name": "python",
   "nbconvert_exporter": "python",
   "pygments_lexer": "ipython3",
   "version": "3.10.4"
  }
 },
 "nbformat": 4,
 "nbformat_minor": 5
}
